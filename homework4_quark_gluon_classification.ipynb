{
 "cells": [
  {
   "cell_type": "markdown",
   "metadata": {
    "slideshow": {
     "slide_type": "slide"
    }
   },
   "source": [
    "# 手写数字识别与夸克、胶子喷注分类\n",
    "\n",
    "庞龙刚@华中师范大学"
   ]
  },
  {
   "cell_type": "markdown",
   "metadata": {
    "slideshow": {
     "slide_type": "slide"
    }
   },
   "source": [
    "## 学习目标\n",
    "\n",
    "1. 接触成熟的机器学习库 tensorflow，keras\n",
    "2. 使用 keras 构建简单的手写数字识别代码\n",
    "3. 使用深度神经网络分类 Quark 与 Gluon 喷注"
   ]
  },
  {
   "cell_type": "markdown",
   "metadata": {
    "slideshow": {
     "slide_type": "slide"
    }
   },
   "source": [
    "## 学习内容\n",
    "\n",
    "1. 简单的手写数字识别，内容基于 keras 例子代码：https://keras.io/examples/vision/mnist_convnet/ \n",
    "2. 将此卷积神经网络 (convolution neural network) 用作夸克胶子喷注分类任务"
   ]
  },
  {
   "cell_type": "code",
   "execution_count": 1,
   "metadata": {
    "slideshow": {
     "slide_type": "slide"
    }
   },
   "outputs": [],
   "source": [
    "import numpy as np\n",
    "from tqdm import tqdm\n",
    "from tensorflow import keras\n",
    "from tensorflow.keras import layers\n",
    "import matplotlib.pyplot as plt"
   ]
  },
  {
   "cell_type": "markdown",
   "metadata": {
    "slideshow": {
     "slide_type": "slide"
    }
   },
   "source": [
    "### 准备数据\n",
    "\n",
    "手写数字识别任务：深度学习界的 “hello world”\n",
    "\n",
    "目标：对手写数字 0 到 9 共 10 个数字进行识别\n",
    "\n",
    "训练样本：60000 个\n",
    "\n",
    "测试样本：10000 个\n",
    "\n",
    "每个样本： 28 * 28 个像素， 一个标签（0-9）"
   ]
  },
  {
   "cell_type": "code",
   "execution_count": 2,
   "metadata": {
    "scrolled": true,
    "slideshow": {
     "slide_type": "slide"
    }
   },
   "outputs": [
    {
     "name": "stdout",
     "output_type": "stream",
     "text": [
      "x_train shape: (60000, 28, 28, 1)\n",
      "60000 train samples\n",
      "10000 test samples\n"
     ]
    }
   ],
   "source": [
    "# Model / data parameters\n",
    "num_classes = 10\n",
    "input_shape = (28, 28, 1)\n",
    "\n",
    "# the data, split between train and test sets\n",
    "(x_train, y_train), (x_test, y_test) = keras.datasets.mnist.load_data()\n",
    "\n",
    "# Scale images to the [0, 1] range\n",
    "x_train = x_train.astype(\"float32\") / 255\n",
    "x_test = x_test.astype(\"float32\") / 255\n",
    "# Make sure images have shape (28, 28, 1)\n",
    "x_train = np.expand_dims(x_train, -1)\n",
    "x_test = np.expand_dims(x_test, -1)\n",
    "print(\"x_train shape:\", x_train.shape)\n",
    "print(x_train.shape[0], \"train samples\")\n",
    "print(x_test.shape[0], \"test samples\")\n",
    "\n",
    "\n",
    "# convert class vectors to binary class matrices\n",
    "y_train = keras.utils.to_categorical(y_train, num_classes)\n",
    "y_test = keras.utils.to_categorical(y_test, num_classes)"
   ]
  },
  {
   "cell_type": "code",
   "execution_count": 3,
   "metadata": {
    "slideshow": {
     "slide_type": "slide"
    }
   },
   "outputs": [
    {
     "data": {
      "text/plain": [
       "(60000, 28, 28, 1)"
      ]
     },
     "execution_count": 3,
     "metadata": {},
     "output_type": "execute_result"
    }
   ],
   "source": [
    "x_train.shape\n",
    "#plt.imshow(x_train[])"
   ]
  },
  {
   "cell_type": "code",
   "execution_count": 4,
   "metadata": {
    "scrolled": true,
    "slideshow": {
     "slide_type": "slide"
    }
   },
   "outputs": [
    {
     "data": {
      "text/plain": [
       "<matplotlib.image.AxesImage at 0x1cace169220>"
      ]
     },
     "execution_count": 4,
     "metadata": {},
     "output_type": "execute_result"
    },
    {
     "data": {
      "image/png": "[encoded data removed]",
      "text/plain": [
       "<Figure size 432x288 with 1 Axes>"
      ]
     },
     "metadata": {
      "needs_background": "light"
     },
     "output_type": "display_data"
    }
   ],
   "source": [
    "# 观察第一个样本及其标签\n",
    "plt.imshow(x_train[0, :, :, 0])"
   ]
  },
  {
   "cell_type": "code",
   "execution_count": 5,
   "metadata": {
    "scrolled": false,
    "slideshow": {
     "slide_type": "slide"
    }
   },
   "outputs": [
    {
     "name": "stdout",
     "output_type": "stream",
     "text": [
      "[0. 0. 0. 0. 0. 1. 0. 0. 0. 0.]\n"
     ]
    }
   ],
   "source": [
    "# to_categorical 函数将 5 变成 [0, 0, 0, 0, 0, 1, 0, 0, 0, 0] \n",
    "# 这种表示称为 one-hot 表示， 用于多个类别的分类任务\n",
    "\n",
    "print(y_train[0])"
   ]
  },
  {
   "cell_type": "markdown",
   "metadata": {
    "slideshow": {
     "slide_type": "slide"
    }
   },
   "source": [
    "### 构建一个简单的卷积神经网络"
   ]
  },
  {
   "cell_type": "code",
   "execution_count": 6,
   "metadata": {
    "slideshow": {
     "slide_type": "slide"
    }
   },
   "outputs": [
    {
     "name": "stdout",
     "output_type": "stream",
     "text": [
      "Model: \"sequential\"\n",
      "_________________________________________________________________\n",
      "Layer (type)                 Output Shape              Param #   \n",
      "=================================================================\n",
      "conv2d (Conv2D)              (None, 26, 26, 32)        320       \n",
      "_________________________________________________________________\n",
      "max_pooling2d (MaxPooling2D) (None, 13, 13, 32)        0         \n",
      "_________________________________________________________________\n",
      "conv2d_1 (Conv2D)            (None, 11, 11, 64)        18496     \n",
      "_________________________________________________________________\n",
      "max_pooling2d_1 (MaxPooling2 (None, 5, 5, 64)          0         \n",
      "_________________________________________________________________\n",
      "flatten (Flatten)            (None, 1600)              0         \n",
      "_________________________________________________________________\n",
      "dropout (Dropout)            (None, 1600)              0         \n",
      "_________________________________________________________________\n",
      "dense (Dense)                (None, 10)                16010     \n",
      "=================================================================\n",
      "Total params: 34,826\n",
      "Trainable params: 34,826\n",
      "Non-trainable params: 0\n",
      "_________________________________________________________________\n"
     ]
    }
   ],
   "source": [
    "model = keras.Sequential(\n",
    "    [\n",
    "        keras.Input(shape=input_shape),\n",
    "        layers.Conv2D(32, kernel_size=(3, 3), activation=\"relu\"),\n",
    "        layers.MaxPooling2D(pool_size=(2, 2)),\n",
    "        layers.Conv2D(64, kernel_size=(3, 3), activation=\"relu\"),\n",
    "        layers.MaxPooling2D(pool_size=(2, 2)),\n",
    "        layers.Flatten(),\n",
    "        layers.Dropout(0.5),\n",
    "        layers.Dense(num_classes, activation=\"softmax\"),\n",
    "    ]\n",
    ")\n",
    "\n",
    "model.summary()"
   ]
  },
  {
   "cell_type": "markdown",
   "metadata": {
    "slideshow": {
     "slide_type": "slide"
    }
   },
   "source": [
    "### 训练神经网络"
   ]
  },
  {
   "cell_type": "code",
   "execution_count": 7,
   "metadata": {
    "slideshow": {
     "slide_type": "slide"
    }
   },
   "outputs": [
    {
     "name": "stdout",
     "output_type": "stream",
     "text": [
      "Epoch 1/15\n",
      "422/422 [==============================] - 9s 22ms/step - loss: 0.3667 - accuracy: 0.8901 - val_loss: 0.0819 - val_accuracy: 0.9782\n",
      "Epoch 2/15\n",
      "422/422 [==============================] - 9s 22ms/step - loss: 0.1122 - accuracy: 0.9657 - val_loss: 0.0597 - val_accuracy: 0.9843\n",
      "Epoch 3/15\n",
      "422/422 [==============================] - 9s 22ms/step - loss: 0.0816 - accuracy: 0.9743 - val_loss: 0.0493 - val_accuracy: 0.9872\n",
      "Epoch 4/15\n",
      "422/422 [==============================] - 9s 22ms/step - loss: 0.0701 - accuracy: 0.9780 - val_loss: 0.0433 - val_accuracy: 0.9882\n",
      "Epoch 5/15\n",
      "422/422 [==============================] - 9s 22ms/step - loss: 0.0604 - accuracy: 0.9808 - val_loss: 0.0390 - val_accuracy: 0.9898\n",
      "Epoch 6/15\n",
      "422/422 [==============================] - 9s 22ms/step - loss: 0.0558 - accuracy: 0.9832 - val_loss: 0.0367 - val_accuracy: 0.9900\n",
      "Epoch 7/15\n",
      "422/422 [==============================] - 9s 22ms/step - loss: 0.0503 - accuracy: 0.9840 - val_loss: 0.0365 - val_accuracy: 0.9897\n",
      "Epoch 8/15\n",
      "422/422 [==============================] - 9s 22ms/step - loss: 0.0475 - accuracy: 0.9845 - val_loss: 0.0327 - val_accuracy: 0.9907\n",
      "Epoch 9/15\n",
      "422/422 [==============================] - 9s 22ms/step - loss: 0.0445 - accuracy: 0.9865 - val_loss: 0.0331 - val_accuracy: 0.9913\n",
      "Epoch 10/15\n",
      "422/422 [==============================] - 9s 22ms/step - loss: 0.0421 - accuracy: 0.9866 - val_loss: 0.0323 - val_accuracy: 0.9922\n",
      "Epoch 11/15\n",
      "422/422 [==============================] - 10s 23ms/step - loss: 0.0383 - accuracy: 0.9876 - val_loss: 0.0296 - val_accuracy: 0.9918\n",
      "Epoch 12/15\n",
      "422/422 [==============================] - 10s 23ms/step - loss: 0.0378 - accuracy: 0.9879 - val_loss: 0.0289 - val_accuracy: 0.9908\n",
      "Epoch 13/15\n",
      "422/422 [==============================] - 9s 22ms/step - loss: 0.0361 - accuracy: 0.9882 - val_loss: 0.0295 - val_accuracy: 0.9923\n",
      "Epoch 14/15\n",
      "422/422 [==============================] - 9s 22ms/step - loss: 0.0354 - accuracy: 0.9884 - val_loss: 0.0307 - val_accuracy: 0.9915\n",
      "Epoch 15/15\n",
      "422/422 [==============================] - 9s 22ms/step - loss: 0.0318 - accuracy: 0.9894 - val_loss: 0.0307 - val_accuracy: 0.9918\n"
     ]
    },
    {
     "data": {
      "text/plain": [
       "<tensorflow.python.keras.callbacks.History at 0x1cace48c5b0>"
      ]
     },
     "execution_count": 7,
     "metadata": {},
     "output_type": "execute_result"
    }
   ],
   "source": [
    "# 将 60000 个训练样本按照每 128 个分批输入神经网络 \n",
    "batch_size = 128\n",
    "# 神经网络遍历所有的训练数据 15 次（每个样本使用了15次）\n",
    "epochs = 15\n",
    "# 分类一般使用交叉熵损失函数 cross entropy\n",
    "model.compile(loss=\"categorical_crossentropy\", optimizer=\"adam\", metrics=[\"accuracy\"])\n",
    "\n",
    "model.fit(x_train, y_train, batch_size=batch_size, epochs=epochs, validation_split=0.1)"
   ]
  },
  {
   "cell_type": "markdown",
   "metadata": {
    "slideshow": {
     "slide_type": "slide"
    }
   },
   "source": [
    "## 作业：夸克胶子喷注分类 (Quark Gluon Jet classification)\n",
    "\n",
    "数据集： https://zenodo.org/record/3164691#.YGwuCOj7Q2w\n",
    "\n",
    "下载：QG_jets.npz \n",
    "\n",
    "保存位置：当前目录/data/QG_jets.npz\n",
    "\n",
    "根据夸克与胶子碎裂成的末态强子，判断这些强子来自于夸克还是胶子"
   ]
  },
  {
   "cell_type": "markdown",
   "metadata": {
    "slideshow": {
     "slide_type": "slide"
    }
   },
   "source": [
    "    There are 20 files in each dataset, each in compressed NumPy format. Files including charm and bottom jets have 'withbc' in their filename. There are two arrays in each file\n",
    "\n",
    "    X: (100000,M,4), exactly 50k quark and 50k gluon jets, randomly sorted, where M is the max multiplicity of the jets in that file (other jets have been padded with zero-particles), and the features of each particle are its pt, rapidity, azimuthal angle, and pdgid.\n",
    "    y: (100000,), an array of labels for the jets where gluon is 0 and quark is 1.\n",
    "    If you use this dataset, please cite this Zenodo record as well as the corresponding paper:\n",
    "\n",
    "    P. T. Komiske, E. M. Metodiev, J. Thaler, Energy Flow Networks: Deep Sets for Particle Jets, JHEP 01 (2019) 121, arXiv:1810.05165."
   ]
  },
  {
   "cell_type": "markdown",
   "metadata": {
    "slideshow": {
     "slide_type": "slide"
    }
   },
   "source": [
    "### 读入数据 （Know your data)"
   ]
  },
  {
   "cell_type": "code",
   "execution_count": 8,
   "metadata": {
    "slideshow": {
     "slide_type": "slide"
    }
   },
   "outputs": [],
   "source": [
    "with np.load(\"data/QG_jets.npz\") as dat:\n",
    "    x_qg = dat[\"X\"]\n",
    "    y_qg = dat[\"y\"]"
   ]
  },
  {
   "cell_type": "code",
   "execution_count": 9,
   "metadata": {
    "scrolled": true,
    "slideshow": {
     "slide_type": "slide"
    }
   },
   "outputs": [
    {
     "data": {
      "text/plain": [
       "(100000, 139, 4)"
      ]
     },
     "execution_count": 9,
     "metadata": {},
     "output_type": "execute_result"
    }
   ],
   "source": [
    "# 139 为喷注中最大粒子数量， 4 表示存储了 (pt, rapidity, phi, pdgid) 信息\n",
    "# 数据中如果一个喷注总的粒子数小于 139， 用 (0, 0, 0, 0) 补全\n",
    "x_qg.shape"
   ]
  },
  {
   "cell_type": "markdown",
   "metadata": {
    "slideshow": {
     "slide_type": "slide"
    }
   },
   "source": [
    "横动量 $p_t$, 快度(rapidity，一般用 y 表示) 以及方位角 $\\phi$ 是对粒子四动量 $(E, p_x, p_y, p_z）$ 的另一种表示。\n",
    "\n",
    "\\begin{align}\n",
    "p_t &= \\sqrt{p_x^2 + p_y^2} \\\\\n",
    "\\phi & = {\\rm arctan2}(p_y, p_x) \\\\\n",
    "y &= {1 \\over 2} \\ln {E + p_z \\over E - p_z} \\\\\n",
    "\\end{align}"
   ]
  },
  {
   "cell_type": "code",
   "execution_count": 10,
   "metadata": {
    "scrolled": false,
    "slideshow": {
     "slide_type": "slide"
    }
   },
   "outputs": [
    {
     "data": {
      "text/plain": [
       "(100000,)"
      ]
     },
     "execution_count": 10,
     "metadata": {},
     "output_type": "execute_result"
    }
   ],
   "source": [
    "y_qg.shape"
   ]
  },
  {
   "cell_type": "code",
   "execution_count": 11,
   "metadata": {
    "slideshow": {
     "slide_type": "slide"
    }
   },
   "outputs": [
    {
     "name": "stdout",
     "output_type": "stream",
     "text": [
      "[[ 2.68769142e-01  3.56903171e-01  4.74138734e+00  2.20000000e+01]\n",
      " [ 1.60076377e-01 -2.55609533e-01  4.55022910e+00  2.20000000e+01]\n",
      " [ 1.14868731e+00 -6.24380156e-02  4.50385377e+00 -2.11000000e+02]]\n"
     ]
    }
   ],
   "source": [
    "# 输出训练样本 0 的前三行数据：pt, rapidity, phi, pdgid\n",
    "# pdgid=22 表示 光子， pdgid = -211 表示 pion- 介子\n",
    " \n",
    "print(x_qg[0, 0:3, :])"
   ]
  },
  {
   "cell_type": "code",
   "execution_count": 12,
   "metadata": {
    "scrolled": true,
    "slideshow": {
     "slide_type": "slide"
    }
   },
   "outputs": [
    {
     "data": {
      "text/plain": [
       "array([1., 1., 1., 1., 1., 0., 1., 1., 1., 1., 1., 0., 1., 0., 1., 1., 0.,\n",
       "       0., 1., 0.])"
      ]
     },
     "execution_count": 12,
     "metadata": {},
     "output_type": "execute_result"
    }
   ],
   "source": [
    "# 标签: 0 for gluon; 1 for quark\n",
    "y_qg[:20]"
   ]
  },
  {
   "cell_type": "markdown",
   "metadata": {
    "slideshow": {
     "slide_type": "slide"
    }
   },
   "source": [
    "## 数据可视化 （Know your data)"
   ]
  },
  {
   "cell_type": "code",
   "execution_count": 13,
   "metadata": {
    "slideshow": {
     "slide_type": "slide"
    }
   },
   "outputs": [],
   "source": [
    "def visualize(eid=0):\n",
    "    '''对第 eid 个样本进行可视化，探索数据'''\n",
    "    dat = x_qg[eid]\n",
    "    pt = dat[:, 0]\n",
    "    rapidity = dat[:, 1]\n",
    "    phi = dat[:, 2]\n",
    "    plt.hist2d(rapidity, phi, \n",
    "               bins=28, cmin=0, cmax=5)\n",
    "    # 这里为了可视化将 count>cmax 的像素设为 nan"
   ]
  },
  {
   "cell_type": "code",
   "execution_count": 14,
   "metadata": {
    "slideshow": {
     "slide_type": "slide"
    }
   },
   "outputs": [
    {
     "data": {
      "image/png": "[encoded data removed]",
      "text/plain": [
       "<Figure size 432x288 with 1 Axes>"
      ]
     },
     "metadata": {
      "needs_background": "light"
     },
     "output_type": "display_data"
    }
   ],
   "source": [
    "visualize(eid=0)"
   ]
  },
  {
   "cell_type": "code",
   "execution_count": 15,
   "metadata": {
    "slideshow": {
     "slide_type": "slide"
    }
   },
   "outputs": [
    {
     "data": {
      "application/vnd.jupyter.widget-view+json": {
       "model_id": "c6299464c74f4e39b057aaa3a3f8eef6",
       "version_major": 2,
       "version_minor": 0
      },
      "text/plain": [
       "interactive(children=(Dropdown(description='eid', options=(0, 1, 2, 3, 4, 5, 6, 7, 8, 9, 10, 11, 12, 13, 14, 1…"
      ]
     },
     "metadata": {},
     "output_type": "display_data"
    },
    {
     "data": {
      "text/plain": [
       "<function __main__.visualize(eid=0)>"
      ]
     },
     "execution_count": 15,
     "metadata": {},
     "output_type": "execute_result"
    }
   ],
   "source": [
    "from ipywidgets import interact\n",
    "\n",
    "interact(visualize, eid=range(0, 100))"
   ]
  },
  {
   "cell_type": "markdown",
   "metadata": {
    "slideshow": {
     "slide_type": "slide"
    }
   },
   "source": [
    "## 数据预处理"
   ]
  },
  {
   "cell_type": "code",
   "execution_count": 16,
   "metadata": {
    "slideshow": {
     "slide_type": "slide"
    }
   },
   "outputs": [],
   "source": [
    "xmin, xmax = -1.7, 1.7\n",
    "ymin, ymax = 0,  2*np.pi\n",
    "# 将所有图像都对齐到 |y| < 1.7, phi in [0, 2pi] 范围\n",
    "ranges = [[xmin, xmax], [ymin, ymax]]\n",
    "\n",
    "def to_img(eid=0, bins=28):\n",
    "    dat = x_qg[eid]\n",
    "    rapidity = dat[:, 1]\n",
    "    phi = dat[:, 2]\n",
    "    # 将 （eta, phi) 分布转化为 2D 图像\n",
    "    img, _, _ = np.histogram2d(rapidity, phi, \n",
    "                   bins = bins,\n",
    "                   range=ranges,\n",
    "                   normed=True)\n",
    "    \n",
    "    return img"
   ]
  },
  {
   "cell_type": "code",
   "execution_count": 17,
   "metadata": {
    "slideshow": {
     "slide_type": "slide"
    }
   },
   "outputs": [
    {
     "name": "stderr",
     "output_type": "stream",
     "text": [
      "100%|██████████| 100000/100000 [00:15<00:00, 6593.26it/s]\n"
     ]
    }
   ],
   "source": [
    "num_events = len(x_qg)\n",
    "\n",
    "x_qg_imgs = [to_img(i) for i in tqdm(range(num_events))]"
   ]
  },
  {
   "cell_type": "code",
   "execution_count": 18,
   "metadata": {
    "slideshow": {
     "slide_type": "slide"
    }
   },
   "outputs": [],
   "source": [
    "# x_qg_imgs 中每张图的最大值远大于 1，\n",
    "# 使用所有事例中, 2d image 中像素最大的值进行缩放\n",
    "x_qg_imgs = np.array(x_qg_imgs)"
   ]
  },
  {
   "cell_type": "code",
   "execution_count": 19,
   "metadata": {
    "slideshow": {
     "slide_type": "slide"
    }
   },
   "outputs": [
    {
     "data": {
      "text/plain": [
       "31.946835635779856"
      ]
     },
     "execution_count": 19,
     "metadata": {},
     "output_type": "execute_result"
    }
   ],
   "source": [
    "x_qg_imgs[0].max()"
   ]
  },
  {
   "cell_type": "code",
   "execution_count": 20,
   "metadata": {
    "slideshow": {
     "slide_type": "slide"
    }
   },
   "outputs": [],
   "source": [
    "x_qg_imgs = x_qg_imgs / x_qg_imgs.max()"
   ]
  },
  {
   "cell_type": "code",
   "execution_count": 21,
   "metadata": {
    "slideshow": {
     "slide_type": "slide"
    }
   },
   "outputs": [
    {
     "data": {
      "text/plain": [
       "0.8768115942028987"
      ]
     },
     "execution_count": 21,
     "metadata": {},
     "output_type": "execute_result"
    }
   ],
   "source": [
    "x_qg_imgs[0].max()"
   ]
  },
  {
   "cell_type": "code",
   "execution_count": 22,
   "metadata": {
    "slideshow": {
     "slide_type": "slide"
    }
   },
   "outputs": [
    {
     "data": {
      "text/plain": [
       "(100000, 28, 28)"
      ]
     },
     "execution_count": 22,
     "metadata": {},
     "output_type": "execute_result"
    }
   ],
   "source": [
    "x_qg_imgs.shape"
   ]
  },
  {
   "cell_type": "code",
   "execution_count": 23,
   "metadata": {
    "slideshow": {
     "slide_type": "slide"
    }
   },
   "outputs": [],
   "source": [
    "# 为了使用 mnist 所示卷积神经网络，将数据增加一个维度\n",
    "x_qg_imgs = x_qg_imgs.reshape(100000, 28, 28, -1)"
   ]
  },
  {
   "cell_type": "code",
   "execution_count": 24,
   "metadata": {
    "slideshow": {
     "slide_type": "slide"
    }
   },
   "outputs": [],
   "source": [
    "y_qg_onehot = keras.utils.to_categorical(y_qg, 2)"
   ]
  },
  {
   "cell_type": "code",
   "execution_count": 25,
   "metadata": {
    "scrolled": true,
    "slideshow": {
     "slide_type": "slide"
    }
   },
   "outputs": [
    {
     "data": {
      "text/plain": [
       "array([0., 1.], dtype=float32)"
      ]
     },
     "execution_count": 25,
     "metadata": {},
     "output_type": "execute_result"
    }
   ],
   "source": [
    "y_qg_onehot[0]"
   ]
  },
  {
   "cell_type": "markdown",
   "metadata": {
    "slideshow": {
     "slide_type": "slide"
    }
   },
   "source": [
    "### 将数据分成训练集与测试集\n",
    "\n",
    "这里我们使用 scikit-learn 中的 \n",
    "\n",
    "[sklearn.model_selection.train_test_split](https://scikit-learn.org/stable/modules/generated/sklearn.model_selection.train_test_split.html)\n",
    "\n",
    "将数据集划分成 训练集 与 测试集。"
   ]
  },
  {
   "cell_type": "code",
   "execution_count": 26,
   "metadata": {
    "slideshow": {
     "slide_type": "slide"
    }
   },
   "outputs": [],
   "source": [
    "from sklearn.model_selection import train_test_split"
   ]
  },
  {
   "cell_type": "code",
   "execution_count": 27,
   "metadata": {
    "slideshow": {
     "slide_type": "fragment"
    }
   },
   "outputs": [],
   "source": [
    "x_train, x_test, y_train, y_test = train_test_split(x_qg_imgs, y_qg_onehot, test_size=0.1)"
   ]
  },
  {
   "cell_type": "code",
   "execution_count": 28,
   "metadata": {
    "slideshow": {
     "slide_type": "fragment"
    }
   },
   "outputs": [
    {
     "data": {
      "text/plain": [
       "(90000, 28, 28, 1)"
      ]
     },
     "execution_count": 28,
     "metadata": {},
     "output_type": "execute_result"
    }
   ],
   "source": [
    "x_train.shape"
   ]
  },
  {
   "cell_type": "markdown",
   "metadata": {
    "slideshow": {
     "slide_type": "slide"
    }
   },
   "source": [
    "## 构造卷积神经网络\n",
    "\n",
    "使用上面简单的 mnist 的例子，在其基础上修改，对 quark 和 gluon 喷注进行分类。\n",
    "\n",
    "基线精度：loss: 0.4989 - accuracy: 0.7624 - val_loss: 0.4993 - val_accuracy: 0.7659"
   ]
  },
  {
   "cell_type": "code",
   "execution_count": 29,
   "metadata": {
    "slideshow": {
     "slide_type": "slide"
    }
   },
   "outputs": [],
   "source": [
    "num_classes = 2\n",
    "# 作业： 将 mnist 中的神经网络模型 model 部分 copy 到这个 cell 下部\n",
    "# 注意：此时 num_classes 为 2， 只有 quark 和 gluon 两个类"
   ]
  },
  {
   "cell_type": "markdown",
   "metadata": {
    "slideshow": {
     "slide_type": "slide"
    }
   },
   "source": [
    "### 训练神经网络"
   ]
  },
  {
   "cell_type": "code",
   "execution_count": 30,
   "metadata": {
    "slideshow": {
     "slide_type": "fragment"
    }
   },
   "outputs": [],
   "source": [
    "# 作业： 将 mnist 中神经网络训练部分代码 copy 到此 cell， 训练神经网络，观察 val_accuracy"
   ]
  },
  {
   "cell_type": "markdown",
   "metadata": {
    "slideshow": {
     "slide_type": "slide"
    }
   },
   "source": [
    "## 结语：\n",
    "\n",
    "1. 对于 Quark/Gluon 分类任务，有很多新的神经网络架构可以尝试，比如 点云神经网络，又如 Attention Network\n",
    "2. 这门课不会过于深入，如果有同学想深入研究，需要自学一些知识，如：\n",
    "   - Data Augmentation\n",
    "   - Batch/Layer/Group Normalization\n",
    "   - Point Cloud Network\n",
    "   - 生成模型：VAE, GAN, Flow-based model\n",
    "   - Interpretable Machine Learning"
   ]
  }
 ],
 "metadata": {
  "celltoolbar": "Slideshow",
  "kernelspec": {
   "display_name": "Python 3",
   "language": "python",
   "name": "python3"
  },
  "language_info": {
   "codemirror_mode": {
    "name": "ipython",
    "version": 3
   },
   "file_extension": ".py",
   "mimetype": "text/x-python",
   "name": "python",
   "nbconvert_exporter": "python",
   "pygments_lexer": "ipython3",
   "version": "3.8.3"
  },
  "rise": {
   "enable_chalkboard": true,
   "scroll": true
  }
 },
 "nbformat": 4,
 "nbformat_minor": 2
}
