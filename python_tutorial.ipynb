{
 "cells": [
  {
   "cell_type": "markdown",
   "metadata": {
    "slideshow": {
     "slide_type": "slide"
    }
   },
   "source": [
    "# Python 语言介绍\n",
    "\n",
    "庞龙刚，华中师范大学\n",
    "\n",
    "**Life is short，use Python！**\n",
    "\n",
    "- Python 有丰富的科学计算库、可视化库\n",
    "- 相比 Mathematica 和 Matlab 开源、免费、不受制裁\n",
    "- 在机器学习、人工智能、量子计算领域， Python 语言有压倒性优势\n",
    "   - scikit-learn 机器学习\n",
    "   - tensorflow，pytorch 深度学习库，"
   ]
  },
  {
   "cell_type": "markdown",
   "metadata": {
    "slideshow": {
     "slide_type": "slide"
    }
   },
   "source": [
    "## Python 库的安装\n",
    "\n",
    "- 推荐使用 Anaconda, 安装 Python 版本3.7\n",
    "- 网址：https://www.anaconda.com/products/individual\n",
    "- 支持 Windows，Linux，Mac 平台\n",
    "- [点击前往下载链接](https://www.anaconda.com/products/individual)"
   ]
  },
  {
   "cell_type": "markdown",
   "metadata": {
    "slideshow": {
     "slide_type": "slide"
    }
   },
   "source": [
    "## Python 环境管理 （初级用户可忽略）\n",
    "\n",
    "1. Windows 下使用 Anaconda Navigator \n",
    "    - 在用户界面管理环境和 Python 包\n",
    "    - 也可使用 Anaconda 中的 CMD.exe 命令行，通过 pip 安装 python 包"
   ]
  },
  {
   "cell_type": "markdown",
   "metadata": {
    "slideshow": {
     "slide_type": "slide"
    }
   },
   "source": [
    "2. Linux 下有如下系列命令，\n",
    "```bash\n",
    "    # 查看存在的虚拟环境\n",
    "    conda env list\n",
    "    # 创建虚拟环境\n",
    "    conda create -n your_env_name python=3.7\n",
    "    # 激活虚拟环境\n",
    "    conda activate your_env_name\n",
    "    # 导出环境安装包\n",
    "    conda env export > py37.yaml\n",
    "    # 在环境中安装python库 numpy\n",
    "    conda install -c conda-forge numpy\n",
    "    # 退出当前环境\n",
    "    conda deactivate\n",
    "    # 使用导出的文件安装同样的环境\n",
    "    conda env create -f py37.yaml\n",
    "    ```"
   ]
  },
  {
   "cell_type": "markdown",
   "metadata": {
    "slideshow": {
     "slide_type": "slide"
    }
   },
   "source": [
    "### 需要安装的库 \n",
    "\n",
    "Windows 下使用 Andconda Navigator 里的 Environments 按钮，搜索 Not installed 库安装\n",
    "\n",
    "- numpy\n",
    "- matplotlib\n",
    "- pandas\n",
    "- scipy \n",
    "- scikit-learn\n",
    "- tqdm\n",
    "- h5py \n",
    "- tensorflow \n",
    "\n",
    "也可等用到时再安装。"
   ]
  },
  {
   "cell_type": "markdown",
   "metadata": {
    "slideshow": {
     "slide_type": "slide"
    }
   },
   "source": [
    "Linux/Mac 下使用下列命令：\n",
    "\n",
    "```bash \n",
    "# 查看已经安装的Python 包\n",
    "conda list \n",
    "# 安装数组/矩阵操作库 numpy\n",
    "conda install -c conda-forge numpy\n",
    "# 安装作图库 matplotlib\n",
    "conda install -c conda-forge matplotlib\n",
    "# 安装大数据处理库 pandas \n",
    "conda install -c conda-forge pandas\n",
    "# 安装机器学习库 scikit-learn\n",
    "conda install -c conda-forge scikit-learn\n",
    "# 安装进程显示库 tqdm\n",
    "conda install -c conda-forge tqdm\n",
    "\n",
    "# 安装深度学习库 tensorflow (后期使用时再安装）\n",
    "conda install -c conda-forge tensorflow\n",
    "\n",
    "```"
   ]
  },
  {
   "cell_type": "markdown",
   "metadata": {
    "slideshow": {
     "slide_type": "slide"
    }
   },
   "source": [
    "## jupyter notebook 简单使用技巧\n",
    "\n",
    "本课程使用 Python 的 Jupyter Notebook 交互式教学。\n",
    "\n",
    "下载安装 Anaconda 自带 Jupyter Notebook。\n",
    "\n",
    "- 在 jupyter notebook 中可以编辑文档，编写python程序，\n",
    "  键入 Latex 公式，画图，以及构造交互式工具。\n",
    "- 接下来使用 jupyter notebook 简单介绍 python 语言\n",
    "- Windows下在 Anaconada Navigator 中点击 Jupyter notebook 开始使用\n",
    "- Linux/Mac下在命令行中键入下列命令开始使用： jupyter notebook"
   ]
  },
  {
   "cell_type": "code",
   "execution_count": 71,
   "metadata": {
    "slideshow": {
     "slide_type": "slide"
    }
   },
   "outputs": [],
   "source": [
    "# jupyter-notebook cell 有两种形式，code cell 和 markdown cell\n",
    "# code cell 是输入代码，按 shift+enter 运行的cell; \n",
    "\n",
    "# markdown cell 是输入普通文字描述与 latex $\\alpha + \\beta = \\gamma$，按 shift+enter 显示文档与数学公式的 cell\n",
    "# 快捷键 m 可以快速将一个代码 cell 转化为 markdown cell\n",
    "\n",
    "# 当前 cell 为 code cell，在 code cell 内部，# 号表示此行为注释，不进行计算\n",
    "# 下一个 cell 是 markdown cell，我会输入 $ e^{2\\pi i} = 1$ , 按 shift + enter 之后只显示公式\n",
    "\n",
    "#双击公式会在 markdown cell 中显示 latex 代码"
   ]
  },
  {
   "cell_type": "markdown",
   "metadata": {
    "slideshow": {
     "slide_type": "fragment"
    }
   },
   "source": [
    "Inline formula： $ e^{2\\pi i} = 1$ \n",
    "\n",
    "Eqnarray or Equation：\n",
    "\n",
    "\\begin{align}\n",
    "\\sigma_x & = \\begin{bmatrix} 0 & 1 \\\\ 1 & 0 \\end{bmatrix} \\\\\n",
    "\\sigma_y & = \\begin{bmatrix} 0 & -i \\\\ i & 0 \\end{bmatrix} \\\\\n",
    "\\sigma_z & = \\begin{bmatrix} 1 & 0 \\\\ 0 & -1 \\end{bmatrix} \\\\\n",
    "\\end{align}"
   ]
  },
  {
   "cell_type": "markdown",
   "metadata": {
    "slideshow": {
     "slide_type": "slide"
    }
   },
   "source": [
    "- 点击每个 cell 左边空白，可以选中 cell\n",
    "\n",
    "- 选中cell后，按 a, 可以在此 cell 上方插入一个新的 code cell\n",
    "\n",
    "- 选中cell后，按 b, 可以在此 cell 下方插入一个新的 code cell\n",
    "\n",
    "- 选中cell后，按 x, 可以删除此 cell \n",
    "\n",
    "- 选中cell后，按 m, 可以将此 cell 转化为markdown cell\n",
    "\n",
    "- 选中 markdown cell 双击，可以转化为编辑模式"
   ]
  },
  {
   "cell_type": "markdown",
   "metadata": {
    "slideshow": {
     "slide_type": "slide"
    }
   },
   "source": [
    "## 基本代数运算"
   ]
  },
  {
   "cell_type": "code",
   "execution_count": 2,
   "metadata": {
    "slideshow": {
     "slide_type": "fragment"
    }
   },
   "outputs": [],
   "source": [
    "# Python 开箱即用，可直接进行简单计算\n",
    "\n",
    "3 + 5"
   ]
  },
  {
   "cell_type": "code",
   "execution_count": 3,
   "metadata": {
    "slideshow": {
     "slide_type": "fragment"
    }
   },
   "outputs": [],
   "source": [
    "10 - 6"
   ]
  },
  {
   "cell_type": "code",
   "execution_count": 4,
   "metadata": {
    "slideshow": {
     "slide_type": "fragment"
    }
   },
   "outputs": [],
   "source": [
    "6 * 6"
   ]
  },
  {
   "cell_type": "code",
   "execution_count": 5,
   "metadata": {
    "slideshow": {
     "slide_type": "slide"
    }
   },
   "outputs": [],
   "source": [
    "# 与 C，C++ 不同，/ 可以对两个整数相除得到浮点数\n",
    "6 / 5"
   ]
  },
  {
   "cell_type": "code",
   "execution_count": 6,
   "metadata": {
    "slideshow": {
     "slide_type": "fragment"
    }
   },
   "outputs": [],
   "source": [
    "# 等价 C 语言中两个整数的相除\n",
    "6 // 5"
   ]
  },
  {
   "cell_type": "code",
   "execution_count": 7,
   "metadata": {
    "slideshow": {
     "slide_type": "fragment"
    }
   },
   "outputs": [],
   "source": [
    "# 平方\n",
    "31 ** 2"
   ]
  },
  {
   "cell_type": "code",
   "execution_count": 8,
   "metadata": {
    "slideshow": {
     "slide_type": "fragment"
    }
   },
   "outputs": [],
   "source": [
    "y = 83\n",
    "z = 92\n",
    "y + z"
   ]
  },
  {
   "cell_type": "markdown",
   "metadata": {
    "slideshow": {
     "slide_type": "slide"
    }
   },
   "source": [
    "## 使用 math 库进行代数运算\n",
    "\n",
    "math 是 Python 自带的一个代数运算库，里面定义了常用的 sqrt(), pow(), sin(), cos(), tan(), tanh() 等函数。\n",
    "\n",
    "使用 `dir(math)` 可以打印出 math 中定义的所有函数。"
   ]
  },
  {
   "cell_type": "code",
   "execution_count": 9,
   "metadata": {
    "scrolled": true,
    "slideshow": {
     "slide_type": "slide"
    }
   },
   "outputs": [],
   "source": [
    "import math\n",
    "dir(math)"
   ]
  },
  {
   "cell_type": "code",
   "execution_count": 10,
   "metadata": {
    "slideshow": {
     "slide_type": "slide"
    }
   },
   "outputs": [],
   "source": [
    "# 如果我想求一个数的阶乘，6！，但是不是很确定是否是 factorial 函数\n",
    "# 此时可以用 help(math.factorial)\n",
    "\n",
    "help(math.factorial)"
   ]
  },
  {
   "cell_type": "code",
   "execution_count": 11,
   "metadata": {
    "slideshow": {
     "slide_type": "fragment"
    }
   },
   "outputs": [],
   "source": [
    "# 或者把指针放在括号里，按 Shift+Tab 显示帮助文档\n",
    "\n",
    "math.factorial(5)"
   ]
  },
  {
   "cell_type": "code",
   "execution_count": 12,
   "metadata": {
    "slideshow": {
     "slide_type": "slide"
    }
   },
   "outputs": [],
   "source": [
    "import math"
   ]
  },
  {
   "cell_type": "markdown",
   "metadata": {
    "slideshow": {
     "slide_type": "fragment"
    }
   },
   "source": [
    "Test the $\\sqrt{x}$ function "
   ]
  },
  {
   "cell_type": "code",
   "execution_count": 13,
   "metadata": {
    "slideshow": {
     "slide_type": "slide"
    }
   },
   "outputs": [],
   "source": [
    "energy = 50\n",
    "momentum = 40\n",
    "mass = math.sqrt(energy**2 - momentum**2)\n",
    "print(mass)"
   ]
  },
  {
   "cell_type": "markdown",
   "metadata": {
    "slideshow": {
     "slide_type": "slide"
    }
   },
   "source": [
    "Test the pow(), which calculate $ x^m $"
   ]
  },
  {
   "cell_type": "code",
   "execution_count": 14,
   "metadata": {
    "slideshow": {
     "slide_type": "fragment"
    }
   },
   "outputs": [
    {
     "data": {
      "text/plain": [
       "883883.4764831844"
      ]
     },
     "execution_count": 14,
     "metadata": {},
     "output_type": "execute_result"
    }
   ],
   "source": [
    "# 一个数的 3.5 次方\n",
    "math.pow(energy, 3.5)"
   ]
  },
  {
   "cell_type": "code",
   "execution_count": 15,
   "metadata": {
    "slideshow": {
     "slide_type": "fragment"
    }
   },
   "outputs": [
    {
     "data": {
      "text/plain": [
       "0.49999999999999994"
      ]
     },
     "execution_count": 15,
     "metadata": {},
     "output_type": "execute_result"
    }
   ],
   "source": [
    "theta = math.pi / 6\n",
    "math.sin(theta)\n",
    "# 可以看到这里有截断误差，结果不严格等于 0.5"
   ]
  },
  {
   "cell_type": "markdown",
   "metadata": {
    "slideshow": {
     "slide_type": "slide"
    }
   },
   "source": [
    "## 列表 list 与循环"
   ]
  },
  {
   "cell_type": "code",
   "execution_count": 16,
   "metadata": {
    "slideshow": {
     "slide_type": "fragment"
    }
   },
   "outputs": [
    {
     "data": {
      "text/plain": [
       "'x'"
      ]
     },
     "execution_count": 16,
     "metadata": {},
     "output_type": "execute_result"
    }
   ],
   "source": [
    "alist = [3, 6, 'x', 3.14, [5, 9]]\n",
    "alist[2]"
   ]
  },
  {
   "cell_type": "code",
   "execution_count": 17,
   "metadata": {
    "slideshow": {
     "slide_type": "fragment"
    }
   },
   "outputs": [],
   "source": [
    "# 一句话生成1百万个 sin(i*30度) 的列表\n",
    "xlist = [math.sin(i*theta) for i in range(1000000)]"
   ]
  },
  {
   "cell_type": "code",
   "execution_count": 18,
   "metadata": {
    "scrolled": true,
    "slideshow": {
     "slide_type": "slide"
    }
   },
   "outputs": [
    {
     "data": {
      "text/plain": [
       "[-0.866025403784439,\n",
       " -0.5000000000000004,\n",
       " -2.4492935982947064e-16,\n",
       " 0.4999999999999993,\n",
       " 0.8660254037844384,\n",
       " 1.0,\n",
       " 0.8660254037844392,\n",
       " 0.5000000000000013,\n",
       " 3.6739403974420594e-16,\n",
       " -0.49999999999999917]"
      ]
     },
     "execution_count": 18,
     "metadata": {},
     "output_type": "execute_result"
    }
   ],
   "source": [
    "# 列表中前 10 个数, 后 10 个数，第10到第20个数\n",
    "\n",
    "xlist[10:20]"
   ]
  },
  {
   "cell_type": "code",
   "execution_count": 19,
   "metadata": {
    "slideshow": {
     "slide_type": "slide"
    }
   },
   "outputs": [
    {
     "name": "stdout",
     "output_type": "stream",
     "text": [
      "2.3660254038401085\n"
     ]
    }
   ],
   "source": [
    "x_sum = 0\n",
    "\n",
    "# 注意：Python 语法的层级结构用缩紧表示\n",
    "# c 语言用大括号 {}\n",
    "\n",
    "for i in range(1000000):\n",
    "    x_sum += xlist[i]\n",
    "\n",
    "print(x_sum)"
   ]
  },
  {
   "cell_type": "markdown",
   "metadata": {
    "slideshow": {
     "slide_type": "slide"
    }
   },
   "source": [
    "当我们对一个非常大的列表进行长时间计算时，估计大概需要的计算时间非常重要；\n",
    "\n",
    "使用 tqdm 库，可以显示计算进程；"
   ]
  },
  {
   "cell_type": "code",
   "execution_count": 20,
   "metadata": {
    "scrolled": true,
    "slideshow": {
     "slide_type": "fragment"
    }
   },
   "outputs": [
    {
     "name": "stderr",
     "output_type": "stream",
     "text": [
      "100%|██████████| 10000000/10000000 [00:02<00:00, 4885744.87it/s]"
     ]
    },
    {
     "name": "stdout",
     "output_type": "stream",
     "text": [
      "100.00000002054185\n"
     ]
    },
    {
     "name": "stderr",
     "output_type": "stream",
     "text": [
      "\n"
     ]
    }
   ],
   "source": [
    "from tqdm import tqdm\n",
    "\n",
    "x_sum = 0\n",
    "\n",
    "for i in tqdm(range(10000000)):\n",
    "    x_sum += 1.0E-5\n",
    "\n",
    "print(x_sum)"
   ]
  },
  {
   "cell_type": "markdown",
   "metadata": {
    "slideshow": {
     "slide_type": "slide"
    }
   },
   "source": [
    "### 使用 numba.jit 加速\n",
    "\n",
    "python 的原始循环体比较慢，有两种方式加速，\n",
    "\n",
    "- numpy 的 数组操作 模式\n",
    "- numba 的 jit （just in time compilation 即时编译)"
   ]
  },
  {
   "cell_type": "code",
   "execution_count": 21,
   "metadata": {
    "slideshow": {
     "slide_type": "slide"
    }
   },
   "outputs": [
    {
     "data": {
      "text/plain": [
       "100.00000002054185"
      ]
     },
     "execution_count": 21,
     "metadata": {},
     "output_type": "execute_result"
    }
   ],
   "source": [
    "from numba import jit\n",
    "\n",
    "@jit\n",
    "def jit_sum():\n",
    "    x_sum = 0\n",
    "    for i in range(10000000):\n",
    "        x_sum += 1.0E-5\n",
    "    return x_sum\n",
    "\n",
    "jit_sum()"
   ]
  },
  {
   "cell_type": "markdown",
   "metadata": {
    "slideshow": {
     "slide_type": "slide"
    }
   },
   "source": [
    "### 字典类型"
   ]
  },
  {
   "cell_type": "code",
   "execution_count": 22,
   "metadata": {
    "slideshow": {
     "slide_type": "fragment"
    }
   },
   "outputs": [
    {
     "data": {
      "text/plain": [
       "3300"
      ]
     },
     "execution_count": 22,
     "metadata": {},
     "output_type": "execute_result"
    }
   ],
   "source": [
    "studentx = {'id':3300, 'score':99, 'gender':'female'}\n",
    "\n",
    "studentx['id']"
   ]
  },
  {
   "cell_type": "code",
   "execution_count": 23,
   "metadata": {
    "scrolled": true,
    "slideshow": {
     "slide_type": "fragment"
    }
   },
   "outputs": [
    {
     "data": {
      "text/plain": [
       "99"
      ]
     },
     "execution_count": 23,
     "metadata": {},
     "output_type": "execute_result"
    }
   ],
   "source": [
    "studentx['score'] "
   ]
  },
  {
   "cell_type": "code",
   "execution_count": 24,
   "metadata": {
    "slideshow": {
     "slide_type": "fragment"
    }
   },
   "outputs": [
    {
     "name": "stdout",
     "output_type": "stream",
     "text": [
      "id 3300\n",
      "score 99\n",
      "gender female\n"
     ]
    }
   ],
   "source": [
    "for key, value in studentx.items():\n",
    "    print(key, value)"
   ]
  },
  {
   "cell_type": "markdown",
   "metadata": {
    "slideshow": {
     "slide_type": "slide"
    }
   },
   "source": [
    "### 集合类型"
   ]
  },
  {
   "cell_type": "code",
   "execution_count": 25,
   "metadata": {
    "slideshow": {
     "slide_type": "fragment"
    }
   },
   "outputs": [
    {
     "data": {
      "text/plain": [
       "{3, 5, 7}"
      ]
     },
     "execution_count": 25,
     "metadata": {},
     "output_type": "execute_result"
    }
   ],
   "source": [
    "ints = set()\n",
    "\n",
    "ints.add(3)\n",
    "ints.add(5)\n",
    "ints.add(7)\n",
    "ints.add(3)\n",
    "\n",
    "ints"
   ]
  },
  {
   "cell_type": "markdown",
   "metadata": {
    "slideshow": {
     "slide_type": "slide"
    }
   },
   "source": [
    "## 函数 function\n"
   ]
  },
  {
   "cell_type": "code",
   "execution_count": 26,
   "metadata": {
    "slideshow": {
     "slide_type": "slide"
    }
   },
   "outputs": [],
   "source": [
    "# 下面的介绍会用到这几个库\n",
    "import numpy as np\n",
    "import matplotlib.pyplot as plt\n",
    "import seaborn as sns\n",
    "\n",
    "# 画图风格与格式\n",
    "sns.set_context('paper', font_scale=1.5)\n",
    "sns.set_style('ticks')"
   ]
  },
  {
   "cell_type": "code",
   "execution_count": 27,
   "metadata": {
    "slideshow": {
     "slide_type": "slide"
    }
   },
   "outputs": [],
   "source": [
    "# 狭义相对论\n",
    "def lorentz_gamma(v):\n",
    "    '''\n",
    "    args:\n",
    "        v: velocity over speed of the light, in [0, 1)\n",
    "    return: lorentz gamma factor 1/sqrt(1-v*v)\n",
    "    '''\n",
    "    assert(math.fabs(v)<1.0)\n",
    "    return 1/np.sqrt(1 - v*v)"
   ]
  },
  {
   "cell_type": "code",
   "execution_count": 28,
   "metadata": {
    "slideshow": {
     "slide_type": "slide"
    }
   },
   "outputs": [
    {
     "data": {
      "text/plain": [
       "70.71244595191452"
      ]
     },
     "execution_count": 28,
     "metadata": {},
     "output_type": "execute_result"
    }
   ],
   "source": [
    "lorentz_gamma(0.9999)"
   ]
  },
  {
   "cell_type": "code",
   "execution_count": 29,
   "metadata": {
    "slideshow": {
     "slide_type": "fragment"
    }
   },
   "outputs": [
    {
     "name": "stdout",
     "output_type": "stream",
     "text": [
      "Help on function lorentz_gamma in module __main__:\n",
      "\n",
      "lorentz_gamma(v)\n",
      "    args:\n",
      "        v: velocity over speed of the light, in [0, 1)\n",
      "    return: lorentz gamma factor 1/sqrt(1-v*v)\n",
      "\n"
     ]
    }
   ],
   "source": [
    "help(lorentz_gamma)"
   ]
  },
  {
   "cell_type": "markdown",
   "metadata": {
    "slideshow": {
     "slide_type": "slide"
    }
   },
   "source": [
    "根据狭义相对论，\n",
    "\n",
    "$ E = m \\gamma = \\frac{m}{\\sqrt{1 - v^2}}$\n",
    "\n",
    "我们来定义一个函数，计算高能核碰撞在不同能量下，原子核的飞行速度 v\n"
   ]
  },
  {
   "cell_type": "code",
   "execution_count": 30,
   "metadata": {
    "slideshow": {
     "slide_type": "slide"
    }
   },
   "outputs": [],
   "source": [
    "# Python 函数的参数可以提供默认数值，比如此处默认 sqrtsnn=200\n",
    "\n",
    "def velocity_of_nucleus(sqrtsnn=200):\n",
    "    '''compute the velocity of nucleus given the sqrt{s_{NN}} per pair of nucleons\n",
    "    args:\n",
    "        sqrtsnn: the center of mass frame energy of one pair of nucleons.\n",
    "        e.g., the Au+Au 200 GeV collision, each nucleon has energy 100 GeV\n",
    "    return: \n",
    "        the velocity of the nucleon\n",
    "    '''\n",
    "    energy_ = 0.5 * sqrtsnn\n",
    "    nucleon_mass = 0.938\n",
    "    gamma = energy_ / nucleon_mass\n",
    "    velocity = math.sqrt(1 - 1/(gamma**2))\n",
    "    return velocity"
   ]
  },
  {
   "cell_type": "code",
   "execution_count": 31,
   "metadata": {
    "slideshow": {
     "slide_type": "slide"
    }
   },
   "outputs": [
    {
     "data": {
      "text/plain": [
       "0.9999560068323006"
      ]
     },
     "execution_count": 31,
     "metadata": {},
     "output_type": "execute_result"
    }
   ],
   "source": [
    "# 如果函数参数有默认值，可直接调用\n",
    "\n",
    "velocity_of_nucleus()"
   ]
  },
  {
   "cell_type": "code",
   "execution_count": 32,
   "metadata": {
    "slideshow": {
     "slide_type": "fragment"
    }
   },
   "outputs": [
    {
     "data": {
      "text/plain": [
       "0.9999560068323006"
      ]
     },
     "execution_count": 32,
     "metadata": {},
     "output_type": "execute_result"
    }
   ],
   "source": [
    "# 也可显式赋值调用\n",
    "\n",
    "velocity_of_nucleus(sqrtsnn=200)"
   ]
  },
  {
   "cell_type": "code",
   "execution_count": 33,
   "metadata": {
    "scrolled": true,
    "slideshow": {
     "slide_type": "slide"
    }
   },
   "outputs": [
    {
     "data": {
      "text/plain": [
       "0.9999997689970328"
      ]
     },
     "execution_count": 33,
     "metadata": {},
     "output_type": "execute_result"
    }
   ],
   "source": [
    "# LHC 能量 sqrtsnn = 2760 GeV 碰撞\n",
    "vlhc = velocity_of_nucleus(sqrtsnn=2760)\n",
    "vlhc"
   ]
  },
  {
   "cell_type": "code",
   "execution_count": 34,
   "metadata": {
    "slideshow": {
     "slide_type": "fragment"
    }
   },
   "outputs": [
    {
     "data": {
      "text/plain": [
       "1471.2153520044649"
      ]
     },
     "execution_count": 34,
     "metadata": {},
     "output_type": "execute_result"
    }
   ],
   "source": [
    "# 在 LHC 能量下（$\\sqrt{s_{NN}}=2760$ GeV）, 原子核被加速到了百分之 99.99998 的光速！\n",
    "\n",
    "# 原子核沿束流方向的厚度被压缩了 1471 倍，collision of pancakes!\n",
    "\n",
    "lorentz_gamma(vlhc)"
   ]
  },
  {
   "cell_type": "markdown",
   "metadata": {
    "slideshow": {
     "slide_type": "slide"
    }
   },
   "source": [
    "## 递归函数(数学中归纳法）\n",
    "\n",
    "- 已知 n = 1 时结果\n",
    "- 知道 n 到 n+1 的递推公式\n",
    "\n",
    "例子：勒让德多项式\n",
    "\n",
    "$$P_0(x) = 1, \\quad\\; P_1(x) = x,\\quad\\; P_{n+1}(x) = \\left[ (2n+1) x P_n(x) - n P_{n-1} (x)\\right]/(n+1) $$"
   ]
  },
  {
   "cell_type": "code",
   "execution_count": 35,
   "metadata": {
    "slideshow": {
     "slide_type": "slide"
    }
   },
   "outputs": [],
   "source": [
    "def Pn(x, n):\n",
    "    '''此处，Pn 是递归函数，需要调用自己计算 Pn(n-1) 与 Pn(n-2)'''\n",
    "    if n == 0: \n",
    "        return np.ones_like(x)\n",
    "    elif n == 1: \n",
    "        return x\n",
    "    else:\n",
    "        return ((2*n-1)*x*Pn(x, n-1) - (n-1)*Pn(x, n-2))/n"
   ]
  },
  {
   "cell_type": "code",
   "execution_count": 36,
   "metadata": {
    "slideshow": {
     "slide_type": "slide"
    }
   },
   "outputs": [
    {
     "data": {
      "image/png": "[encoded data removed]",
      "text/plain": [
       "<Figure size 432x288 with 1 Axes>"
      ]
     },
     "metadata": {},
     "output_type": "display_data"
    }
   ],
   "source": [
    "x = np.linspace(0, 1, 100)\n",
    "\n",
    "for n in range(5):\n",
    "    legi = Pn(x, n)\n",
    "    plt.plot(x, legi, label=\"%s\"%n)\n",
    "    plt.xlabel(\"x\")\n",
    "    plt.ylabel(r\"$P_n(x)$\")\n",
    "    plt.legend(loc=\"best\")"
   ]
  },
  {
   "cell_type": "markdown",
   "metadata": {
    "slideshow": {
     "slide_type": "slide"
    }
   },
   "source": [
    "## *Warning* 警告：如果将数组作为函数的参数输入，可能会以奇怪的方式改变数组的数值！\n",
    "\n",
    "如果不是用 copy 函数，列表作为参数时传递的是数组的地址！"
   ]
  },
  {
   "cell_type": "code",
   "execution_count": 37,
   "metadata": {
    "slideshow": {
     "slide_type": "fragment"
    }
   },
   "outputs": [
    {
     "name": "stdout",
     "output_type": "stream",
     "text": [
      "[3, 4, 5, 6, 7]\n"
     ]
    }
   ],
   "source": [
    "alist = [3, 4, 5, 6]\n",
    "\n",
    "def test_func(list_arg):\n",
    "    blist = list_arg\n",
    "    blist.append(7)\n",
    "    #print(blist)\n",
    "     \n",
    "test_func(alist)\n",
    "\n",
    "print(alist)"
   ]
  },
  {
   "cell_type": "code",
   "execution_count": 38,
   "metadata": {
    "slideshow": {
     "slide_type": "slide"
    }
   },
   "outputs": [
    {
     "name": "stdout",
     "output_type": "stream",
     "text": [
      "blist= [3, 4, 5, 6, 7]\n",
      "alist= [3, 4, 5, 6]\n"
     ]
    }
   ],
   "source": [
    "alist = [3, 4, 5, 6]\n",
    "\n",
    "def test_func(list_arg):\n",
    "    # 如果不想改变list参数，用 copy 函数\n",
    "    blist = list_arg.copy()\n",
    "    blist.append(7)\n",
    "    print(\"blist=\", blist)\n",
    "    \n",
    "test_func(alist)\n",
    "\n",
    "print(\"alist=\", alist)"
   ]
  },
  {
   "cell_type": "markdown",
   "metadata": {
    "slideshow": {
     "slide_type": "slide"
    }
   },
   "source": [
    "## 面向对象编程：类（Class）\n"
   ]
  },
  {
   "cell_type": "code",
   "execution_count": 39,
   "metadata": {
    "slideshow": {
     "slide_type": "slide"
    }
   },
   "outputs": [],
   "source": [
    "class Particle:\n",
    "    def __init__(self, mass, spin, isospin):\n",
    "        self.mass = mass\n",
    "        self.spin = spin\n",
    "        self.isospin = isospin\n",
    "    \n",
    "    def spin_degenaracy(self):\n",
    "        '''return: the spin degenaracy of the particle'''\n",
    "        return 2*self.spin + 1\n",
    "    \n",
    "    def is_fermion(self):\n",
    "        '''check whether a particle is fermion or boson'''\n",
    "        g = self.spin_degenaracy()\n",
    "        if g%2 == 0:\n",
    "            return True\n",
    "        else:\n",
    "            return False\n",
    "    \n",
    "    def thermal_distribution(self, momentum, T):\n",
    "        '''Args:\n",
    "              T: the temperature of the medium\n",
    "           return: \n",
    "              the fermion dirac or boson-eistein distribution'''\n",
    "        assert(T>0)\n",
    "        E = np.sqrt(momentum**2 + self.mass**2)\n",
    "        if self.is_fermion():\n",
    "            dist = self.spin_degenaracy() / (np.exp(E/T) + 1)\n",
    "        else:\n",
    "            dist = self.spin_degenaracy() / (np.exp(E/T) - 1)\n",
    "        return dist"
   ]
  },
  {
   "cell_type": "code",
   "execution_count": 40,
   "metadata": {
    "slideshow": {
     "slide_type": "slide"
    }
   },
   "outputs": [
    {
     "data": {
      "text/plain": [
       "False"
      ]
     },
     "execution_count": 40,
     "metadata": {},
     "output_type": "execute_result"
    }
   ],
   "source": [
    "pion = Particle(mass=0.138, spin=0, isospin=1)\n",
    "pion.is_fermion()"
   ]
  },
  {
   "cell_type": "code",
   "execution_count": 41,
   "metadata": {
    "slideshow": {
     "slide_type": "fragment"
    }
   },
   "outputs": [
    {
     "name": "stdout",
     "output_type": "stream",
     "text": [
      "[4.04966991e-01 1.39352268e-01 4.59597053e-02 1.53020154e-02\n",
      " 5.10186545e-03 1.69725811e-03 5.63091049e-04 1.86381753e-04\n",
      " 6.15828011e-05 2.03209338e-05 6.69887008e-06 2.20666865e-06\n",
      " 7.26481591e-07 2.39065916e-07 7.86422093e-08 2.58623668e-08\n",
      " 8.50311111e-09 2.79512931e-09 9.18658586e-10 3.01887749e-10]\n"
     ]
    }
   ],
   "source": [
    "momentum = np.linspace(0.1, 3, 20)\n",
    "density = pion.thermal_distribution(momentum, T=0.137)\n",
    "print(density)"
   ]
  },
  {
   "cell_type": "code",
   "execution_count": 42,
   "metadata": {
    "slideshow": {
     "slide_type": "slide"
    }
   },
   "outputs": [],
   "source": [
    "kaon = Particle(mass=0.49, spin=0, isospin=1)\n",
    "kaon_density = kaon.thermal_distribution(momentum, T=0.137)"
   ]
  },
  {
   "cell_type": "code",
   "execution_count": 43,
   "metadata": {
    "slideshow": {
     "slide_type": "fragment"
    }
   },
   "outputs": [
    {
     "data": {
      "text/plain": [
       "[<matplotlib.lines.Line2D at 0x22816fc3d00>]"
      ]
     },
     "execution_count": 43,
     "metadata": {},
     "output_type": "execute_result"
    },
    {
     "data": {
      "image/png": "[encoded data removed]",
      "text/plain": [
       "<Figure size 432x288 with 1 Axes>"
      ]
     },
     "metadata": {},
     "output_type": "display_data"
    }
   ],
   "source": [
    "plt.semilogy(momentum, density)\n",
    "plt.semilogy(momentum, kaon_density, 'o-')"
   ]
  },
  {
   "cell_type": "markdown",
   "metadata": {
    "slideshow": {
     "slide_type": "slide"
    }
   },
   "source": [
    "## 读写文件操作\n",
    "\n",
    "最常用的文件格式：txt, csv, hdf5\n",
    "\n",
    "- csv 是 txt 类型数据格式 （交互性较好）\n",
    "- hdf5 是二进制类型数据格式 （数据载入速度比较快）\n",
    "- 少量数据用 txt，大量数据用 hdf5\n",
    "\n",
    "下面介绍几种文件读写方法。"
   ]
  },
  {
   "cell_type": "markdown",
   "metadata": {
    "slideshow": {
     "slide_type": "slide"
    }
   },
   "source": [
    "### 1. 使用 python 系统 io 进行 txt 文件读写\n",
    "\n",
    "```python\n",
    "with open(\"test.txt\", \"w\") as fout:\n",
    "    fout.write(\"hello world\")\n",
    "```\n",
    "\n",
    "这条命令打开一个文件 test.txt, 向其中写入 \"hello world\", 并关闭文件。\n",
    "\n",
    "使用 with 语句可以保证在读写文件失败的时候，文件自动关闭，推荐使用。"
   ]
  },
  {
   "cell_type": "code",
   "execution_count": 44,
   "metadata": {
    "slideshow": {
     "slide_type": "slide"
    }
   },
   "outputs": [
    {
     "name": "stdout",
     "output_type": "stream",
     "text": [
      "hello world\n"
     ]
    }
   ],
   "source": [
    "# 打开文件，向其中写 hello world\n",
    "with open(\"test.txt\", \"w\") as fout:\n",
    "    fout.write(\"hello world\")\n",
    "    \n",
    "# 此时可以检查，目录下多了 test.txt\n",
    "# !cat 是命令行工具，可以输出文件内容\n",
    "!cat test.txt "
   ]
  },
  {
   "cell_type": "code",
   "execution_count": 45,
   "metadata": {
    "slideshow": {
     "slide_type": "fragment"
    }
   },
   "outputs": [
    {
     "name": "stdout",
     "output_type": "stream",
     "text": [
      "Read from test.txt : hello world\n"
     ]
    }
   ],
   "source": [
    "#  读文件，并输出\n",
    "with open(\"test.txt\", \"r\") as fin:\n",
    "    txt = fin.read()\n",
    "    \n",
    "print(\"Read from test.txt :\", txt)"
   ]
  },
  {
   "cell_type": "markdown",
   "metadata": {
    "slideshow": {
     "slide_type": "slide"
    }
   },
   "source": [
    "### 2. 使用 numpy 库进行数据读写\n",
    "\n",
    "np.loadtxt, np.savetxt 分别可以读写数据文件\n",
    "\n",
    "速度比 pandas.read_csv 函数慢，但不容易出错"
   ]
  },
  {
   "cell_type": "code",
   "execution_count": 46,
   "metadata": {
    "slideshow": {
     "slide_type": "slide"
    }
   },
   "outputs": [
    {
     "data": {
      "text/plain": [
       "array([[0.70806862, 0.36290251, 0.42432538, 0.08019838],\n",
       "       [0.98111599, 0.87287279, 0.52940939, 0.05581787],\n",
       "       [0.62925162, 0.41376343, 0.42454019, 0.29796559],\n",
       "       [0.34702341, 0.5126459 , 0.03086713, 0.0926828 ],\n",
       "       [0.79193308, 0.26338727, 0.95215944, 0.03741891]])"
      ]
     },
     "execution_count": 46,
     "metadata": {},
     "output_type": "execute_result"
    }
   ],
   "source": [
    "# 产生 5 行 4 列 随机数，范围 [0, 1)\n",
    "rand_data = np.random.rand(5, 4)\n",
    "\n",
    "rand_data"
   ]
  },
  {
   "cell_type": "code",
   "execution_count": 47,
   "metadata": {
    "slideshow": {
     "slide_type": "slide"
    }
   },
   "outputs": [
    {
     "name": "stdout",
     "output_type": "stream",
     "text": [
      "7.080686218118419362e-01 3.629025145442844602e-01 4.243253816559156011e-01 8.019837552752551169e-02\n",
      "9.811159855768012417e-01 8.728727884847020668e-01 5.294093870870227869e-01 5.581787224278389470e-02\n",
      "6.292516238478628177e-01 4.137634307429136626e-01 4.245401871107132852e-01 2.979655873627087281e-01\n",
      "3.470234127002631563e-01 5.126458999597933719e-01 3.086713413454655885e-02 9.268280229837533302e-02\n",
      "7.919330820168981599e-01 2.633872667058918537e-01 9.521594379817640563e-01 3.741890507791190146e-02\n"
     ]
    }
   ],
   "source": [
    "# 保存数据到硬盘\n",
    "\n",
    "np.savetxt(\"rand_data.txt\", rand_data)\n",
    "\n",
    "!cat rand_data.txt "
   ]
  },
  {
   "cell_type": "code",
   "execution_count": 48,
   "metadata": {
    "slideshow": {
     "slide_type": "slide"
    }
   },
   "outputs": [
    {
     "data": {
      "text/plain": [
       "array([[0.70806862, 0.36290251, 0.42432538, 0.08019838],\n",
       "       [0.98111599, 0.87287279, 0.52940939, 0.05581787],\n",
       "       [0.62925162, 0.41376343, 0.42454019, 0.29796559],\n",
       "       [0.34702341, 0.5126459 , 0.03086713, 0.0926828 ],\n",
       "       [0.79193308, 0.26338727, 0.95215944, 0.03741891]])"
      ]
     },
     "execution_count": 48,
     "metadata": {},
     "output_type": "execute_result"
    }
   ],
   "source": [
    "# 从硬盘文件 rand_data.txt 读取数据\n",
    "mydata = np.loadtxt(\"rand_data.txt\")\n",
    "mydata"
   ]
  },
  {
   "cell_type": "markdown",
   "metadata": {
    "slideshow": {
     "slide_type": "slide"
    }
   },
   "source": [
    "### 3. 使用 pandas 读写文件\n",
    "\n",
    "pandas 可以读取 csv、excel、hdf5、json、xml 等文件格式\n",
    "\n",
    "这里仅对 csv 格式文件进行示例。\n",
    "\n",
    "这里需要先产生 DataFrame 类型数据，然后对其进行保存。"
   ]
  },
  {
   "cell_type": "code",
   "execution_count": 49,
   "metadata": {
    "slideshow": {
     "slide_type": "slide"
    }
   },
   "outputs": [
    {
     "name": "stdout",
     "output_type": "stream",
     "text": [
      ",col1,col2,col3,col4\n",
      "0,0.7080686218118419,0.36290251454428446,0.4243253816559156,0.08019837552752551\n",
      "1,0.9811159855768012,0.8728727884847021,0.5294093870870228,0.055817872242783895\n",
      "2,0.6292516238478628,0.41376343074291366,0.4245401871107133,0.29796558736270873\n",
      "3,0.34702341270026316,0.5126458999597934,0.03086713413454656,0.09268280229837533\n",
      "4,0.7919330820168982,0.26338726670589185,0.9521594379817641,0.0374189050779119\n"
     ]
    }
   ],
   "source": [
    "import pandas as pd\n",
    "\n",
    "df = pd.DataFrame(data=mydata, \n",
    "                  columns=['col1', 'col2', 'col3', 'col4'])\n",
    "\n",
    "# pandas 的 DataFrame 多存储了每一列的名字\n",
    "df.to_csv(\"pd_data.csv\")\n",
    "\n",
    "!cat pd_data.csv"
   ]
  },
  {
   "cell_type": "code",
   "execution_count": 50,
   "metadata": {
    "slideshow": {
     "slide_type": "slide"
    }
   },
   "outputs": [
    {
     "data": {
      "text/html": [
       "<div>\n",
       "<style scoped>\n",
       "    .dataframe tbody tr th:only-of-type {\n",
       "        vertical-align: middle;\n",
       "    }\n",
       "\n",
       "    .dataframe tbody tr th {\n",
       "        vertical-align: top;\n",
       "    }\n",
       "\n",
       "    .dataframe thead th {\n",
       "        text-align: right;\n",
       "    }\n",
       "</style>\n",
       "<table border=\"1\" class=\"dataframe\">\n",
       "  <thead>\n",
       "    <tr style=\"text-align: right;\">\n",
       "      <th></th>\n",
       "      <th>col1</th>\n",
       "      <th>col2</th>\n",
       "      <th>col3</th>\n",
       "      <th>col4</th>\n",
       "    </tr>\n",
       "  </thead>\n",
       "  <tbody>\n",
       "    <tr>\n",
       "      <th>0</th>\n",
       "      <td>0.708069</td>\n",
       "      <td>0.362903</td>\n",
       "      <td>0.424325</td>\n",
       "      <td>0.080198</td>\n",
       "    </tr>\n",
       "    <tr>\n",
       "      <th>1</th>\n",
       "      <td>0.981116</td>\n",
       "      <td>0.872873</td>\n",
       "      <td>0.529409</td>\n",
       "      <td>0.055818</td>\n",
       "    </tr>\n",
       "    <tr>\n",
       "      <th>2</th>\n",
       "      <td>0.629252</td>\n",
       "      <td>0.413763</td>\n",
       "      <td>0.424540</td>\n",
       "      <td>0.297966</td>\n",
       "    </tr>\n",
       "    <tr>\n",
       "      <th>3</th>\n",
       "      <td>0.347023</td>\n",
       "      <td>0.512646</td>\n",
       "      <td>0.030867</td>\n",
       "      <td>0.092683</td>\n",
       "    </tr>\n",
       "    <tr>\n",
       "      <th>4</th>\n",
       "      <td>0.791933</td>\n",
       "      <td>0.263387</td>\n",
       "      <td>0.952159</td>\n",
       "      <td>0.037419</td>\n",
       "    </tr>\n",
       "  </tbody>\n",
       "</table>\n",
       "</div>"
      ],
      "text/plain": [
       "       col1      col2      col3      col4\n",
       "0  0.708069  0.362903  0.424325  0.080198\n",
       "1  0.981116  0.872873  0.529409  0.055818\n",
       "2  0.629252  0.413763  0.424540  0.297966\n",
       "3  0.347023  0.512646  0.030867  0.092683\n",
       "4  0.791933  0.263387  0.952159  0.037419"
      ]
     },
     "execution_count": 50,
     "metadata": {},
     "output_type": "execute_result"
    }
   ],
   "source": [
    "pd_data = pd.read_csv(\"pd_data.csv\", index_col=0)\n",
    "\n",
    "pd_data.head()"
   ]
  },
  {
   "cell_type": "markdown",
   "metadata": {
    "slideshow": {
     "slide_type": "slide"
    }
   },
   "source": [
    "### 4. 使用 h5py 读写 hdf5 文件\n",
    "\n",
    "此处需要 h5py 库，可以在 Anaconda 中安装，或在命令行安装\n",
    "\n",
    "```bash \n",
    "pip install --user h5py\n",
    "```"
   ]
  },
  {
   "cell_type": "code",
   "execution_count": 51,
   "metadata": {
    "slideshow": {
     "slide_type": "slide"
    }
   },
   "outputs": [
    {
     "name": "stdout",
     "output_type": "stream",
     "text": [
      "[[0.70806862 0.36290251 0.42432538 0.08019838]\n",
      " [0.98111599 0.87287279 0.52940939 0.05581787]\n",
      " [0.62925162 0.41376343 0.42454019 0.29796559]\n",
      " [0.34702341 0.5126459  0.03086713 0.0926828 ]\n",
      " [0.79193308 0.26338727 0.95215944 0.03741891]]\n"
     ]
    }
   ],
   "source": [
    "import h5py\n",
    "\n",
    "# 将数据写入文件，可以使用 create_dataset 创建多个 dataset \n",
    "with h5py.File(\"h5_file.h5\", \"w\") as h5:\n",
    "    h5.create_dataset(\"rand\", data=mydata)\n",
    "\n",
    "# 从 h5 文件中读取数据，h5[\"rand\"][...] 将其表示为 numpy 数组\n",
    "with h5py.File(\"h5_file.h5\", \"r\") as h5:\n",
    "    h5data = h5[\"rand\"][...]\n",
    "\n",
    "print(h5data)"
   ]
  },
  {
   "cell_type": "markdown",
   "metadata": {
    "slideshow": {
     "slide_type": "slide"
    }
   },
   "source": [
    "## Python 画图 (科学绘图中不同对象的名称）\n",
    "\n",
    "<img src=\"images/matplotlib_intro_figs.png\" width=800px />"
   ]
  },
  {
   "cell_type": "code",
   "execution_count": 52,
   "metadata": {
    "slideshow": {
     "slide_type": "slide"
    }
   },
   "outputs": [
    {
     "data": {
      "image/png": "[encoded data removed]",
      "text/plain": [
       "<Figure size 432x288 with 1 Axes>"
      ]
     },
     "metadata": {},
     "output_type": "display_data"
    }
   ],
   "source": [
    "# matplotlib 绘图：先产生离散的坐标 x，区间[-10, 10], 100 个点\n",
    "x = np.linspace(-10, 10, 100)\n",
    "# 再计算这些坐标上的 y，使用 numpy 函数可以直接操作整个数组中的所有元素\n",
    "y = np.sin(x)\n",
    "# 画出红色的点线图\n",
    "plt.plot(x, y, 'ro-')\n",
    "\n",
    "plt.xlabel(\"x\")\n",
    "plt.ylabel(\"$\\sin(x)$\")\n",
    "plt.savefig(\"sinx.pdf\")"
   ]
  },
  {
   "cell_type": "code",
   "execution_count": 53,
   "metadata": {
    "slideshow": {
     "slide_type": "slide"
    }
   },
   "outputs": [
    {
     "data": {
      "text/plain": [
       "<matplotlib.legend.Legend at 0x22818393970>"
      ]
     },
     "execution_count": 53,
     "metadata": {},
     "output_type": "execute_result"
    },
    {
     "data": {
      "image/png": "[encoded data removed]",
      "text/plain": [
       "<Figure size 432x288 with 1 Axes>"
      ]
     },
     "metadata": {},
     "output_type": "display_data"
    }
   ],
   "source": [
    "# Legend for different lines\n",
    "\n",
    "x = np.linspace(-10, 10, 100)\n",
    "y = np.sin(x)\n",
    "\n",
    "plt.plot(x, np.sin(x), 'o', label='y=sin(x)')\n",
    "plt.plot(x, np.cos(x), 'o-', label='y=cos(x)')\n",
    "\n",
    "plt.xlabel(\"x\")\n",
    "plt.ylabel(\"y\")\n",
    "plt.legend(loc='best')\n",
    "#plt.savefig(\"legend.pdf\")"
   ]
  },
  {
   "cell_type": "code",
   "execution_count": 54,
   "metadata": {
    "slideshow": {
     "slide_type": "slide"
    }
   },
   "outputs": [],
   "source": [
    "# 适合文章发表要求的图片格式， 使用 SciencePlots 库\n",
    "# pip install SciencePlots\n",
    "def pretty_plot():\n",
    "    with plt.style.context(['science','ieee', 'no-latex']):\n",
    "        x = np.linspace(-10, 10, 100)\n",
    "        y = np.sin(x) \n",
    "\n",
    "        plt.plot(x, np.sin(x), label='y=sin(x)')\n",
    "        plt.plot(x, np.cos(x), label='y=cos(x)')\n",
    "\n",
    "        plt.xlabel(\"x\")\n",
    "        plt.ylabel(\"y\")\n",
    "\n",
    "        # change y range\n",
    "        plt.ylim(-1.5, 2.5)\n",
    "        plt.legend(loc='best')\n",
    "        #plt.savefig(\"legend.pdf\")"
   ]
  },
  {
   "cell_type": "code",
   "execution_count": 55,
   "metadata": {
    "slideshow": {
     "slide_type": "slide"
    }
   },
   "outputs": [
    {
     "data": {
      "image/png": "[encoded data removed]",
      "text/plain": [
       "<Figure size 1980x1500 with 1 Axes>"
      ]
     },
     "metadata": {},
     "output_type": "display_data"
    }
   ],
   "source": [
    "pretty_plot()"
   ]
  },
  {
   "cell_type": "markdown",
   "metadata": {
    "slideshow": {
     "slide_type": "slide"
    }
   },
   "source": [
    "## 简单的交互"
   ]
  },
  {
   "cell_type": "code",
   "execution_count": 56,
   "metadata": {
    "slideshow": {
     "slide_type": "fragment"
    }
   },
   "outputs": [],
   "source": [
    "y = 8 "
   ]
  },
  {
   "cell_type": "code",
   "execution_count": 57,
   "metadata": {
    "slideshow": {
     "slide_type": "slide"
    }
   },
   "outputs": [
    {
     "name": "stdout",
     "output_type": "stream",
     "text": [
      "输入你猜的数：3\n",
      "猜小了,请重猜:9\n",
      "猜大了, 请重猜:8\n",
      "猜对了！\n"
     ]
    }
   ],
   "source": [
    "# 简单的猜数游戏\n",
    "x = int(input(\"输入你猜的数：\"))\n",
    "\n",
    "while x != y:\n",
    "    if x < y:\n",
    "        x = int(input(\"猜小了,请重猜:\"))\n",
    "    elif x > y:\n",
    "        x = int(input(\"猜大了, 请重猜:\"))\n",
    "        \n",
    "print(\"猜对了！\")"
   ]
  },
  {
   "cell_type": "code",
   "execution_count": 58,
   "metadata": {
    "slideshow": {
     "slide_type": "slide"
    }
   },
   "outputs": [
    {
     "data": {
      "application/vnd.jupyter.widget-view+json": {
       "model_id": "d410b327fe7c466d90b8b3a1f96340e6",
       "version_major": 2,
       "version_minor": 0
      },
      "text/plain": [
       "interactive(children=(IntSlider(value=10, description='m', max=30, min=-10), IntSlider(value=10, description='…"
      ]
     },
     "metadata": {},
     "output_type": "display_data"
    }
   ],
   "source": [
    "# 需要安装 ipywidgets 插件\n",
    "\n",
    "from ipywidgets import interact\n",
    "\n",
    "@interact(m=10, b=10)\n",
    "def plot_line(m, b):\n",
    "    print('%s * x + %s'%(m, b))"
   ]
  },
  {
   "cell_type": "code",
   "execution_count": 59,
   "metadata": {
    "slideshow": {
     "slide_type": "slide"
    }
   },
   "outputs": [
    {
     "data": {
      "application/vnd.jupyter.widget-view+json": {
       "model_id": "94ba210367974a6b80bd700f911a5639",
       "version_major": 2,
       "version_minor": 0
      },
      "text/plain": [
       "interactive(children=(IntSlider(value=1, description='m', max=3, min=-1), IntSlider(value=1, description='b', …"
      ]
     },
     "metadata": {},
     "output_type": "display_data"
    }
   ],
   "source": [
    "@interact(m=1, b=1)\n",
    "def plot_line(m, b):\n",
    "    x = np.linspace(-10, 10, 100)\n",
    "    plt.plot(x, m*x + b)\n",
    "    plt.xlim(-10, 10)\n",
    "    plt.ylim(-10, 10)"
   ]
  },
  {
   "cell_type": "markdown",
   "metadata": {
    "slideshow": {
     "slide_type": "slide"
    }
   },
   "source": [
    "## 如何开发自己的 Python 模块、库\n",
    "\n",
    "如果想在 jupyter notebook 或其他 python 文件中 import 自己的库，\n",
    "\n",
    "可以使用自己喜欢的文本编辑器，将代码存放在自己命名的 mylib.py 文本文件中，然后直接导入：\n",
    "\n",
    "```python\n",
    "import mylib\n",
    "``` "
   ]
  },
  {
   "cell_type": "code",
   "execution_count": 60,
   "metadata": {
    "slideshow": {
     "slide_type": "slide"
    }
   },
   "outputs": [],
   "source": [
    "# mylib.py 中的内容，除了变量定义，函数定义以及类定义之外，还可以包含 main() 函数，测试时使用。\n",
    "\n",
    "# 比如，将下面内容写入文件 test.py, 再 import test 库\n",
    "\n",
    "source_code = '''\n",
    "#!/usr/env python\n",
    "\n",
    "import numpy as np\n",
    "\n",
    "def azimuthal_angle(px, py):\n",
    "    return np.arctan2(py, px)\n",
    "    \n",
    "if __name__ == \"__main__\":\n",
    "    phi = azimuthal_angle(4, 4)\n",
    "    print(\"phi=\", phi)\n",
    "'''\n",
    "\n",
    "with open(\"test.py\", \"w\") as fout:\n",
    "    fout.write(source_code)"
   ]
  },
  {
   "cell_type": "code",
   "execution_count": 61,
   "metadata": {
    "slideshow": {
     "slide_type": "slide"
    }
   },
   "outputs": [
    {
     "name": "stdout",
     "output_type": "stream",
     "text": [
      "\n",
      "#!/usr/env python\n",
      "\n",
      "import numpy as np\n",
      "\n",
      "def azimuthal_angle(px, py):\n",
      "    return np.arctan2(py, px)\n",
      "    \n",
      "if __name__ == \"__main__\":\n",
      "    phi = azimuthal_angle(4, 4)\n",
      "    print(\"phi=\", phi)\n"
     ]
    }
   ],
   "source": [
    "!cat test.py"
   ]
  },
  {
   "cell_type": "code",
   "execution_count": 62,
   "metadata": {
    "slideshow": {
     "slide_type": "slide"
    }
   },
   "outputs": [
    {
     "name": "stdout",
     "output_type": "stream",
     "text": [
      "phi= 0.7853981633974483\n"
     ]
    }
   ],
   "source": [
    "!python test.py"
   ]
  },
  {
   "cell_type": "code",
   "execution_count": 63,
   "metadata": {
    "slideshow": {
     "slide_type": "slide"
    }
   },
   "outputs": [
    {
     "data": {
      "text/plain": [
       "1.0303768265243125"
      ]
     },
     "execution_count": 63,
     "metadata": {},
     "output_type": "execute_result"
    }
   ],
   "source": [
    "import test\n",
    "\n",
    "# 可以看到 if __name__ == \"__main__\" 之后的代码只有在直接运行时起作用\n",
    "# 作为库使用时，不会导入\n",
    "\n",
    "test.azimuthal_angle(px=3, py=5)"
   ]
  },
  {
   "cell_type": "markdown",
   "metadata": {
    "slideshow": {
     "slide_type": "slide"
    }
   },
   "source": [
    "### Python 语法中比较难理解的两点（知道即可）\n",
    "\n",
    "1. Generator 生成器\n",
    "2. Decorator 装饰器\n",
    "\n",
    "**Generator 举例**： range(n) 其实是生成器，在 \n",
    "```for i in range(10000):``` 语句中，\n",
    "\n",
    "**它并不直接生成并保存一个超大数组**，而是从 i=0 开始，一个个生成。\n",
    "\n",
    "所以，range(10) 并不能当做数组 $[0, 1, 2, \\cdots, 9]$ 用。\n"
   ]
  },
  {
   "cell_type": "code",
   "execution_count": 64,
   "metadata": {
    "slideshow": {
     "slide_type": "fragment"
    }
   },
   "outputs": [
    {
     "data": {
      "text/plain": [
       "range(0, 10)"
      ]
     },
     "execution_count": 64,
     "metadata": {},
     "output_type": "execute_result"
    }
   ],
   "source": [
    "# 此处可以看出，range(10) 是一个 generator\n",
    "range(10)"
   ]
  },
  {
   "cell_type": "code",
   "execution_count": 65,
   "metadata": {
    "slideshow": {
     "slide_type": "fragment"
    }
   },
   "outputs": [
    {
     "data": {
      "text/plain": [
       "[0, 1, 2, 3, 4, 5, 6, 7, 8, 9]"
      ]
     },
     "execution_count": 65,
     "metadata": {},
     "output_type": "execute_result"
    }
   ],
   "source": [
    "# 只有加 list() 才会显式计算，并将 generator 转化为 list\n",
    "list(range(10))"
   ]
  },
  {
   "cell_type": "code",
   "execution_count": 66,
   "metadata": {
    "slideshow": {
     "slide_type": "slide"
    }
   },
   "outputs": [
    {
     "data": {
      "text/plain": [
       "<generator object myrange at 0x0000022818456580>"
      ]
     },
     "execution_count": 66,
     "metadata": {},
     "output_type": "execute_result"
    }
   ],
   "source": [
    "# generator 用 yield 语法实现\n",
    "def myrange(n=10):\n",
    "    '''range 的实现'''\n",
    "    i = 0\n",
    "    while i < n:\n",
    "        # yield 调用后会暂停\n",
    "        yield \"my element: %s\"%i\n",
    "        i = i + 1\n",
    "\n",
    "myrange(10)"
   ]
  },
  {
   "cell_type": "code",
   "execution_count": 67,
   "metadata": {
    "slideshow": {
     "slide_type": "slide"
    }
   },
   "outputs": [
    {
     "name": "stdout",
     "output_type": "stream",
     "text": [
      "my element: 0\n",
      "my element: 1\n",
      "my element: 2\n",
      "my element: 3\n",
      "my element: 4\n"
     ]
    }
   ],
   "source": [
    "# yield 保证需要用到时方生成\n",
    "for i in myrange(5):\n",
    "    print(i)"
   ]
  },
  {
   "cell_type": "markdown",
   "metadata": {
    "slideshow": {
     "slide_type": "slide"
    }
   },
   "source": [
    "### 2. Decorator 装饰器\n",
    "\n",
    "Decorator 是函数的函数，前面 @interact 即装饰器。\n",
    "\n",
    "Decorator 将函数作为参数，修改它，然后再返回一个函数。"
   ]
  },
  {
   "cell_type": "code",
   "execution_count": 68,
   "metadata": {
    "slideshow": {
     "slide_type": "slide"
    }
   },
   "outputs": [
    {
     "data": {
      "text/plain": [
       "'Alice'"
      ]
     },
     "execution_count": 68,
     "metadata": {},
     "output_type": "execute_result"
    }
   ],
   "source": [
    "# 举例：hello 是函数的函数\n",
    "def hello(func_username):\n",
    "    '''输入、输出皆为函数'''\n",
    "    def inner(s):\n",
    "        return \"hello %s\"%func_username(s)\n",
    "    \n",
    "    return inner\n",
    "\n",
    "def username(s):\n",
    "    return s\n",
    "\n",
    "username(\"Alice\")      "
   ]
  },
  {
   "cell_type": "code",
   "execution_count": 69,
   "metadata": {
    "slideshow": {
     "slide_type": "slide"
    }
   },
   "outputs": [
    {
     "data": {
      "text/plain": [
       "'hello Alice'"
      ]
     },
     "execution_count": 69,
     "metadata": {},
     "output_type": "execute_result"
    }
   ],
   "source": [
    "hello_user = hello(username)\n",
    "hello_user(\"Alice\")"
   ]
  },
  {
   "cell_type": "code",
   "execution_count": 70,
   "metadata": {
    "slideshow": {
     "slide_type": "fragment"
    }
   },
   "outputs": [
    {
     "data": {
      "text/plain": [
       "'hello Bob'"
      ]
     },
     "execution_count": 70,
     "metadata": {},
     "output_type": "execute_result"
    }
   ],
   "source": [
    "# 语法糖：将 hello 装饰在 username 上\n",
    "# 与 hello(username)(\"Bob\") 等价\n",
    "@hello\n",
    "def username_(s):\n",
    "    return s\n",
    "\n",
    "username_(\"Bob\")"
   ]
  },
  {
   "cell_type": "markdown",
   "metadata": {
    "slideshow": {
     "slide_type": "slide"
    }
   },
   "source": [
    "## 大型的计算物理程序编写原则\n",
    "\n",
    "1. 自顶向下，先规划好程序结构，将不同的功能模块化、函数化\n",
    "2. 每个模块可分离，并对每个模块做尽可能多的单元测试（unit tests）\n",
    "3. 模块、类、函数命名规范，并有清晰的说明文档 help(func)\n",
    "4. 对给定的物理问题，在简化假设下，对比数值解与解析解\n",
    "5. 检查守恒律，比如能量、动量、净电荷守恒、细致平衡等\n",
    "5. 如果市面上有其他代码，与其他代码结果做对比"
   ]
  }
 ],
 "metadata": {
  "celltoolbar": "幻灯片",
  "kernelspec": {
   "display_name": "Python 3",
   "language": "python",
   "name": "python3"
  },
  "language_info": {
   "codemirror_mode": {
    "name": "ipython",
    "version": 3
   },
   "file_extension": ".py",
   "mimetype": "text/x-python",
   "name": "python",
   "nbconvert_exporter": "python",
   "pygments_lexer": "ipython3",
   "version": "3.8.3"
  },
  "rise": {
   "enable_chalkboard": true,
   "scroll": true
  }
 },
 "nbformat": 4,
 "nbformat_minor": 2
}
