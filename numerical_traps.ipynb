{
 "cells": [
  {
   "cell_type": "markdown",
   "metadata": {
    "slideshow": {
     "slide_type": "slide"
    }
   },
   "source": [
    "# 截断误差、舍入误差与科学计算中的陷阱\n",
    "\n",
    "庞龙刚 @ 华中师范大学"
   ]
  },
  {
   "cell_type": "markdown",
   "metadata": {
    "slideshow": {
     "slide_type": "slide"
    }
   },
   "source": [
    "## 学习目标\n",
    "\n",
    "- 认识截断误差（Truncation Error）、舍入误差（Rounding Error）\n",
    "\n",
    "- 认识使用计算机做数值计算可能遇到的**陷阱**\n",
    "\n",
    "- 主动规避，快速定位，解决遇到的**陷阱**"
   ]
  },
  {
   "cell_type": "markdown",
   "metadata": {
    "slideshow": {
     "slide_type": "slide"
    }
   },
   "source": [
    "## 学习任务\n",
    "\n",
    "- 截断误差\n",
    "- 熟悉 float32，float64（double），舍入误差\n",
    "- 知道一个数据类型能表示的最大，最小数，防止溢出\n",
    "- 避免大数加小数，或对大量浮点数的连加操作\n",
    "- 避免两个相近的数相减\n",
    "- 避免对浮点数使用“相等”比较\n",
    "- 熟悉 NaN （Not A Number), inf\n",
    "- 预估任务复杂度、内存和硬盘占用"
   ]
  },
  {
   "cell_type": "markdown",
   "metadata": {
    "slideshow": {
     "slide_type": "slide"
    }
   },
   "source": [
    "## 截断误差：从口算开根号说起\n",
    "\n",
    "有一个神奇的公式，根据它可以口算常见正整数的根号。这个公式就是，\n",
    "\n",
    "\\begin{align}\n",
    "\\sqrt{n+\\Delta n} \\approx \\sqrt{n} + \\frac{\\Delta n}{2 \\sqrt{n}}\n",
    "\\end{align}\n",
    "\n",
    "比如，对于 $\\sqrt{26}$, 上面式子中 $n=25$, $\\Delta n=1$, 口算得到 $\\sqrt{26} \\approx 5 + \\frac{1}{2\\times 5} = 5.1$ 。使用计算器得到的  $\\sqrt{26}=5.099019...$, 上面的口算结果非常接近正确值。"
   ]
  },
  {
   "cell_type": "markdown",
   "metadata": {
    "slideshow": {
     "slide_type": "slide"
    }
   },
   "source": [
    "上面的式子对于 $n=1, 4, 9, 16, 25, 36, ..., 81$ 等等都很好计算，\n",
    "\n",
    "- $\\sqrt{10} = 3.16227 \\approx 3 + \\frac{10 - 9}{2\\times 3} = 3.1667$, \n",
    "- $\\sqrt{82} \\approx 9 + \\frac{1}{2 \\times 9} = 9\\frac{1}{18}$ "
   ]
  },
  {
   "cell_type": "markdown",
   "metadata": {
    "slideshow": {
     "slide_type": "slide"
    }
   },
   "source": [
    "这个公式来自哪里呢？它来自于泰勒展开公式。\n",
    "$$\n",
    "f(x+ \\Delta x) = f(x) + f'(x)\\Delta x + \\frac{1}{2!}f''(x)\\Delta x^2 + \\cdots\n",
    "$$\n",
    "将 $\\sqrt{x+\\Delta x}$ 泰勒展开，\n",
    "$$\n",
    "\\sqrt{x+ \\Delta x} = \\sqrt{x} + \\frac{\\Delta x}{2\\sqrt{x}} - \\frac{1}{8} \\frac{\\Delta x^2}{(\\sqrt{x})^3} + \\cdots\n",
    "$$\n",
    "可以看到，口算开根号公式是泰勒展开的前两项。\n",
    "\n",
    "这个公式的后面所有高阶项都被省略，称为**截断误差**  $O(- \\frac{1}{8} \\frac{\\Delta x^2}{(\\sqrt{x})^3} + \\cdots)$。"
   ]
  },
  {
   "cell_type": "markdown",
   "metadata": {
    "slideshow": {
     "slide_type": "slide"
    }
   },
   "source": [
    "可以尝试口算 $\\sqrt{99} = 9 + \\frac{18}{2\\times 9} = 10$, 计算器算出来的值为 9.94987。因为 $\\Delta x$ 与 $\\sqrt{x}$ 的比值较大，此时截断误差的首项为\n",
    "\n",
    "  $- \\frac{1}{8} \\frac{\\Delta x^2}{(\\sqrt{x})^3} = - \\frac{1}{8} \\frac{18^2}{(9)^3} = - \\frac{1}{18} \\approx -0.05$"
   ]
  },
  {
   "cell_type": "markdown",
   "metadata": {
    "slideshow": {
     "slide_type": "slide"
    }
   },
   "source": [
    "知道了泰勒展开公式，就可以将上面的口算开根号公式推广，\n",
    "$$\n",
    "\\sqrt{n-\\Delta n} \\approx \\sqrt{n} - \\frac{\\Delta n}{2 \\sqrt{n}}\n",
    "$$\n",
    "从离 99 更近的 100 开始计算，则  $\\sqrt{99} =\\sqrt{100-1} \\approx 10 - \\frac{1}{2\\times 10} = 9.95$， 更加接近真实值 9.94987。"
   ]
  },
  {
   "cell_type": "markdown",
   "metadata": {
    "slideshow": {
     "slide_type": "slide"
    }
   },
   "source": [
    "习题 1：使用泰勒展开公式笔算 $\\cos(31^{\\circ})$，并估计截断误差。\n",
    "\n",
    "习题 2：使用泰勒展开公式说明，为何谐振子势 $V(x) = \\frac{1}{2} x^2$ 在物理中应用如此广泛。（提示：束缚态势函数 V(x) 在极小值附近展开）"
   ]
  },
  {
   "cell_type": "markdown",
   "metadata": {
    "slideshow": {
     "slide_type": "slide"
    }
   },
   "source": [
    "## 浮点数与舍入误差\n",
    "\n",
    "理论上实数可以有无穷多位，比如圆周率 $\\pi$,\n",
    "\n",
    "3.14159 26535 89793 23846 26433 83279 50288 41971 69399 37510 58209 74944 59230 78164 06286 20899 86280 34825 34211 70679 .....\n",
    "\n",
    "计算机只能用有限个 bit 表示实数, 引入了舍入误差,\n",
    "\n",
    "根据 IEEE754 标准，使用 32 和 64 个二进制的 bit 表示的浮点数分别被称为单精度和双精度浮点数，它们是科学计算中最常用的数据类型，\n",
    "\n",
    "- float32 (single precision），有效数字约为 7 位， $\\pi = 3.1415927$\n",
    "- float64 (double precision），有效数字约为 16 位, $\\pi= 3.141592653589793$\n",
    "\n"
   ]
  },
  {
   "cell_type": "code",
   "execution_count": 8,
   "metadata": {
    "slideshow": {
     "slide_type": "slide"
    }
   },
   "outputs": [
    {
     "name": "stdout",
     "output_type": "stream",
     "text": [
      "float32(pi)= 3.1415927\n",
      "float64(pi)= 3.141592653589793\n"
     ]
    }
   ],
   "source": [
    "import numpy as np\n",
    "\n",
    "print(\"float32(pi)=\", np.float32(np.pi))\n",
    "print(\"float64(pi)=\", np.float64(np.pi))"
   ]
  },
  {
   "cell_type": "markdown",
   "metadata": {
    "slideshow": {
     "slide_type": "slide"
    }
   },
   "source": [
    "单精度浮点数 （float32)，使用\n",
    "- 1 个 bit 表示正负号，记为 s\n",
    "- 23 个 bit 表示有效数字，记为 $a_0 a_1 \\cdots a_{23}$\n",
    "- 8 个 bit 表示指数位，记为 $b_0 b_1 \\cdots b_7$\n",
    "\n",
    "每个 bit 只有 0 或 1 两个取值。整个浮点数记为，\n",
    "\n",
    "\\begin{align}\n",
    "x = (-1)^s \\times a \\times 2^{b - E}\n",
    "\\end{align}\n",
    "\n",
    "其中 E 表示最大指数位的一半，E(float32) = 127 = $2^7 = 1111111_2$。"
   ]
  },
  {
   "cell_type": "code",
   "execution_count": 4,
   "metadata": {
    "slideshow": {
     "slide_type": "slide"
    }
   },
   "outputs": [],
   "source": [
    "# 科学计数法\n",
    "\n",
    "x = 1.0E-10   # 表示 1乘10的-10次方，对应内部二进制表示 ( s=0, a=0000...001, b-E<0)\n",
    "\n",
    "y = -1.0E8    # 对应内部二进制表示 ( s=1, a=0000...001, b-E>0)"
   ]
  },
  {
   "cell_type": "markdown",
   "metadata": {
    "slideshow": {
     "slide_type": "slide"
    }
   },
   "source": [
    "### 最大的浮点数与数值溢出\n",
    "\n",
    "如果 x 是最大的浮点数，则 2x 会出现数值溢出"
   ]
  },
  {
   "cell_type": "code",
   "execution_count": 12,
   "metadata": {
    "slideshow": {
     "slide_type": "slide"
    }
   },
   "outputs": [
    {
     "data": {
      "text/plain": [
       "sys.float_info(max=1.7976931348623157e+308, max_exp=1024, max_10_exp=308, min=2.2250738585072014e-308, min_exp=-1021, min_10_exp=-307, dig=15, mant_dig=53, epsilon=2.220446049250313e-16, radix=2, rounds=1)"
      ]
     },
     "execution_count": 12,
     "metadata": {},
     "output_type": "execute_result"
    }
   ],
   "source": [
    "# python 默认的 float 为 float64（double）类型，\n",
    "\n",
    "import sys\n",
    "\n",
    "sys.float_info               "
   ]
  },
  {
   "cell_type": "code",
   "execution_count": 8,
   "metadata": {
    "slideshow": {
     "slide_type": "slide"
    }
   },
   "outputs": [
    {
     "name": "stdout",
     "output_type": "stream",
     "text": [
      "x= 1.7976931348623157e+308\n",
      "(2*x)/5= inf\n",
      "0.4*x= 7.190772539449263e+307\n"
     ]
    }
   ],
   "source": [
    "x = sys.float_info.max\n",
    "print(\"x=\", x)\n",
    "print(\"(2*x)/5=\", (2 * x) / 5)\n",
    "print(\"0.4*x=\", 0.4*x)"
   ]
  },
  {
   "cell_type": "code",
   "execution_count": 19,
   "metadata": {
    "slideshow": {
     "slide_type": "slide"
    }
   },
   "outputs": [
    {
     "name": "stdout",
     "output_type": "stream",
     "text": [
      "x= 3.4028235e+38\n",
      "2 x= inf\n"
     ]
    }
   ],
   "source": [
    "# numpy 的 float32 类型可以表示的最大数\n",
    "\n",
    "x = np.finfo(np.float32).max\n",
    "\n",
    "print('x=', x)\n",
    "print('2 x=', np.float32(2 * x))"
   ]
  },
  {
   "cell_type": "code",
   "execution_count": 23,
   "metadata": {
    "slideshow": {
     "slide_type": "fragment"
    }
   },
   "outputs": [
    {
     "data": {
      "text/plain": [
       "finfo(resolution=1e-06, min=-3.4028235e+38, max=3.4028235e+38, dtype=float32)"
      ]
     },
     "execution_count": 23,
     "metadata": {},
     "output_type": "execute_result"
    }
   ],
   "source": [
    "np.finfo(np.float32)"
   ]
  },
  {
   "cell_type": "markdown",
   "metadata": {
    "slideshow": {
     "slide_type": "slide"
    }
   },
   "source": [
    "\n",
    "- float32: 4 个字节 （Bytes），每个字节8个比特（bit），总共 32 个比特，每个比特取值 0 或 1\n",
    "\n",
    "- float32 负数表示范围：-3.4028235E+38 到 -1.401298E-45\n",
    "\n",
    "- float32 正数表示范围：1.401298E-45 到 3.4028235E+38\n",
    "\n",
    "- 因为小数点后有效数字只有6位，float32 没有能力完整表示 100 + 10E-6"
   ]
  },
  {
   "cell_type": "markdown",
   "metadata": {
    "slideshow": {
     "slide_type": "slide"
    }
   },
   "source": [
    "## 大数加小数遇到的困难\n",
    "\n",
    "float32 精度下，下面这两个数相加，结果是多少？\n",
    "\n",
    "A = 3.1415927\n",
    "\n",
    "B = 0.00000005 \n",
    "\n",
    "如果 B 的值小于 A 的舍入误差，则 A+B 的计算与B无关。"
   ]
  },
  {
   "cell_type": "code",
   "execution_count": 13,
   "metadata": {
    "slideshow": {
     "slide_type": "fragment"
    }
   },
   "outputs": [
    {
     "data": {
      "text/plain": [
       "3.1415927"
      ]
     },
     "execution_count": 13,
     "metadata": {},
     "output_type": "execute_result"
    }
   ],
   "source": [
    "# 小数被吃掉\n",
    "np.float32(np.pi) + np.float32(5E-8)"
   ]
  },
  {
   "cell_type": "code",
   "execution_count": 92,
   "metadata": {
    "slideshow": {
     "slide_type": "slide"
    }
   },
   "outputs": [
    {
     "data": {
      "text/plain": [
       "100.0"
      ]
     },
     "execution_count": 92,
     "metadata": {},
     "output_type": "execute_result"
    }
   ],
   "source": [
    "A = np.float32(1.0E2)\n",
    "\n",
    "B = np.float32(1.0E-6)\n",
    "\n",
    "A + B"
   ]
  },
  {
   "cell_type": "markdown",
   "metadata": {
    "slideshow": {
     "slide_type": "slide"
    }
   },
   "source": [
    "举例：夸克胶子等离子体冷却超曲面上发射出的强子数计算使用 Cooper-Frye 公式，\n",
    "\n",
    "\\begin{align}\n",
    "\\int p_{\\mu} d\\Sigma^{\\mu} f(p, T) = \\sum_i p_{\\mu} d\\Sigma^{\\mu}_i f(p, T)\n",
    "\\end{align}\n",
    "\n",
    "其中 $f(p\\cdot u, T) = (2s+1)/(e^{p\\cdot u / T} \\pm 1)$  是费米子(+)或玻色子(-)满足的分布函数。\n",
    "\n",
    "计算中将整个球面分割成几百万个小多边形，计算流过这些多边形的粒子数, 最后对几百万个小片求和。\n",
    "\n",
    "在将代码从 CPU （float64）到 GPU （float32） 上移植时，发现累积误差可以大到 $5\\%$!"
   ]
  },
  {
   "cell_type": "code",
   "execution_count": 16,
   "metadata": {
    "slideshow": {
     "slide_type": "slide"
    }
   },
   "outputs": [
    {
     "name": "stderr",
     "output_type": "stream",
     "text": [
      "100%|█████████████████████████████████████████████████████████████████| 10000000/10000000 [00:02<00:00, 3935904.03it/s]"
     ]
    },
    {
     "name": "stdout",
     "output_type": "stream",
     "text": [
      "theoretical results: 1.0000000116860974\n",
      "accumulated sum： 1.0647675\n",
      "relative error =  0.06476746745356905\n"
     ]
    },
    {
     "name": "stderr",
     "output_type": "stream",
     "text": [
      "\n"
     ]
    }
   ],
   "source": [
    "# 大数加小数困难示例：小数连加\n",
    "\n",
    "from tqdm import tqdm\n",
    "\n",
    "loops = int(1E7)\n",
    "res = np.float32(0.0)\n",
    "dx = np.float32(1.0E-7)\n",
    "\n",
    "for i in tqdm(range(loops)):\n",
    "    res += dx\n",
    "\n",
    "# 真实结果\n",
    "ground_truth = loops*dx\n",
    "\n",
    "print(\"theoretical results: %s\"%(ground_truth))\n",
    "print(\"accumulated sum：\", res)\n",
    "print(\"relative error = \", (res-ground_truth)/ground_truth)"
   ]
  },
  {
   "cell_type": "markdown",
   "metadata": {
    "slideshow": {
     "slide_type": "slide"
    }
   },
   "source": [
    "在 c/c++ 语言中, float32 记为 float，float64 记为 double。\n",
    "\n",
    "python 中默认 float 为 float64\n",
    "\n",
    "numpy：np.float32 或 np.float64\n",
    "\n",
    "一般的科学计算尽量使用 float64 （double）数据类型，会省去很多麻烦（跃过大数吃小数、相近数相减的陷阱）。\n",
    "\n",
    "GPU （图形处理单元，简称显卡） 并行编程时，为了加快运算，一般使用 float32 而不是 double（或称 float64) 类型。\n",
    "\n",
    "目前的人工智能（深度学习）库，有时甚至使用 float16 数据类型。"
   ]
  },
  {
   "cell_type": "markdown",
   "metadata": {
    "slideshow": {
     "slide_type": "slide"
    }
   },
   "source": [
    "## 大数加小数困难的解决方案\n",
    "\n",
    "为了计算速度考虑，如果不想用 double（即 float64）数据类型，又希望大量数字的求和结果比较精确，\n",
    "可以考虑使用如下两种方案：\n",
    "\n",
    "1. Kahan 求和公式（解决串行求和时大数吃小数的问题）\n",
    "2. 将串行求和转化为并行求和"
   ]
  },
  {
   "cell_type": "markdown",
   "metadata": {
    "slideshow": {
     "slide_type": "slide"
    }
   },
   "source": [
    "### Kahan 求和原理\n",
    "\n",
    "<img src=\"images/kahan_sum.gif\" />"
   ]
  },
  {
   "cell_type": "code",
   "execution_count": 37,
   "metadata": {
    "slideshow": {
     "slide_type": "slide"
    }
   },
   "outputs": [],
   "source": [
    "def kahan_sum(arr):\n",
    "    '''连加操作中解决大数吃小数的问题\n",
    "    :arr: numpy array，存储 float 类型\n",
    "    :return: arr 中所有元素的和'''\n",
    "    sum_ = np.float32(0)\n",
    "    correction = np.float32(0)\n",
    "    for addend in tqdm(arr):\n",
    "        addend += correction                  #  <--  \n",
    "        temp_sum = sum_ + addend              #     \\\n",
    "        addend_high = temp_sum - sum_         #     \\\n",
    "        correction = addend - addend_high     #   --\n",
    "        sum_ = temp_sum                       # update\n",
    "        \n",
    "    return sum_"
   ]
  },
  {
   "cell_type": "code",
   "execution_count": 40,
   "metadata": {
    "slideshow": {
     "slide_type": "slide"
    }
   },
   "outputs": [
    {
     "name": "stderr",
     "output_type": "stream",
     "text": [
      "100%|███████████████████████████████████████████████████████████████████| 1000000/1000000 [00:00<00:00, 2881855.25it/s]"
     ]
    },
    {
     "name": "stdout",
     "output_type": "stream",
     "text": [
      "sum(arr)= 1.0090389\n"
     ]
    },
    {
     "name": "stderr",
     "output_type": "stream",
     "text": [
      "\n"
     ]
    }
   ],
   "source": [
    "#举例\n",
    "\n",
    "arr = np.ones(int(1.0E6), dtype=np.float32) * 1.0E-6\n",
    "\n",
    "sum_ = np.float32(0)\n",
    "for x in tqdm(arr):\n",
    "    sum_ += x \n",
    "    \n",
    "print(\"sum(arr)=\", res)"
   ]
  },
  {
   "cell_type": "code",
   "execution_count": 39,
   "metadata": {
    "scrolled": true,
    "slideshow": {
     "slide_type": "slide"
    }
   },
   "outputs": [
    {
     "name": "stderr",
     "output_type": "stream",
     "text": [
      "100%|███████████████████████████████████████████████████████████████████| 1000000/1000000 [00:00<00:00, 1620672.00it/s]\n"
     ]
    },
    {
     "data": {
      "text/plain": [
       "1.0"
      ]
     },
     "execution_count": 39,
     "metadata": {},
     "output_type": "execute_result"
    }
   ],
   "source": [
    "kahan_sum(arr)"
   ]
  },
  {
   "cell_type": "markdown",
   "metadata": {
    "slideshow": {
     "slide_type": "slide"
    }
   },
   "source": [
    "## 避免两个相近的数相减\n",
    "\n",
    "有时候可能会遇到两个相近数的相减，比如计算数值微分时，使用如下公式\n",
    "\n",
    "\\begin{align}\n",
    " {d f \\over dx} = {\\rm lim}_{h \\rightarrow 0} {f(x + h) - f(x) \\over h}\n",
    "\\end{align}\n",
    "\n",
    "从微分的定义来看， $h$ 越小，$df/dx$ 的计算越精确。\n",
    "\n",
    "但 $h$ 越小，$f(x+h)$ 与 $f(x)$ 越接近，会出现相近数的相减问题。"
   ]
  },
  {
   "cell_type": "markdown",
   "metadata": {
    "slideshow": {
     "slide_type": "slide"
    }
   },
   "source": [
    "举例：$f(x) = \\sqrt{x}$, 此时 f(x) 对 x 的导数为，\n",
    "\\begin{align}\n",
    "{df \\over dx} = {1 \\over 2} x^{-1/2}\n",
    "\\end{align}\n",
    "\n",
    "在 x = 1 处，${df \\over dx} = 0.5$."
   ]
  },
  {
   "cell_type": "code",
   "execution_count": 53,
   "metadata": {
    "slideshow": {
     "slide_type": "slide"
    }
   },
   "outputs": [
    {
     "name": "stdout",
     "output_type": "stream",
     "text": [
      "h=0.01, dfdx= 0.49875974655151367\n",
      "h=0.001, dfdx= 0.4998445510864258\n",
      "h=1.0E-6, dfdx= 0.476837158203125\n",
      "h=1.0E-9, dfdx= 0.0\n"
     ]
    }
   ],
   "source": [
    "def f(x):\n",
    "    #return np.sqrt(x)\n",
    "    return np.sqrt(x).astype(np.float32)\n",
    "\n",
    "def dfdx(func, x=1, h=1.0E-6):\n",
    "    return (func(x+h) - func(x))/h\n",
    "\n",
    "print(\"h=0.01, dfdx=\", dfdx(f, h=0.01))\n",
    "print(\"h=0.001, dfdx=\", dfdx(f, h=0.001))\n",
    "print(\"h=1.0E-6, dfdx=\", dfdx(f, h=1.0E-6))\n",
    "print(\"h=1.0E-9, dfdx=\", dfdx(f, h=1.0E-9))"
   ]
  },
  {
   "cell_type": "markdown",
   "metadata": {
    "slideshow": {
     "slide_type": "slide"
    }
   },
   "source": [
    "几个避免相近数相减的替换方案(数值分析，李红）：\n",
    "\n",
    "\\begin{align}\n",
    "\\sqrt{x+\\epsilon} - \\sqrt{x} &= {\\epsilon \\over \\sqrt{x + \\epsilon} + \\sqrt{x}} \\\\\n",
    "\\ln (x+\\epsilon) - \\ln(x) &= \\ln(1 + {\\epsilon \\over x}) \\\\\n",
    "{\\rm for\\ |x|\\ll 1},\\ e^x -1 &= x \\left( 1 + {x \\over 2} + {x^2 \\over 6} + \\cdots \\right) \\\\\n",
    "{\\rm for\\ |x|\\ll 1},\\ 1 - \\cos x &= 2 \\sin^2 {x \\over 2}\n",
    "\\end{align}\n"
   ]
  },
  {
   "cell_type": "markdown",
   "metadata": {
    "slideshow": {
     "slide_type": "slide"
    }
   },
   "source": [
    "## 避免两个浮点数的相等（==）比较\n",
    "\n",
    "因为计算机上浮点数有舍入误差，对浮点数做 == 比较有时会出现不可预测的错误。\n",
    "\n",
    "举例：\n",
    "\n",
    "a = 3.14159268\n",
    "\n",
    "b = 3.14159269\n",
    "\n",
    "判断 a==b 返回 True 还是 False?\n",
    "\n",
    "对于 float32 类型，最后的 8 和 9在舍入误差上，我们希望它返回 True"
   ]
  },
  {
   "cell_type": "code",
   "execution_count": 20,
   "metadata": {
    "slideshow": {
     "slide_type": "slide"
    }
   },
   "outputs": [
    {
     "data": {
      "text/plain": [
       "False"
      ]
     },
     "execution_count": 20,
     "metadata": {},
     "output_type": "execute_result"
    }
   ],
   "source": [
    "# 默认使用 float64 类型\n",
    "a = 3.14159268\n",
    "\n",
    "b = 3.14159269\n",
    "\n",
    "a == b"
   ]
  },
  {
   "cell_type": "code",
   "execution_count": 23,
   "metadata": {
    "slideshow": {
     "slide_type": "fragment"
    }
   },
   "outputs": [
    {
     "data": {
      "text/plain": [
       "True"
      ]
     },
     "execution_count": 23,
     "metadata": {},
     "output_type": "execute_result"
    }
   ],
   "source": [
    "# 比较好的做法是 np.isclose() 或 np.allclose() 函数\n",
    "# 尤其是在对比数值解与解析解时\n",
    "np.isclose(a, b)\n",
    "\n",
    "# 使用 np.isclose(SHIFT + TAB), 在函数括弧处按 SHIFT+TAB 键看函数介绍\n",
    "# 或 help(np.isclose)"
   ]
  },
  {
   "cell_type": "markdown",
   "metadata": {
    "slideshow": {
     "slide_type": "slide"
    }
   },
   "source": [
    "### NaN （Not A Number) 和 inf ($\\infty$)\n",
    "\n",
    "自己辛苦编写了一长串程序，结果却输出 **nan**，怎么办？注意下面这些情形，\n",
    "\n",
    "- $1 \\over x$, x=0\n",
    "- $\\sqrt{x}$, x<0\n",
    "- $\\log(x)$, x<0\n",
    "- $\\exp(x)$, x 非常大\n"
   ]
  },
  {
   "cell_type": "code",
   "execution_count": 2,
   "metadata": {
    "slideshow": {
     "slide_type": "slide"
    }
   },
   "outputs": [
    {
     "name": "stderr",
     "output_type": "stream",
     "text": [
      "C:\\Users\\lgpan\\anaconda3\\envs\\manim\\lib\\site-packages\\ipykernel_launcher.py:6: RuntimeWarning: invalid value encountered in sqrt\n",
      "  \n"
     ]
    },
    {
     "data": {
      "text/plain": [
       "nan"
      ]
     },
     "execution_count": 2,
     "metadata": {},
     "output_type": "execute_result"
    }
   ],
   "source": [
    "import numpy as np\n",
    "\n",
    "x = np.sin(3/2 * np.pi)\n",
    "\n",
    "# 根号下出现了负值\n",
    "y = np.sqrt(x)\n",
    "\n",
    "np.sin(y)"
   ]
  },
  {
   "cell_type": "code",
   "execution_count": 3,
   "metadata": {
    "slideshow": {
     "slide_type": "slide"
    }
   },
   "outputs": [
    {
     "name": "stdout",
     "output_type": "stream",
     "text": [
      "x = -1.0\n"
     ]
    },
    {
     "name": "stderr",
     "output_type": "stream",
     "text": [
      "C:\\Users\\lgpan\\anaconda3\\envs\\manim\\lib\\site-packages\\ipykernel_launcher.py:3: RuntimeWarning: invalid value encountered in double_scalars\n",
      "  This is separate from the ipykernel package so we can avoid doing imports until\n"
     ]
    },
    {
     "data": {
      "text/plain": [
       "nan"
      ]
     },
     "execution_count": 3,
     "metadata": {},
     "output_type": "execute_result"
    }
   ],
   "source": [
    "print(\"x =\", x)\n",
    "# 负数开 4 次方，或其他偶数次方\n",
    "x**(1/4)"
   ]
  },
  {
   "cell_type": "code",
   "execution_count": 4,
   "metadata": {
    "slideshow": {
     "slide_type": "slide"
    }
   },
   "outputs": [
    {
     "name": "stderr",
     "output_type": "stream",
     "text": [
      "C:\\Users\\lgpan\\anaconda3\\envs\\manim\\lib\\site-packages\\ipykernel_launcher.py:3: RuntimeWarning: divide by zero encountered in double_scalars\n",
      "  This is separate from the ipykernel package so we can avoid doing imports until\n"
     ]
    },
    {
     "data": {
      "text/plain": [
       "inf"
      ]
     },
     "execution_count": 4,
     "metadata": {},
     "output_type": "execute_result"
    }
   ],
   "source": [
    "x = np.sin(0)\n",
    "\n",
    "100 / x"
   ]
  },
  {
   "cell_type": "code",
   "execution_count": 7,
   "metadata": {
    "slideshow": {
     "slide_type": "slide"
    }
   },
   "outputs": [],
   "source": [
    "# 根据粒子出射动量 (px, py)，计算方位角\n",
    "def phi(px, py, wrong_method=False):\n",
    "    '''计算出射角度\n",
    "    :px: 动量的 x 分量\n",
    "    :py: 动量的 y 分量\n",
    "    :return: 方位角 [-pi, pi)'''\n",
    "    return np.arctan2(py, px)\n",
    "    \n",
    "    # 注意：不能使用 np.arctan(py/px) 函数\n",
    "    # 因为，如果粒子沿 y 轴出射, px==0, \n",
    "    # py/px 会出现“除零错误”"
   ]
  },
  {
   "cell_type": "code",
   "execution_count": 12,
   "metadata": {
    "scrolled": true,
    "slideshow": {
     "slide_type": "slide"
    }
   },
   "outputs": [
    {
     "name": "stdout",
     "output_type": "stream",
     "text": [
      "phi(px=0, py=1)= 1.5707963267948966\n",
      "phi(px=-1, py=0)= 3.141592653589793\n",
      "phi(px=0, py=-1)= -1.5707963267948966\n"
     ]
    }
   ],
   "source": [
    "print(\"phi(px=0, py=1)=\", phi(0, 1))\n",
    "print(\"phi(px=-1, py=0)=\", phi(-1, 0))\n",
    "print(\"phi(px=0, py=-1)=\", phi(0, -1))"
   ]
  },
  {
   "cell_type": "code",
   "execution_count": 15,
   "metadata": {
    "slideshow": {
     "slide_type": "slide"
    }
   },
   "outputs": [
    {
     "ename": "ZeroDivisionError",
     "evalue": "division by zero",
     "output_type": "error",
     "traceback": [
      "\u001b[1;31m---------------------------------------------------------------------------\u001b[0m",
      "\u001b[1;31mZeroDivisionError\u001b[0m                         Traceback (most recent call last)",
      "\u001b[1;32m<ipython-input-15-db7a29662662>\u001b[0m in \u001b[0;36m<module>\u001b[1;34m\u001b[0m\n\u001b[0;32m      3\u001b[0m     \u001b[1;32mreturn\u001b[0m \u001b[0mnp\u001b[0m\u001b[1;33m.\u001b[0m\u001b[0marctan\u001b[0m\u001b[1;33m(\u001b[0m\u001b[0mpy\u001b[0m\u001b[1;33m/\u001b[0m\u001b[0mpx\u001b[0m\u001b[1;33m)\u001b[0m\u001b[1;33m\u001b[0m\u001b[1;33m\u001b[0m\u001b[0m\n\u001b[0;32m      4\u001b[0m \u001b[1;33m\u001b[0m\u001b[0m\n\u001b[1;32m----> 5\u001b[1;33m \u001b[0mphi_wrong\u001b[0m\u001b[1;33m(\u001b[0m\u001b[0mpx\u001b[0m\u001b[1;33m=\u001b[0m\u001b[1;36m0\u001b[0m\u001b[1;33m,\u001b[0m \u001b[0mpy\u001b[0m\u001b[1;33m=\u001b[0m\u001b[1;36m1\u001b[0m\u001b[1;33m)\u001b[0m\u001b[1;33m\u001b[0m\u001b[1;33m\u001b[0m\u001b[0m\n\u001b[0m",
      "\u001b[1;32m<ipython-input-15-db7a29662662>\u001b[0m in \u001b[0;36mphi_wrong\u001b[1;34m(px, py)\u001b[0m\n\u001b[0;32m      1\u001b[0m \u001b[1;32mdef\u001b[0m \u001b[0mphi_wrong\u001b[0m\u001b[1;33m(\u001b[0m\u001b[0mpx\u001b[0m\u001b[1;33m,\u001b[0m \u001b[0mpy\u001b[0m\u001b[1;33m)\u001b[0m\u001b[1;33m:\u001b[0m\u001b[1;33m\u001b[0m\u001b[1;33m\u001b[0m\u001b[0m\n\u001b[0;32m      2\u001b[0m     \u001b[1;34m'''这是错误的计算粒子出射方位角方法'''\u001b[0m\u001b[1;33m\u001b[0m\u001b[1;33m\u001b[0m\u001b[0m\n\u001b[1;32m----> 3\u001b[1;33m     \u001b[1;32mreturn\u001b[0m \u001b[0mnp\u001b[0m\u001b[1;33m.\u001b[0m\u001b[0marctan\u001b[0m\u001b[1;33m(\u001b[0m\u001b[0mpy\u001b[0m\u001b[1;33m/\u001b[0m\u001b[0mpx\u001b[0m\u001b[1;33m)\u001b[0m\u001b[1;33m\u001b[0m\u001b[1;33m\u001b[0m\u001b[0m\n\u001b[0m\u001b[0;32m      4\u001b[0m \u001b[1;33m\u001b[0m\u001b[0m\n\u001b[0;32m      5\u001b[0m \u001b[0mphi_wrong\u001b[0m\u001b[1;33m(\u001b[0m\u001b[0mpx\u001b[0m\u001b[1;33m=\u001b[0m\u001b[1;36m0\u001b[0m\u001b[1;33m,\u001b[0m \u001b[0mpy\u001b[0m\u001b[1;33m=\u001b[0m\u001b[1;36m1\u001b[0m\u001b[1;33m)\u001b[0m\u001b[1;33m\u001b[0m\u001b[1;33m\u001b[0m\u001b[0m\n",
      "\u001b[1;31mZeroDivisionError\u001b[0m: division by zero"
     ]
    }
   ],
   "source": [
    "def phi_wrong(px, py):\n",
    "    '''这是错误的计算粒子出射方位角方法'''\n",
    "    return np.arctan(py/px)\n",
    "\n",
    "phi_wrong(px=0, py=1)"
   ]
  },
  {
   "cell_type": "code",
   "execution_count": 5,
   "metadata": {
    "slideshow": {
     "slide_type": "slide"
    }
   },
   "outputs": [
    {
     "ename": "AssertionError",
     "evalue": "",
     "output_type": "error",
     "traceback": [
      "\u001b[1;31m---------------------------------------------------------------------------\u001b[0m",
      "\u001b[1;31mAssertionError\u001b[0m                            Traceback (most recent call last)",
      "\u001b[1;32m<ipython-input-5-cd4848b98f00>\u001b[0m in \u001b[0;36m<module>\u001b[1;34m\u001b[0m\n\u001b[0;32m      3\u001b[0m \u001b[1;31m# （2）或者使用 异常 捕获机制\u001b[0m\u001b[1;33m\u001b[0m\u001b[1;33m\u001b[0m\u001b[1;33m\u001b[0m\u001b[0m\n\u001b[0;32m      4\u001b[0m \u001b[0mx\u001b[0m \u001b[1;33m=\u001b[0m \u001b[1;33m-\u001b[0m\u001b[1;36m1\u001b[0m\u001b[1;33m\u001b[0m\u001b[1;33m\u001b[0m\u001b[0m\n\u001b[1;32m----> 5\u001b[1;33m \u001b[1;32massert\u001b[0m\u001b[1;33m(\u001b[0m\u001b[0mx\u001b[0m \u001b[1;33m>\u001b[0m \u001b[1;36m0\u001b[0m\u001b[1;33m)\u001b[0m\u001b[1;33m\u001b[0m\u001b[1;33m\u001b[0m\u001b[0m\n\u001b[0m\u001b[0;32m      6\u001b[0m \u001b[0mnp\u001b[0m\u001b[1;33m.\u001b[0m\u001b[0msqrt\u001b[0m\u001b[1;33m(\u001b[0m\u001b[0mx\u001b[0m\u001b[1;33m)\u001b[0m\u001b[1;33m\u001b[0m\u001b[1;33m\u001b[0m\u001b[0m\n",
      "\u001b[1;31mAssertionError\u001b[0m: "
     ]
    }
   ],
   "source": [
    "# 处理办法: \n",
    "# （1）加 assert 在 x < 0 时直接报错，不继续进行计算\n",
    "# （2）或者使用 异常 捕获机制\n",
    "x = -1 \n",
    "assert(x > 0)\n",
    "np.sqrt(x)"
   ]
  },
  {
   "cell_type": "markdown",
   "metadata": {
    "slideshow": {
     "slide_type": "slide"
    }
   },
   "source": [
    "## 预估任务复杂度，内存与硬盘占用\n",
    "\n",
    "有时候写了一个程序，结果运行起来永不停歇，或者爆出内存不够、显存不够或磁盘空间不够。\n",
    "\n",
    "为了预防这些问题，要对任务复杂度、内存和硬盘占用进行预估。\n",
    "\n",
    "举例：N 个带电粒子的分子动力学模拟，每一步需要计算每一对粒子之间的库伦相互作用，有 $\\sim{\\mathcal O}(N^2)$ 次操作.\n",
    "\n",
    "对于 1 GHZ 的电脑CPU，每秒浮点数操作次数为 $10^9$，假设遍历一次需要 $10^{-9}$ 秒，可以估算每一步花费时间，\n",
    "\n",
    "$N^2 \\times 10^{-9}$ s"
   ]
  },
  {
   "cell_type": "code",
   "execution_count": 60,
   "metadata": {
    "slideshow": {
     "slide_type": "slide"
    }
   },
   "outputs": [
    {
     "data": {
      "image/png": "[encoded data removed]",
      "text/plain": [
       "<Figure size 432x288 with 1 Axes>"
      ]
     },
     "metadata": {
      "needs_background": "light"
     },
     "output_type": "display_data"
    }
   ],
   "source": [
    "import matplotlib.pyplot as plt\n",
    "\n",
    "def plot_time(dt = 1.0E-9):\n",
    "    N = np.logspace(1, 6)\n",
    "    t = N**2 * dt\n",
    "    plt.loglog(N, t)\n",
    "    plt.xlabel(\"num of particles\")\n",
    "    plt.ylabel(\"cpu time (s)\")\n",
    "\n",
    "plot_time()"
   ]
  },
  {
   "cell_type": "markdown",
   "metadata": {
    "slideshow": {
     "slide_type": "slide"
    }
   },
   "source": [
    "## 内存、显存与硬盘占用\n",
    "\n",
    "举例：假设电脑的可用内存为 1 GB，做三维相对论流体力学计算需要将空间离散化为 \n",
    "\n",
    "${\\rm Nx \\times Ny \\times Nz} = 1000 \\times 1000 \\times 1000$ grids\n",
    "\n",
    "问：如果使用 float32 类型数据，内存是否够用？\n",
    "\n",
    "1G = $10^9$， 1 M(兆) = $10^6$\n",
    "\n",
    "1 Byte(字节） = $8$ bits（位）\n",
    "\n",
    "1 float32 = 4 Byte\n",
    "\n",
    "1 float64(double) = 8 Byte"
   ]
  },
  {
   "cell_type": "markdown",
   "metadata": {
    "slideshow": {
     "slide_type": "slide"
    }
   },
   "source": [
    "假设每个格子上只保存一个浮点数，\n",
    "\n",
    "${\\rm Nx \\times Ny \\times Nz} = 10^{9}$ 个格子上的 float32 类型浮点数占用内存为 4 GB,\n",
    "显然内存不够用。\n",
    "\n",
    "如果设 ${\\rm Nx=300, Ny=300, Nz=300}$, \n",
    "\n",
    "则内存占用为 108 兆比特，明显够用。\n",
    "\n",
    "$\\rm 27\\ M\\ float32 \\times 4\\ B/float32 = 108\\ MB$\n"
   ]
  }
 ],
 "metadata": {
  "celltoolbar": "Slideshow",
  "kernelspec": {
   "display_name": "Python 3",
   "language": "python",
   "name": "python3"
  },
  "language_info": {
   "codemirror_mode": {
    "name": "ipython",
    "version": 3
   },
   "file_extension": ".py",
   "mimetype": "text/x-python",
   "name": "python",
   "nbconvert_exporter": "python",
   "pygments_lexer": "ipython3",
   "version": "3.6.7"
  }
 },
 "nbformat": 4,
 "nbformat_minor": 4
}
