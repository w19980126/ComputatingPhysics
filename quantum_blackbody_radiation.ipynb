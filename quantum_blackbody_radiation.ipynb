{
 "cells": [
  {
   "cell_type": "markdown",
   "metadata": {
    "slideshow": {
     "slide_type": "slide"
    }
   },
   "source": [
    "# 最小二乘法与宇宙微波背景辐射温度\n",
    "\n",
    "庞龙刚@华中师范大学"
   ]
  },
  {
   "cell_type": "markdown",
   "metadata": {
    "slideshow": {
     "slide_type": "slide"
    }
   },
   "source": [
    "## 学习目标\n",
    "\n",
    "- 初步认识最小二乘法在拟合数据、物理参数提取中的作用"
   ]
  },
  {
   "cell_type": "markdown",
   "metadata": {
    "slideshow": {
     "slide_type": "slide"
    }
   },
   "source": [
    "## 学习内容\n",
    "\n",
    "1. 宇宙微波背景辐射\n",
    "2. 使用 python 从文件中读数据、画图\n",
    "3. 根据黑体辐射公式编写函数，计算给定频率、温度时的光谱\n",
    "4. 匹配公式与观测数据的单位\n",
    "5. 使用最小二乘法拟合数据，提取模型参数\n",
    "6. 最小二乘法系统介绍"
   ]
  },
  {
   "cell_type": "markdown",
   "metadata": {
    "slideshow": {
     "slide_type": "slide"
    }
   },
   "source": [
    "## 宇宙大爆炸与宇宙微波背景辐射\n",
    "\n",
    "1929年 哈勃发现宇宙中星系都在互相远离，宇宙在膨胀；\n",
    "\n",
    "物理学家伽莫夫猜测，如果时光倒流，宇宙是否会收缩到一个点？我们的宇宙是否起源于一次大爆炸？他提出“宇宙火球模型“，并预言现在宇宙中还存在着火球的余焚（”宇宙微波背景辐射“）。"
   ]
  },
  {
   "cell_type": "markdown",
   "metadata": {
    "slideshow": {
     "slide_type": "slide"
    }
   },
   "source": [
    "<img src=\"images/bigbang.jpg\" style=\"width:600px float:center\"></img>"
   ]
  },
  {
   "cell_type": "markdown",
   "metadata": {
    "slideshow": {
     "slide_type": "slide"
    }
   },
   "source": [
    "1969年，普林斯顿的几名著名科学家寻找宇宙大爆炸的信号10年未果。\n",
    "\n",
    "彭齐亚斯和威尔逊为了改进卫星通讯，建立了高灵敏度的号角式接收天线系统，但是受到全天候全方位的电磁干扰。\n",
    "\n",
    "当他们将消息告诉普林斯顿的科学家迪克，迪克说：宇宙大爆炸的信号找到了！"
   ]
  },
  {
   "cell_type": "markdown",
   "metadata": {
    "slideshow": {
     "slide_type": "slide"
    }
   },
   "source": [
    "Planck\n",
    "<img src=\"images/宇宙微波背景辐射.jpg\" > </img>"
   ]
  },
  {
   "cell_type": "markdown",
   "metadata": {
    "slideshow": {
     "slide_type": "slide"
    }
   },
   "source": [
    "\n",
    "宇宙大爆炸模型已经成为大多数科学家对宇宙起源的共识。\n",
    "\n",
    "大爆炸 $10^{-6}$ 秒时，宇宙是热密的夸克胶子等离子体，实验室条件下通过相对论核碰撞产生。\n",
    "\n",
    "大爆炸38万年后，原子核与电子结合成原子，电磁波与物质解耦，开始在空间自由传播。\n",
    "\n",
    "电磁波因为宇宙膨胀不断红移，温度越来越低，到了 137 亿年后的今天，温度只剩下 2.7K，\n",
    "被称为微波背景辐射。\n"
   ]
  },
  {
   "cell_type": "markdown",
   "metadata": {
    "slideshow": {
     "slide_type": "slide"
    }
   },
   "source": [
    "这一节使用最小二乘法和普朗克黑体辐射公式，拟合宇宙微波背景辐射谱，提取温度 $T$，看能否得到 $T = 2.7K$ 这个数字。\n",
    "\n",
    "普朗克用黑体辐射公式开启了量子力学的大门，\n",
    "\n",
    "\n",
    "\\begin{align}\n",
    "\\mathrm{I}(\\nu, T)=\\frac{2 h \\nu^{3}}{c^{2}} \\frac{1}{e^{\\frac{h \\nu}{k T}}-1}\n",
    "\\end{align}\n",
    "\n",
    "$I(\\nu, T)$ 描述了温度为 T 的黑体，单位时间，单位面积，单位频率，单位固体角(/sr)辐射出的频率为 $\\nu$ 的光的能量。"
   ]
  },
  {
   "cell_type": "markdown",
   "metadata": {
    "slideshow": {
     "slide_type": "slide"
    }
   },
   "source": [
    "接下来要做的事情，\n",
    "\n",
    "1. 读入数据文件，画出宇宙微波背景辐射的能谱与 $\\nu$ 的关系曲线\n",
    "2. 将黑体辐射公式定义成一个函数，并画出 $I(\\nu, T)$ 对不同温度的曲线\n",
    "3. 使用最小二乘法，拟合得到宇宙微波背景温度"
   ]
  },
  {
   "cell_type": "code",
   "execution_count": 1,
   "metadata": {
    "slideshow": {
     "slide_type": "slide"
    }
   },
   "outputs": [],
   "source": [
    "import matplotlib.pyplot as plt\n",
    "import pandas as pd\n",
    "import numpy as np"
   ]
  },
  {
   "cell_type": "code",
   "execution_count": 2,
   "metadata": {
    "slideshow": {
     "slide_type": "slide"
    }
   },
   "outputs": [],
   "source": [
    "df = pd.read_csv(\"data/cosmic_microwave_background.csv\")"
   ]
  },
  {
   "cell_type": "code",
   "execution_count": 3,
   "metadata": {
    "scrolled": true,
    "slideshow": {
     "slide_type": "fragment"
    }
   },
   "outputs": [
    {
     "data": {
      "text/html": [
       "<div>\n",
       "<style scoped>\n",
       "    .dataframe tbody tr th:only-of-type {\n",
       "        vertical-align: middle;\n",
       "    }\n",
       "\n",
       "    .dataframe tbody tr th {\n",
       "        vertical-align: top;\n",
       "    }\n",
       "\n",
       "    .dataframe thead th {\n",
       "        text-align: right;\n",
       "    }\n",
       "</style>\n",
       "<table border=\"1\" class=\"dataframe\">\n",
       "  <thead>\n",
       "    <tr style=\"text-align: right;\">\n",
       "      <th></th>\n",
       "      <th>nu[1/cm]</th>\n",
       "      <th>I[MJy/sr]</th>\n",
       "      <th>Error[kJy/sr]</th>\n",
       "    </tr>\n",
       "  </thead>\n",
       "  <tbody>\n",
       "    <tr>\n",
       "      <th>0</th>\n",
       "      <td>2.27</td>\n",
       "      <td>200.723</td>\n",
       "      <td>14</td>\n",
       "    </tr>\n",
       "    <tr>\n",
       "      <th>1</th>\n",
       "      <td>2.72</td>\n",
       "      <td>249.508</td>\n",
       "      <td>19</td>\n",
       "    </tr>\n",
       "    <tr>\n",
       "      <th>2</th>\n",
       "      <td>3.18</td>\n",
       "      <td>293.024</td>\n",
       "      <td>25</td>\n",
       "    </tr>\n",
       "    <tr>\n",
       "      <th>3</th>\n",
       "      <td>3.63</td>\n",
       "      <td>327.770</td>\n",
       "      <td>23</td>\n",
       "    </tr>\n",
       "    <tr>\n",
       "      <th>4</th>\n",
       "      <td>4.08</td>\n",
       "      <td>354.081</td>\n",
       "      <td>22</td>\n",
       "    </tr>\n",
       "  </tbody>\n",
       "</table>\n",
       "</div>"
      ],
      "text/plain": [
       "   nu[1/cm]  I[MJy/sr]  Error[kJy/sr]\n",
       "0      2.27    200.723             14\n",
       "1      2.72    249.508             19\n",
       "2      3.18    293.024             25\n",
       "3      3.63    327.770             23\n",
       "4      4.08    354.081             22"
      ]
     },
     "execution_count": 3,
     "metadata": {},
     "output_type": "execute_result"
    }
   ],
   "source": [
    "df.head()"
   ]
  },
  {
   "cell_type": "markdown",
   "metadata": {
    "slideshow": {
     "slide_type": "slide"
    }
   },
   "source": [
    "注意单位转换：\n",
    "1. sr 是立体角的单位\n",
    "2. 1 Jy = $10^{-26} W m^{-2}H_z^{-1}$\n",
    "3. 1M = $10^6$, 1k = $10^3$\n",
    "4. 1 eV = 1.602 * $10^{-19}$ J\n",
    "5. 1 J = 1 Kg $(m/s)^2$ = 1 N m = 1 W s\n",
    "6. 1 Hz = $(1s)^{-1}$\n",
    "\n",
    "\\begin{align}\n",
    "1 {\\rm MJy/sr} &= 10^6 \\times 10^{-26} W m^{-2} s /sr= 10^{-20} J m^{-2} /sr\\\\\n",
    "1 J m^{-2} /sr&= 10^{20} {\\rm MJy/sr}\n",
    "\\end{align}"
   ]
  },
  {
   "cell_type": "code",
   "execution_count": 4,
   "metadata": {
    "slideshow": {
     "slide_type": "slide"
    }
   },
   "outputs": [],
   "source": [
    "nu = df[\"nu[1/cm]\"]\n",
    "Inu = df[\"I[MJy/sr]\"]\n",
    "err = df[\"Error[kJy/sr]\"] * 0.001"
   ]
  },
  {
   "cell_type": "code",
   "execution_count": 5,
   "metadata": {
    "slideshow": {
     "slide_type": "fragment"
    }
   },
   "outputs": [
    {
     "data": {
      "text/plain": [
       "<ErrorbarContainer object of 3 artists>"
      ]
     },
     "execution_count": 5,
     "metadata": {},
     "output_type": "execute_result"
    },
    {
     "data": {
      "image/png": "[encoded data removed]",
      "text/plain": [
       "<Figure size 432x288 with 1 Axes>"
      ]
     },
     "metadata": {
      "needs_background": "light"
     },
     "output_type": "display_data"
    }
   ],
   "source": [
    "plt.errorbar(nu, Inu, yerr=err, fmt=\"ro-\")"
   ]
  },
  {
   "cell_type": "markdown",
   "metadata": {
    "slideshow": {
     "slide_type": "slide"
    }
   },
   "source": [
    "## 定义 Planck 黑体辐射公式"
   ]
  },
  {
   "cell_type": "code",
   "execution_count": 6,
   "metadata": {
    "slideshow": {
     "slide_type": "fragment"
    }
   },
   "outputs": [],
   "source": [
    "from scipy.constants import Planck\n",
    "from scipy.constants import Boltzmann\n",
    "from scipy.constants import speed_of_light as C "
   ]
  },
  {
   "cell_type": "code",
   "execution_count": 7,
   "metadata": {
    "slideshow": {
     "slide_type": "fragment"
    }
   },
   "outputs": [
    {
     "data": {
      "text/plain": [
       "6.62607015e-34"
      ]
     },
     "execution_count": 7,
     "metadata": {},
     "output_type": "execute_result"
    }
   ],
   "source": [
    "Planck      # unit = J s"
   ]
  },
  {
   "cell_type": "code",
   "execution_count": 8,
   "metadata": {
    "scrolled": false,
    "slideshow": {
     "slide_type": "fragment"
    }
   },
   "outputs": [
    {
     "data": {
      "text/plain": [
       "1.380649e-23"
      ]
     },
     "execution_count": 8,
     "metadata": {},
     "output_type": "execute_result"
    }
   ],
   "source": [
    "Boltzmann  # unit = J / K"
   ]
  },
  {
   "cell_type": "code",
   "execution_count": 9,
   "metadata": {
    "scrolled": true,
    "slideshow": {
     "slide_type": "fragment"
    }
   },
   "outputs": [
    {
     "data": {
      "text/plain": [
       "299792458.0"
      ]
     },
     "execution_count": 9,
     "metadata": {},
     "output_type": "execute_result"
    }
   ],
   "source": [
    "C          # unit = m/s"
   ]
  },
  {
   "cell_type": "markdown",
   "metadata": {
    "slideshow": {
     "slide_type": "slide"
    }
   },
   "source": [
    "**黑体辐射公式**\n",
    "\n",
    "\\begin{align}\n",
    "\\mathrm{I}(\\nu, T)=\\frac{2 h \\nu^{3}}{c^{2}} \\frac{1}{e^{\\frac{h \\nu}{k T}}-1}\n",
    "\\end{align}"
   ]
  },
  {
   "cell_type": "code",
   "execution_count": 10,
   "metadata": {
    "slideshow": {
     "slide_type": "fragment"
    }
   },
   "outputs": [],
   "source": [
    "def blackbody(nu, T=1.0):\n",
    "    ''':nu: [1/ cm], frequency\n",
    "     :T: [K] temperature \n",
    "     :return: I(nu, T) unit=[Mjy/Sr]'''\n",
    "    nu = nu * C * 100   # to HZ (/s)\n",
    "    coef = 2 * Planck * nu**3 / C**2\n",
    "    tmp = (Planck * nu) / (Boltzmann * T)\n",
    "    # I_Jm2 : unit [J/m^2/sr]\n",
    "    \n",
    "    I_Jm2 = coef / (np.exp(tmp) - 1)\n",
    "    to_Mjy_per_Sr = 10**20\n",
    "    \n",
    "    return I_Jm2 * to_Mjy_per_Sr"
   ]
  },
  {
   "cell_type": "code",
   "execution_count": 11,
   "metadata": {
    "slideshow": {
     "slide_type": "slide"
    }
   },
   "outputs": [
    {
     "data": {
      "text/plain": [
       "Text(0, 0.5, '$I(\\\\nu, T)$ [MJy/Sr]')"
      ]
     },
     "execution_count": 11,
     "metadata": {},
     "output_type": "execute_result"
    },
    {
     "data": {
      "image/png": "[encoded data removed]",
      "text/plain": [
       "<Figure size 432x288 with 1 Axes>"
      ]
     },
     "metadata": {
      "needs_background": "light"
     },
     "output_type": "display_data"
    }
   ],
   "source": [
    "nu_ = np.linspace(2, 22, 200)\n",
    "\n",
    "plt.errorbar(nu, Inu, yerr=err, fmt=\"ko\", label=\"exp-\")\n",
    "plt.plot(nu_, blackbody(nu_, T=2.0), label=\"T=2 K\")\n",
    "plt.plot(nu_, blackbody(nu_, T=2.73), label=\"T=2.73 K\")\n",
    "plt.plot(nu_, blackbody(nu_, T=3.0), label=\"T=3.0 K\")\n",
    "\n",
    "plt.legend(loc='best')\n",
    "plt.xlabel(r\"$\\nu\\ [cm]^{-1}$\")\n",
    "plt.ylabel(r\"$I(\\nu, T)$ [MJy/Sr]\")"
   ]
  },
  {
   "cell_type": "markdown",
   "metadata": {
    "slideshow": {
     "slide_type": "slide"
    }
   },
   "source": [
    "## 使用最小二乘法，拟合出宇宙微波背景辐射温度\n",
    "\n",
    "如上图所示，假设知道了宇宙微波背景辐射的温度为 2.73 K, 使用黑体辐射公式，我们能够描述观测数据 $I(\\nu, T=2.73\\ K)$ 随频率 $\\nu$ 的变化。\n",
    "\n",
    "反过来，当我们拿到观测数据，而不知道宇宙微波背景辐射温度 T 时，如何通过拟合黑体辐射公式与实验数据，提取出 T？"
   ]
  },
  {
   "cell_type": "markdown",
   "metadata": {
    "slideshow": {
     "slide_type": "slide"
    }
   },
   "source": [
    "将黑体辐射公式进行变换，得到，\n",
    "\n",
    "\n",
    "\\begin{align}\n",
    "\\mathrm{I}(\\nu, T)=\\frac{2 h \\nu^{3}}{c^{2}} \\frac{1}{e^{\\frac{h \\nu}{k T}}-1} \\color{red}{\\Rightarrow}\n",
    "\\ln\\left( 1 +{ 2 h \\nu^3 \\over I c^2} \\right)=\\frac{h \\nu}{k T}\n",
    "\\end{align}\n"
   ]
  },
  {
   "cell_type": "markdown",
   "metadata": {
    "slideshow": {
     "slide_type": "fragment"
    }
   },
   "source": [
    "定义 \n",
    "\\begin{align}\n",
    "y_i &= \\ln\\left( 1 +{ 2 h \\nu_i^3 \\over I_i c^2} \\right)， \\quad\\; a =\\frac{h }{k T}， \\quad\\; x_i = \\nu_i \n",
    "\\end{align}\n",
    "\n",
    "替换后式子变为 $y_i = a x_i$."
   ]
  },
  {
   "cell_type": "markdown",
   "metadata": {
    "slideshow": {
     "slide_type": "slide"
    }
   },
   "source": [
    "则问题转化为寻找参数 $a = {h \\over kT}$, 使得如下损失函数最小，\n",
    "\n",
    "\\begin{align}\n",
    "l(a) = \\sum_i （y_i - a x_i）^2\n",
    "\\end{align}\n",
    "\n",
    "根据 $l(a)$ 最小的条件为 $l$ 对 $a$ 的一阶导为 0,\n",
    "\n",
    "\\begin{align}\n",
    "{1 \\over 2}{\\partial l \\over \\partial a} = \\sum_i (y_i - a x_i) (-x_i) = 0  \\color{red}{\\Rightarrow} a = {\\sum_i x_i y_i \\over \\sum_i x_i^2}\n",
    "\\end{align}\n",
    "\n",
    "然后求出宇宙微波背景辐射温度，$T = {h \\over k a}$。\n",
    "\n"
   ]
  },
  {
   "cell_type": "code",
   "execution_count": 12,
   "metadata": {
    "slideshow": {
     "slide_type": "slide"
    }
   },
   "outputs": [],
   "source": [
    "def ylog(nu, Inu):\n",
    "    nu = nu * C * 100   # to unit HZ=(s^-1)\n",
    "    coef = 2 * Planck * nu**3 / C**2\n",
    "    # I_Jm2 : unit [J/m^2/sr]\n",
    "    to_Mjy_per_Sr = 10**20\n",
    "    temp = 1 + coef * to_Mjy_per_Sr / Inu\n",
    "\n",
    "    return np.log(temp.astype(float))\n",
    "    \n",
    "    \n",
    "def a2T(a):\n",
    "    '''convert a to T by: T=h/(k a)\n",
    "    Look out the unit transformation'''\n",
    "    return Planck * C * 100 / (Boltzmann * a)"
   ]
  },
  {
   "cell_type": "markdown",
   "metadata": {
    "slideshow": {
     "slide_type": "slide"
    }
   },
   "source": [
    "公式回顾：\n",
    "\\begin{align}\n",
    "a = {\\sum_i x_i y_i \\over \\sum_i x_i^2}\n",
    "\\end{align}"
   ]
  },
  {
   "cell_type": "code",
   "execution_count": 13,
   "metadata": {
    "slideshow": {
     "slide_type": "fragment"
    }
   },
   "outputs": [
    {
     "data": {
      "text/plain": [
       "2.7235115127887295"
      ]
     },
     "execution_count": 13,
     "metadata": {},
     "output_type": "execute_result"
    }
   ],
   "source": [
    "xarr = nu\n",
    "yarr = ylog(xarr, Inu)\n",
    "\n",
    "a = (xarr*yarr).sum() / (xarr**2).sum()\n",
    "\n",
    "a2T(a)"
   ]
  },
  {
   "cell_type": "markdown",
   "metadata": {
    "slideshow": {
     "slide_type": "fragment"
    }
   },
   "source": [
    "最小二乘法拟合出的宇宙微波背景辐射温度为 2.72 K！"
   ]
  },
  {
   "cell_type": "markdown",
   "metadata": {
    "slideshow": {
     "slide_type": "slide"
    }
   },
   "source": [
    "## 最小二乘法\n",
    "\n",
    "前面给了一个最小二乘法的例子，这里正式介绍最小二乘法。\n",
    "\n",
    "实验上经常观测到一系列数据 $(x_i, y_i)\\ (i=0, 1, 2, \\cdots, n)$, 希望能使用给定的理论模型 $y = f(x， \\theta)$ 描述这些数据, 其中 $\\theta$ 是模型参数的集合。\n",
    "\n",
    "因为存在实验数据误差和理论模型误差，并不要求 $y = f(x, \\theta)$ 穿过所有的数据点, 只要求最小化如下损失函数中的一个， \n",
    "\n",
    "\\begin{align}\n",
    "l_1(\\theta) &= \\sum_i |y_i - f(x_i, \\theta)| \\\\\n",
    "l_2(\\theta) &= \\sum_i (y_i - f(x_i, \\theta))^2 \n",
    "\\end{align}\n",
    "\n",
    "$l_1(\\theta)$ 又称 Mean Average Error (MAE), $l_2(\\theta)$ 称 Mean Square Error (MSE)。\n",
    "\n",
    "最小化 MSE，求出模型参数 $\\theta$ 的方法称作最小二乘拟合。"
   ]
  },
  {
   "cell_type": "markdown",
   "metadata": {
    "slideshow": {
     "slide_type": "slide"
    }
   },
   "source": [
    "## 使用多项式进行最小二乘拟合\n",
    "\n",
    "最简单的最小二乘拟合使用多项式函数\n",
    "\n",
    "\\begin{align}\n",
    "f(x) = a_0 + a_1 x + a_2 x^2 + \\cdots a_n x^n\n",
    "\\end{align}\n",
    "\n",
    "拟合数据 $(x_i, y_i)$ 来确定参数 $a_m \\ (m=0, 1, \\cdots, n)$.\n",
    "\n",
    "此时，最小二乘拟合的损失函数定义为，\n",
    "\n",
    "\\begin{align}\n",
    "l(a_0, a_1, a_2, \\cdots, a_n) = \\sum_i (y_i - \\sum_{m=0}^n a_m x_i^m)^2\n",
    "\\end{align}"
   ]
  },
  {
   "cell_type": "markdown",
   "metadata": {
    "slideshow": {
     "slide_type": "slide"
    }
   },
   "source": [
    "多元损失函数 $l(a_0, a_1, a_2, \\cdots, a_n)$ 的极值满足,\n",
    "\n",
    "\n",
    "\\begin{align}\n",
    "- {1 \\over 2} {\\partial l \\over \\partial a_m} = \\sum_i (y_i - \\sum_{k=0}^n a_k x_i^k) x_i^m = 0,\\ {\\rm for\\ m=0, 1, 2, \\cdots, n}\n",
    "\\end{align}\n",
    "\n",
    "这是 n+1 个方程，正好用来求解 n+1 个未知数 $a_m$。举例，m=0, 1, 2"
   ]
  },
  {
   "cell_type": "markdown",
   "metadata": {
    "slideshow": {
     "slide_type": "fragment"
    }
   },
   "source": [
    "\\begin{align}\n",
    "\\sum_i (a_0 + a_1 x_i + a_2 x_i^2 + \\cdots + a_n x_i^n) & = \\sum_i y_i \\\\\n",
    "\\sum_i (a_0 x_i + a_1 x_i^2 + a_2 x_i^3 + \\cdots + a_n x_i^{n+1}) & = \\sum_i y_i x_i \\\\\n",
    "\\sum_i (a_0 x_i^2 + a_1 x_i^3 + a_2 x_i^4 + \\cdots + a_n x_i^{n+2}) & = \\sum_i y_i x_i^2 \n",
    "\\end{align}"
   ]
  },
  {
   "cell_type": "markdown",
   "metadata": {
    "slideshow": {
     "slide_type": "slide"
    }
   },
   "source": [
    "写成矩阵形式为，\n",
    "\n",
    "\\begin{equation}\n",
    "\\begin{bmatrix}\n",
    "\\sum_i 1 & \\sum_i x_i & \\sum_i x_i^2 & \\cdots & \\sum_i x_i^n \\\\\n",
    "\\sum_i x_i & \\sum_i x_i^2 & \\sum_i x_i^3 & \\cdots & \\sum_i x_i^{n+1} \\\\\n",
    "\\sum_i x_i^2 & \\sum_i x_i^3 & \\sum_i x_i^4 & \\cdots & \\sum_i x_i^{n+2} \\\\ \n",
    "\\vdots & \\vdots & \\vdots & \\vdots & \\vdots \\\\\n",
    "\\sum_i x_i^n & \\sum_i x_i^{n+1} & \\sum_i x_i^{n+2} & \\cdots & \\sum_i x_i^{2n} \n",
    "\\end{bmatrix}\n",
    "\\begin{bmatrix}\n",
    "a_0 \\\\\n",
    "a_1 \\\\\n",
    "a_2 \\\\\n",
    "\\vdots \\\\\n",
    "a_n \n",
    "\\end{bmatrix}\n",
    "= \n",
    "\\begin{bmatrix}\n",
    "\\sum_i y_i \\\\\n",
    "\\sum_i y_i x_i \\\\\n",
    "\\sum_i y_i x_i^2 \\\\\n",
    "\\vdots \\\\\n",
    "\\sum_i y_i x_i^n \n",
    "\\end{bmatrix}\n",
    "\\end{equation}\n",
    "\n",
    "\n",
    "逐项算出 $\\sum_i x_i, \\sum_i x_i^2, \\cdots, \\sum_i x_i^{2n}, \\sum_i y_i, \\sum_i y_i x_i,\\cdots, \\sum_i y_i x_i^n $, \n",
    "解线性方程组，就能得到系数 $a_i$ 以及拟合函数，\n",
    "\\begin{align}\n",
    "f(x) = a_0 + a_1 x + a_2 x^2 + \\cdots a_n x^n\n",
    "\\end{align}"
   ]
  },
  {
   "cell_type": "markdown",
   "metadata": {
    "slideshow": {
     "slide_type": "slide"
    }
   },
   "source": [
    "## 正交多项式做最小二乘拟合\n",
    "\n",
    "n 阶多项式可以看作是以 $(1, x, x^2, \\cdots, x^n)$为基底的函数空间中的一个点 $(a_0, a_1, a_2, \\cdots, a_n)$。\n",
    "\n",
    "设 $\\phi_0 = 1, \\phi_1 = x, \\cdots, \\phi_n = x^n$, 则对离散点上函数值的求和可以写为连续函数的内积，即\n",
    "\n",
    "\\begin{align}\n",
    "(f, g) \\equiv \\sum_i f(x_i) g(x_i) \\approx \\int f(x) g(x) dx\n",
    "\\end{align}\n",
    "\n",
    "最小二乘法公式变为，\n",
    "\n",
    "\\begin{equation}\n",
    "\\begin{bmatrix}\n",
    "(\\phi_0, \\phi_0) & (\\phi_0, \\phi_1) & \\cdots & (\\phi_0, \\phi_n) \\\\\n",
    "(\\phi_1, \\phi_0) & (\\phi_1, \\phi_1) & \\cdots & (\\phi_1, \\phi_n) \\\\\n",
    "\\vdots & \\vdots & \\vdots & \\vdots & \\vdots \\\\\n",
    "(\\phi_n, \\phi_0) & (\\phi_n, \\phi_1) & \\cdots & (\\phi_n, \\phi_n)\n",
    "\\end{bmatrix}\n",
    "\\begin{bmatrix}\n",
    "a_0 \\\\\n",
    "a_1 \\\\\n",
    "\\vdots \\\\\n",
    "a_n \n",
    "\\end{bmatrix}\n",
    "= \n",
    "\\begin{bmatrix}\n",
    "(\\phi_0, y) \\\\\n",
    "(\\phi_1, y) \\\\\n",
    "\\vdots \\\\\n",
    "(\\phi_n, y)\n",
    "\\end{bmatrix}\n",
    "\\end{equation}"
   ]
  },
  {
   "cell_type": "markdown",
   "metadata": {
    "slideshow": {
     "slide_type": "slide"
    }
   },
   "source": [
    "如果不选 $\\phi=(1, x, x^2, \\cdots, x^n)$作为基底，而是选用正交多项式，\n",
    "\n",
    "\\begin{equation}\n",
    "(\\phi_j, \\phi_k) = \\int_a^b \\phi_j(x) \\phi_k(x) dx = \\begin{cases} 0, & j\\neq k \\\\ A_k > 0,& j=k \\end{cases}\n",
    "\\end{equation}"
   ]
  },
  {
   "cell_type": "markdown",
   "metadata": {
    "slideshow": {
     "slide_type": "fragment"
    }
   },
   "source": [
    "此时方程的系数矩阵为对角阵，\n",
    "\n",
    "\\begin{equation}\n",
    "\\begin{bmatrix}\n",
    "(\\phi_0, \\phi_0) & 0 & \\cdots & 0 \\\\\n",
    "0 & (\\phi_1, \\phi_1) & \\cdots & 0 \\\\\n",
    "\\vdots & \\vdots & \\vdots & \\vdots \\\\\n",
    "0 & 0 & \\cdots & (\\phi_n, \\phi_n)\n",
    "\\end{bmatrix}\n",
    "\\begin{bmatrix}\n",
    "a_0 \\\\\n",
    "a_1 \\\\\n",
    "\\vdots \\\\\n",
    "a_n \n",
    "\\end{bmatrix}\n",
    "= \n",
    "\\begin{bmatrix}\n",
    "(\\phi_0, y) \\\\\n",
    "(\\phi_1, y) \\\\\n",
    "\\vdots \\\\\n",
    "(\\phi_n, y)\n",
    "\\end{bmatrix}\n",
    "\\end{equation}\n",
    "可直接得到拟合系数，$a_k = {(\\phi_k, y) \\over (\\phi_k, \\phi_k)}$"
   ]
  },
  {
   "cell_type": "markdown",
   "metadata": {
    "slideshow": {
     "slide_type": "slide"
    }
   },
   "source": [
    "更一般的，如果每个数据点有不同的权重 $\\rho_i$，可以定义带权重的最小二乘法，\n",
    "\n",
    "\\begin{align}\n",
    "- {1 \\over 2} {\\partial l \\over \\partial a_m} = \\sum_i \\rho_i \\left(y_i - \\sum_{k=0}^n a_k \\phi_k(x_i)\\right) \\phi_m(x_i) = 0,\\ {\\rm for\\ m=0, 1, 2, \\cdots, n}\n",
    "\\end{align}\n",
    "\n",
    "以及带权重的函数内积，\n",
    "\n",
    "\\begin{align}\n",
    "(f, g) \\equiv \\sum_i \\rho_i f(x_i) g(x_i) \\approx \\int \\rho(x) f(x) g(x) dx\n",
    "\\end{align}"
   ]
  }
 ],
 "metadata": {
  "celltoolbar": "幻灯片",
  "kernelspec": {
   "display_name": "Python 3",
   "language": "python",
   "name": "python3"
  },
  "language_info": {
   "codemirror_mode": {
    "name": "ipython",
    "version": 3
   },
   "file_extension": ".py",
   "mimetype": "text/x-python",
   "name": "python",
   "nbconvert_exporter": "python",
   "pygments_lexer": "ipython3",
   "version": "3.8.3"
  }
 },
 "nbformat": 4,
 "nbformat_minor": 2
}
