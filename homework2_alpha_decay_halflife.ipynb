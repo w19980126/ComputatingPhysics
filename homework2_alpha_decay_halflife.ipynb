{
 "cells": [
  {
   "cell_type": "markdown",
   "metadata": {
    "slideshow": {
     "slide_type": "slide"
    }
   },
   "source": [
    "## 第 2 次作业：最小二乘法拟合 $\\alpha$ 衰变半衰期\n",
    "\n",
    "$\\alpha$ 衰变指原子核自发放出 $\\alpha$ 粒子的过程，$\\alpha$ 粒子由两个质子、两个中子构成，它是氦原子的原子核 $^4{\\rm He}$。\n",
    "\n",
    "$\\alpha$ 衰变一般可表示为 $_Z^A X \\rightarrow _{Z-2}^{A-4}Y + _2^4{\\rm He}$，其中 X 表示 Z 个质子，A（=Z+N）个核子的母核(Parent Nucleus),\n",
    "Y 表示 $\\alpha$ 衰变后的子核(Daughter Nucleus)。"
   ]
  },
  {
   "cell_type": "markdown",
   "metadata": {
    "slideshow": {
     "slide_type": "slide"
    }
   },
   "source": [
    "原子核的 $\\alpha$ 衰变半衰期可以通过量子力学的隧穿机制计算。计算结果与人们从经验上总结的盖革-努塔尔（Geiger-Nuttall)公式定性符合，\n",
    "\n",
    "\\begin{align}\n",
    "\\log_{10} W &= C - D / \\sqrt{E_{\\alpha}}\n",
    "\\end{align}\n",
    "\n",
    "其中 $W$ 为单位时间跃迁概率，理论上可通过费米黄金规则得到，$W = {2\\pi \\over \\hbar} |\\langle f | V | i \\rangle |^2 \\rho(E)$，此处 $W$ 作为最小二乘法拟合半衰期的辅助变量，\n",
    "\n",
    "\\begin{align}\n",
    "\\tau_{1/2} = {\\ln 2 \\over W} \n",
    "\\end{align}\n",
    "\n",
    "从某些重原子核的 $\\alpha$ 衰变半衰期 $\\tau_{1/2}$ 与发射 $\\alpha$ 粒子的能量 $E_{\\alpha}$ 的实验数据文件 alpha_decay.csv 中读取 tau_half 与 Ealpha，将半衰期单位(units)统一为秒(second), 然后使用最小二乘拟合，\n",
    "将其中的 19 个数据点，拟合出 C 和 D 的值，并预测第20个数据点 Cm246 的半衰期。"
   ]
  },
  {
   "cell_type": "code",
   "execution_count": 9,
   "metadata": {
    "slideshow": {
     "slide_type": "slide"
    }
   },
   "outputs": [],
   "source": [
    "import pandas as pd\n",
    "import numpy as np\n",
    "import matplotlib.pyplot as plt\n",
    "\n",
    "# 创建文件夹 data, 将 alpha_decay.csv 文件放在 data/ 文件夹下\n",
    "df = pd.read_csv(\"data/alpha_decay.csv\")"
   ]
  },
  {
   "cell_type": "code",
   "execution_count": 10,
   "metadata": {
    "scrolled": true,
    "slideshow": {
     "slide_type": "slide"
    }
   },
   "outputs": [
    {
     "data": {
      "text/html": [
       "<div>\n",
       "<style scoped>\n",
       "    .dataframe tbody tr th:only-of-type {\n",
       "        vertical-align: middle;\n",
       "    }\n",
       "\n",
       "    .dataframe tbody tr th {\n",
       "        vertical-align: top;\n",
       "    }\n",
       "\n",
       "    .dataframe thead th {\n",
       "        text-align: right;\n",
       "    }\n",
       "</style>\n",
       "<table border=\"1\" class=\"dataframe\">\n",
       "  <thead>\n",
       "    <tr style=\"text-align: right;\">\n",
       "      <th></th>\n",
       "      <th>nucleus</th>\n",
       "      <th>Ealpha</th>\n",
       "      <th>tau_half</th>\n",
       "      <th>tau_units</th>\n",
       "    </tr>\n",
       "  </thead>\n",
       "  <tbody>\n",
       "    <tr>\n",
       "      <th>0</th>\n",
       "      <td>Po206</td>\n",
       "      <td>5.22</td>\n",
       "      <td>8.8</td>\n",
       "      <td>day</td>\n",
       "    </tr>\n",
       "    <tr>\n",
       "      <th>1</th>\n",
       "      <td>Po208</td>\n",
       "      <td>5.11</td>\n",
       "      <td>2.9</td>\n",
       "      <td>year</td>\n",
       "    </tr>\n",
       "    <tr>\n",
       "      <th>2</th>\n",
       "      <td>Po210</td>\n",
       "      <td>5.31</td>\n",
       "      <td>138.0</td>\n",
       "      <td>day</td>\n",
       "    </tr>\n",
       "    <tr>\n",
       "      <th>3</th>\n",
       "      <td>Po212</td>\n",
       "      <td>8.78</td>\n",
       "      <td>0.3</td>\n",
       "      <td>microsecond</td>\n",
       "    </tr>\n",
       "    <tr>\n",
       "      <th>4</th>\n",
       "      <td>Po214</td>\n",
       "      <td>7.68</td>\n",
       "      <td>164.0</td>\n",
       "      <td>microsecond</td>\n",
       "    </tr>\n",
       "  </tbody>\n",
       "</table>\n",
       "</div>"
      ],
      "text/plain": [
       "  nucleus  Ealpha  tau_half    tau_units\n",
       "0   Po206    5.22       8.8          day\n",
       "1   Po208    5.11       2.9         year\n",
       "2   Po210    5.31     138.0          day\n",
       "3   Po212    8.78       0.3  microsecond\n",
       "4   Po214    7.68     164.0  microsecond"
      ]
     },
     "execution_count": 10,
     "metadata": {},
     "output_type": "execute_result"
    }
   ],
   "source": [
    "df.head()"
   ]
  },
  {
   "cell_type": "code",
   "execution_count": 11,
   "metadata": {
    "slideshow": {
     "slide_type": "slide"
    }
   },
   "outputs": [],
   "source": [
    "# 这段代码用于单位转换\n",
    "units = df['tau_units']\n",
    "\n",
    "def cond(unit):\n",
    "    '''将所有单位统一为秒'''\n",
    "    if unit=='day': return 24*3600\n",
    "    if unit=='year': return 365*24*3600\n",
    "    if unit=='month': return 30*24*3600\n",
    "    if unit=='microsecond': return 1.0E-6\n",
    "    if unit=='second': return 1\n",
    "\n",
    "# unit_trans 保存了所有半衰期单位到秒的转化\n",
    "unit_trans = [cond(u) for u in units]"
   ]
  },
  {
   "cell_type": "code",
   "execution_count": 13,
   "metadata": {
    "slideshow": {
     "slide_type": "slide"
    }
   },
   "outputs": [
    {
     "data": {
      "text/html": [
       "<div>\n",
       "<style scoped>\n",
       "    .dataframe tbody tr th:only-of-type {\n",
       "        vertical-align: middle;\n",
       "    }\n",
       "\n",
       "    .dataframe tbody tr th {\n",
       "        vertical-align: top;\n",
       "    }\n",
       "\n",
       "    .dataframe thead th {\n",
       "        text-align: right;\n",
       "    }\n",
       "</style>\n",
       "<table border=\"1\" class=\"dataframe\">\n",
       "  <thead>\n",
       "    <tr style=\"text-align: right;\">\n",
       "      <th></th>\n",
       "      <th>nucleus</th>\n",
       "      <th>Ealpha</th>\n",
       "      <th>tau_half</th>\n",
       "      <th>tau_units</th>\n",
       "      <th>tau_insecond</th>\n",
       "    </tr>\n",
       "  </thead>\n",
       "  <tbody>\n",
       "    <tr>\n",
       "      <th>0</th>\n",
       "      <td>Po206</td>\n",
       "      <td>5.22</td>\n",
       "      <td>8.8</td>\n",
       "      <td>day</td>\n",
       "      <td>7.603200e+05</td>\n",
       "    </tr>\n",
       "    <tr>\n",
       "      <th>1</th>\n",
       "      <td>Po208</td>\n",
       "      <td>5.11</td>\n",
       "      <td>2.9</td>\n",
       "      <td>year</td>\n",
       "      <td>9.145440e+07</td>\n",
       "    </tr>\n",
       "    <tr>\n",
       "      <th>2</th>\n",
       "      <td>Po210</td>\n",
       "      <td>5.31</td>\n",
       "      <td>138.0</td>\n",
       "      <td>day</td>\n",
       "      <td>1.192320e+07</td>\n",
       "    </tr>\n",
       "    <tr>\n",
       "      <th>3</th>\n",
       "      <td>Po212</td>\n",
       "      <td>8.78</td>\n",
       "      <td>0.3</td>\n",
       "      <td>microsecond</td>\n",
       "      <td>3.000000e-07</td>\n",
       "    </tr>\n",
       "    <tr>\n",
       "      <th>4</th>\n",
       "      <td>Po214</td>\n",
       "      <td>7.68</td>\n",
       "      <td>164.0</td>\n",
       "      <td>microsecond</td>\n",
       "      <td>1.640000e-04</td>\n",
       "    </tr>\n",
       "  </tbody>\n",
       "</table>\n",
       "</div>"
      ],
      "text/plain": [
       "  nucleus  Ealpha  tau_half    tau_units  tau_insecond\n",
       "0   Po206    5.22       8.8          day  7.603200e+05\n",
       "1   Po208    5.11       2.9         year  9.145440e+07\n",
       "2   Po210    5.31     138.0          day  1.192320e+07\n",
       "3   Po212    8.78       0.3  microsecond  3.000000e-07\n",
       "4   Po214    7.68     164.0  microsecond  1.640000e-04"
      ]
     },
     "execution_count": 13,
     "metadata": {},
     "output_type": "execute_result"
    }
   ],
   "source": [
    "# tau 转换为 second （秒）的单位\n",
    "tau_insecond = df['tau_half'] * np.array(unit_trans)\n",
    "\n",
    "# 在 DataFrame 中新开辟一列数据\n",
    "df['tau_insecond'] = tau_insecond\n",
    "\n",
    "df.head()"
   ]
  },
  {
   "cell_type": "code",
   "execution_count": 14,
   "metadata": {
    "slideshow": {
     "slide_type": "slide"
    }
   },
   "outputs": [],
   "source": [
    "# 对 DataFrame 按找 Ealpha 的值排序，否则画图很奇怪\n",
    "df = df.sort_values('Ealpha')"
   ]
  },
  {
   "cell_type": "code",
   "execution_count": 23,
   "metadata": {
    "slideshow": {
     "slide_type": "slide"
    }
   },
   "outputs": [
    {
     "data": {
      "text/plain": [
       "Text(0, 0.5, '$\\\\log_{10} W$')"
      ]
     },
     "execution_count": 23,
     "metadata": {},
     "output_type": "execute_result"
    },
    {
     "data": {
      "image/png": "[encoded data removed]",
      "text/plain": [
       "<Figure size 432x288 with 1 Axes>"
      ]
     },
     "metadata": {
      "needs_background": "light"
     },
     "output_type": "display_data"
    }
   ],
   "source": [
    "W = np.log(2) / df['tau_insecond']\n",
    "Ealpha = df['Ealpha']\n",
    "plt.figure(figsize=(6, 4))\n",
    "plt.plot(1/np.sqrt(Ealpha), np.log10(W), 'ro')\n",
    "plt.xlabel(r'$1/\\sqrt{E_{\\alpha}}$')\n",
    "plt.ylabel(r'$\\log_{10} W$')"
   ]
  },
  {
   "cell_type": "markdown",
   "metadata": {
    "slideshow": {
     "slide_type": "slide"
    }
   },
   "source": [
    "作业任务：将拟合公式定义为 $y=a x + b$, 其中 $y = \\log_{10} W$, 变量 $x=1/\\sqrt{E_{\\alpha}}$,\n",
    "1. 写出损失函数\n",
    "2. 推导最小二乘法拟合公式（使用 Markdown cell 的 Latex 公式编写）\n",
    "3. 写代码提取 a 和 b 的值。"
   ]
  },
  {
   "cell_type": "markdown",
   "metadata": {
    "slideshow": {
     "slide_type": "slide"
    }
   },
   "source": [
    "## 备注：\n",
    "\n",
    "数据从 宁平治老师的《原子核物理学简明教程》中获取，保存为 csv 格式的代码如下，\n",
    "\n",
    "```python\n",
    "import pandas as pd\n",
    "\n",
    "# 母原子核，\n",
    "Nucleus = ['Po206', 'Po208', 'Po210', 'Po212', 'Po214', 'Po216', \n",
    "           'U228', 'U230', 'U232', 'U234', 'U236', 'U238',\n",
    "           'Pu238', 'Pu240', 'Pu242', 'Pu244', \n",
    "           'Cm240', 'Cm242', 'Cm244', 'Cm246']\n",
    "\n",
    "# the energy of alpha particle\n",
    "Ealpha = [5.22, 5.11, 5.31, 8.78, 7.68, 6.78,\n",
    "          6.69, 5.89, 5.32, 4.77, 4.49, 4.20,\n",
    "          5.50, 5.17, 4.90, 4.66,\n",
    "          6.29, 6.12, 5.80, 5.39]\n",
    "\n",
    "# halflife\n",
    "tau_half = [8.8, 2.9, 138, 0.3, 164, 0.15,\n",
    "            9.1, 20.8, 72, 2.47E5, 2.39E7, 4.51E9,\n",
    "            86, 6.58E3, 3.79E5, 8.0E7, 26.8, 163, 17.6, 5.5E3]\n",
    "\n",
    "# units of halflife\n",
    "tau_units = ['day', 'year', 'day', 'microsecond', 'microsecond', 'second',\n",
    "            'month', 'day', 'year', 'year', 'year', 'year',\n",
    "            'year', 'year', 'year', 'year', \n",
    "            'day', 'day', 'year', 'year']\n",
    "\n",
    "\n",
    "df1 = pd.DataFrame({\"nucleus\":Nucleus,\n",
    "                    \"Ealpha\":Ealpha,\n",
    "                    \"tau_half\":tau_half,\n",
    "                    \"tau_units\":tau_units})\n",
    "\n",
    "df1.to_csv(\"alpha_decay.csv\", index=False)\n",
    "```"
   ]
  }
 ],
 "metadata": {
  "celltoolbar": "幻灯片",
  "kernelspec": {
   "display_name": "Python 3",
   "language": "python",
   "name": "python3"
  },
  "language_info": {
   "codemirror_mode": {
    "name": "ipython",
    "version": 3
   },
   "file_extension": ".py",
   "mimetype": "text/x-python",
   "name": "python",
   "nbconvert_exporter": "python",
   "pygments_lexer": "ipython3",
   "version": "3.6.7"
  },
  "rise": {
   "autolaunch": true,
   "enable_chalkboard": true,
   "scroll": true
  }
 },
 "nbformat": 4,
 "nbformat_minor": 4
}
