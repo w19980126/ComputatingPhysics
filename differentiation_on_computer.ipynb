{
 "cells": [
  {
   "cell_type": "markdown",
   "metadata": {
    "slideshow": {
     "slide_type": "slide"
    }
   },
   "source": [
    "# 计算机上的微分\n",
    "\n",
    "庞龙刚 @ 华中师范大学 CCNU"
   ]
  },
  {
   "cell_type": "markdown",
   "metadata": {
    "slideshow": {
     "slide_type": "slide"
    }
   },
   "source": [
    "## 学习目标\n",
    "\n",
    "学会在计算机上以解析或数值的方式计算函数微分 \n",
    "\n",
    "$$ f'(x) = {df \\over dx} $$ \n",
    "\n",
    "比如：$f(x) = sin(x)$, 要编程计算\n",
    "- diff(f, x)=cos(x) \n",
    "- diff(f, x=5) = cos(5)."
   ]
  },
  {
   "cell_type": "markdown",
   "metadata": {
    "slideshow": {
     "slide_type": "slide"
    }
   },
   "source": [
    "## 学习内容\n",
    "\n",
    "- Sympy 解析微分\n",
    "- 数值微分：有限差分近似 （Finite Difference）\n",
    "- 自动微分：科学计算与人工智能的交叉 (Auto Differentiation)"
   ]
  },
  {
   "cell_type": "markdown",
   "metadata": {
    "slideshow": {
     "slide_type": "slide"
    }
   },
   "source": [
    "## 解析微分\n",
    "\n",
    "- 需要使用计算机代数 （CAS）, 又称“符号计算系统”\n",
    "- 最著名的软件：Mathematica \n",
    "- Python 中的符号计算库：sympy "
   ]
  },
  {
   "cell_type": "markdown",
   "metadata": {
    "slideshow": {
     "slide_type": "slide"
    }
   },
   "source": [
    "## Sympy 做解析函数微分\n",
    "\n",
    "- Step1: 定义自变量符号\n",
    "- Step2: 定义解析函数的形式\n",
    "- Step3: 使用 sympy.diff 函数返回函数的微分结果"
   ]
  },
  {
   "cell_type": "code",
   "execution_count": 1,
   "metadata": {
    "slideshow": {
     "slide_type": "slide"
    }
   },
   "outputs": [],
   "source": [
    "import sympy \n",
    "\n",
    "# Step1: define the variable\n",
    "x = sympy.symbols(\"x\")"
   ]
  },
  {
   "cell_type": "code",
   "execution_count": 2,
   "metadata": {
    "slideshow": {
     "slide_type": "slide"
    }
   },
   "outputs": [
    {
     "data": {
      "text/latex": [
       "$\\displaystyle x e^{- x^{2}}$"
      ],
      "text/plain": [
       "x*exp(-x**2)"
      ]
     },
     "execution_count": 2,
     "metadata": {},
     "output_type": "execute_result"
    }
   ],
   "source": [
    "# Step2: define the function \n",
    "def f(x):\n",
    "    return x * sympy.exp(- x**2)\n",
    "\n",
    "f(x)"
   ]
  },
  {
   "cell_type": "code",
   "execution_count": 3,
   "metadata": {
    "slideshow": {
     "slide_type": "slide"
    }
   },
   "outputs": [
    {
     "data": {
      "text/latex": [
       "$\\displaystyle - 2 x^{2} e^{- x^{2}} + e^{- x^{2}}$"
      ],
      "text/plain": [
       "-2*x**2*exp(-x**2) + exp(-x**2)"
      ]
     },
     "execution_count": 3,
     "metadata": {},
     "output_type": "execute_result"
    }
   ],
   "source": [
    "# Step3: calc the differentiation\n",
    "\n",
    "sympy.diff(f(x), x)"
   ]
  },
  {
   "cell_type": "markdown",
   "metadata": {
    "slideshow": {
     "slide_type": "slide"
    }
   },
   "source": [
    "*小技巧 1:*\n",
    "写文章的时候打 Latex 公式很麻烦，可以将 sympy 的计算结果输出为 latex 代码。"
   ]
  },
  {
   "cell_type": "code",
   "execution_count": 4,
   "metadata": {
    "slideshow": {
     "slide_type": "fragment"
    }
   },
   "outputs": [
    {
     "name": "stdout",
     "output_type": "stream",
     "text": [
      "- 2 x^{2} e^{- x^{2}} + e^{- x^{2}}\n"
     ]
    }
   ],
   "source": [
    "dfdx = sympy.diff(f(x), x)\n",
    "\n",
    "sympy.print_latex(dfdx)"
   ]
  },
  {
   "cell_type": "markdown",
   "metadata": {
    "slideshow": {
     "slide_type": "slide"
    }
   },
   "source": [
    "*小技巧2*：使用 subs 函数可以临时将 dfdx 中的 x 替换为特定数值"
   ]
  },
  {
   "cell_type": "code",
   "execution_count": 5,
   "metadata": {
    "slideshow": {
     "slide_type": "fragment"
    }
   },
   "outputs": [
    {
     "data": {
      "text/latex": [
       "$\\displaystyle -0.367879441171442$"
      ],
      "text/plain": [
       "-0.367879441171442"
      ]
     },
     "execution_count": 5,
     "metadata": {},
     "output_type": "execute_result"
    }
   ],
   "source": [
    "dfdx.subs(x, 1.)"
   ]
  },
  {
   "cell_type": "code",
   "execution_count": 6,
   "metadata": {
    "slideshow": {
     "slide_type": "fragment"
    }
   },
   "outputs": [
    {
     "data": {
      "text/latex": [
       "$\\displaystyle 1$"
      ],
      "text/plain": [
       "1"
      ]
     },
     "execution_count": 6,
     "metadata": {},
     "output_type": "execute_result"
    }
   ],
   "source": [
    "dfdx.subs(x, 0)"
   ]
  },
  {
   "cell_type": "markdown",
   "metadata": {
    "slideshow": {
     "slide_type": "slide"
    }
   },
   "source": [
    "## 数值微分：有限差分近似\n",
    "\n",
    "$$ {df \\over dx} = {\\rm lim}_{\\Delta x\\rightarrow 0} {f(x+ \\Delta x) - f(x) \\over \\Delta x } $$\n"
   ]
  },
  {
   "cell_type": "code",
   "execution_count": 7,
   "metadata": {
    "slideshow": {
     "slide_type": "slide"
    }
   },
   "outputs": [
    {
     "data": {
      "text/latex": [
       "$\\displaystyle 0.999900004999833$"
      ],
      "text/plain": [
       "0.999900004999833"
      ]
     },
     "execution_count": 7,
     "metadata": {},
     "output_type": "execute_result"
    }
   ],
   "source": [
    "def finite_difference(func, x, dx=0.01):\n",
    "    assert(dx != 0)\n",
    "    return (func(x+dx) - func(x)) / dx\n",
    "\n",
    "finite_difference(f, 0.0)"
   ]
  },
  {
   "cell_type": "markdown",
   "metadata": {
    "slideshow": {
     "slide_type": "slide"
    }
   },
   "source": [
    "$$ {df \\over dx} = - 2 x^{2} e^{- x^{2}} + e^{- x^{2}}$$\n",
    "\n",
    "- 解析微分在 x=0 处精确值为 1\n",
    "- 有限差分法在 x=0 处得到近似的数值解： 0.999900004999833\n"
   ]
  },
  {
   "cell_type": "code",
   "execution_count": 8,
   "metadata": {
    "slideshow": {
     "slide_type": "slide"
    }
   },
   "outputs": [],
   "source": [
    "import matplotlib.pyplot as plt\n",
    "import numpy as np\n",
    "\n",
    "# 这里作图看一下有限差分方法的误差\n",
    "def comparison(dx):\n",
    "    xcoord = np.linspace(0, np.pi, 20)\n",
    "    # 解析微分的结果\n",
    "    dfdx_ana = [dfdx.subs(x, xi) for xi in xcoord]\n",
    "    # 有限差分的结果\n",
    "    dfdx_num = [finite_difference(f, xi, dx) for xi in xcoord] \n",
    "    \n",
    "    plt.plot(xcoord, dfdx_num, 'ko--', label=\"finite difference\")\n",
    "    plt.plot(xcoord, dfdx_ana, 'r-', label=\"sympy: analytic\")\n",
    "    \n",
    "    plt.legend(loc='best')\n",
    "    plt.xlabel(r\"$x$\")\n",
    "    plt.ylabel(r\"$df/dx$\")"
   ]
  },
  {
   "cell_type": "code",
   "execution_count": 9,
   "metadata": {
    "slideshow": {
     "slide_type": "slide"
    }
   },
   "outputs": [
    {
     "data": {
      "image/png": "[encoded data removed]",
      "text/plain": [
       "<Figure size 432x288 with 1 Axes>"
      ]
     },
     "metadata": {
      "needs_background": "light"
     },
     "output_type": "display_data"
    }
   ],
   "source": [
    "# dx 小的时候，有限差分比较准确\n",
    "comparison(dx=0.001)"
   ]
  },
  {
   "cell_type": "markdown",
   "metadata": {
    "slideshow": {
     "slide_type": "slide"
    }
   },
   "source": [
    "## 问题：是否 dx 越小，有限差分对微分的近似越准确？"
   ]
  },
  {
   "cell_type": "code",
   "execution_count": 10,
   "metadata": {
    "slideshow": {
     "slide_type": "slide"
    }
   },
   "outputs": [
    {
     "data": {
      "image/png": "[encoded data removed]",
      "text/plain": [
       "<Figure size 432x288 with 1 Axes>"
      ]
     },
     "metadata": {
      "needs_background": "light"
     },
     "output_type": "display_data"
    },
    {
     "data": {
      "text/plain": [
       "<function __main__.comparison(dx)>"
      ]
     },
     "execution_count": 10,
     "metadata": {},
     "output_type": "execute_result"
    }
   ],
   "source": [
    "from ipywidgets import interact\n",
    "\n",
    "# 移动滑钮看到 dx 大的时候，有限差分误差较大\n",
    "interact(comparison, dx=(0.01, 1))"
   ]
  },
  {
   "cell_type": "markdown",
   "metadata": {
    "slideshow": {
     "slide_type": "slide"
    }
   },
   "source": [
    "看起来，好像$\\Delta x$ 越小，有限差分法计算数值微分的精度越高。\n",
    "\n",
    "定量的来说，$\\Delta x$ 继续变小，有限差分的精度又会变差。\n",
    "\n",
    "比如，对下面这个函数，\n",
    "\n",
    "\\begin{align}\n",
    "f(x) = \\sqrt{x}\n",
    "\\end{align}\n",
    "\n",
    "一阶微分的解析解为 \n",
    "\\begin{align}\n",
    "f'(x) = {1 \\over 2 \\sqrt{x}}\n",
    "\\end{align}\n",
    "\n",
    "使用差分近似，\n",
    "\n",
    "\\begin{align}\n",
    "{df \\over dx}  = {\\sqrt{x+\\Delta x} - \\sqrt{x} \\over \\Delta x}\n",
    "\\end{align}\n",
    "\n",
    "**考虑舍入误差，数值计算中要避免两个相近数字的相减** \n",
    "\n",
    "而当 $\\Delta x$ 非常小时， $\\sqrt{x+\\Delta x} - \\sqrt{x}$ 就是典型的两个相近数字相减的问题。"
   ]
  },
  {
   "cell_type": "code",
   "execution_count": 11,
   "metadata": {
    "slideshow": {
     "slide_type": "slide"
    }
   },
   "outputs": [],
   "source": [
    "def check_error(dx=0.1, x0=1.0):\n",
    "    ana = 0.5\n",
    "    num = (np.sqrt(x0 + dx) - np.sqrt(x0))/dx\n",
    "    return np.abs(ana - num)"
   ]
  },
  {
   "cell_type": "code",
   "execution_count": 12,
   "metadata": {
    "slideshow": {
     "slide_type": "fragment"
    }
   },
   "outputs": [
    {
     "data": {
      "text/plain": [
       "array([5.00000000e-01, 2.16194004e-02, 1.39716990e-04, 4.13701855e-08,\n",
       "       5.40219515e-08, 3.46406653e-09, 1.24941224e-07, 5.80184932e-06,\n",
       "       2.69014627e-04, 1.19115183e-02])"
      ]
     },
     "execution_count": 12,
     "metadata": {},
     "output_type": "execute_result"
    }
   ],
   "source": [
    "dx = np.logspace(-16, -1, 10)\n",
    "err = check_error(dx)\n",
    "err"
   ]
  },
  {
   "cell_type": "markdown",
   "metadata": {
    "slideshow": {
     "slide_type": "fragment"
    }
   },
   "source": [
    "注意：这里调用 np.logspace 产生从 $10^{-16}$ 到 $10^{-1}$ 的等比序列。"
   ]
  },
  {
   "cell_type": "code",
   "execution_count": 13,
   "metadata": {
    "slideshow": {
     "slide_type": "slide"
    }
   },
   "outputs": [
    {
     "data": {
      "text/plain": [
       "Text(0, 0.5, 'error')"
      ]
     },
     "execution_count": 13,
     "metadata": {},
     "output_type": "execute_result"
    },
    {
     "data": {
      "image/png": "[encoded data removed]",
      "text/plain": [
       "<Figure size 432x288 with 1 Axes>"
      ]
     },
     "metadata": {
      "needs_background": "light"
     },
     "output_type": "display_data"
    }
   ],
   "source": [
    "plt.semilogx(dx, err, 'ro-')\n",
    "plt.xlabel(\"dx\")\n",
    "plt.ylabel(\"error\")"
   ]
  },
  {
   "cell_type": "markdown",
   "metadata": {
    "slideshow": {
     "slide_type": "slide"
    }
   },
   "source": [
    "## 有限差分法的原理（泰勒展开）\n",
    "\n",
    "$$ f(x + \\Delta x) = f(x) + {df \\over dx} \\Delta x + {d^2 f \\over dx^2} {\\Delta x^2 \\over 2} + ... $$\n",
    "\n",
    "移项得到一阶精度的**前向**有限差分近似，\n",
    "\n",
    "$$  {df \\over dx}  = {f(x + \\Delta x) - f(x) \\over \\Delta x} + O( \\Delta x^2) $$\n",
    "\n",
    "截断误正比于 $\\Delta x^2$, 所以 $\\Delta x$ 越小结果越精确。"
   ]
  },
  {
   "cell_type": "markdown",
   "metadata": {
    "slideshow": {
     "slide_type": "slide"
    }
   },
   "source": [
    "## 同理得到后向有限差分近似\n",
    "\n",
    "$$ f(x - \\Delta x) = f(x) - {df \\over dx} \\Delta x + {d^2 f \\over dx^2} {\\Delta x^2 \\over 2} + ... $$\n",
    "\n",
    "移项得到一阶精度的**后向**有限差分近似，\n",
    "\n",
    "$$  {df \\over dx}  = {f(x) - f(x - \\Delta x) \\over \\Delta x} + O( \\Delta x^2) $$"
   ]
  },
  {
   "cell_type": "markdown",
   "metadata": {
    "slideshow": {
     "slide_type": "slide"
    }
   },
   "source": [
    "## 前向与后向有限差分，有区别吗？\n",
    "\n",
    "答案是： Yes\n",
    "\n",
    "在偏微分方程的数值解中，有时候要构造“迎风法”，使得数值解稳定。举例，\n",
    "\n",
    "\\begin{align}\n",
    "{\\partial f \\over \\partial t} + u {\\partial f \\over \\partial x} = 0\n",
    "\\end{align}\n",
    "\n",
    "迎风法考虑信号不能超光速传播，根据对流速度 u 选择前向还是后向差分。\n",
    "- $u>0$, 选择后向差分\n",
    "- $u<0$, 选择前向差分\n",
    "\n",
    "**这部分在以后课程中会讲。**"
   ]
  },
  {
   "cell_type": "markdown",
   "metadata": {
    "slideshow": {
     "slide_type": "slide"
    }
   },
   "source": [
    "## 中心差分格式（二阶精度）\n",
    "\n",
    "\n",
    "$$ f(x + \\Delta x) = f(x) + {df \\over dx} \\Delta x + {d^2 f \\over dx^2} {\\Delta x^2 \\over 2} + ... $$\n",
    "\n",
    "$$ f(x - \\Delta x) = f(x) - {df \\over dx} \\Delta x + {d^2 f \\over dx^2} {\\Delta x^2 \\over 2} + ... $$\n",
    "\n",
    "将上面两个泰勒展开公式相减，可以得到**二阶精度的中心差分格式**：\n",
    "\n",
    "$$  {df \\over dx}  = {f(x + \\Delta x) - f(x - \\Delta x) \\over 2 \\Delta x} + O( \\Delta x^3) $$"
   ]
  },
  {
   "cell_type": "markdown",
   "metadata": {
    "slideshow": {
     "slide_type": "slide"
    }
   },
   "source": [
    "## 思考：如何使用下面四个泰勒展开公式，(其中 $h = \\Delta x$)\n",
    "\n",
    "\\begin{eqnarray}\n",
    "f(x - 2 h) & = & f(x) - 2 {df \\over dx} h + {d^2 f \\over dx^2} {4 h^2 \\over 2} - {d^3 f \\over dx^3} {8 h^3 \\over 6} + ... \\\\\n",
    "f(x - h) & = & f(x) - {df \\over dx} h + {d^2 f \\over dx^2} {h^2 \\over 2} - {d^3 f \\over dx^3} { h^3 \\over 6} +... \\\\\n",
    "f(x + h) & = & f(x) + {df \\over dx} h + {d^2 f \\over dx^2} {h^2 \\over 2} + {d^3 f \\over dx^3} { h^3 \\over 6} +... \\\\\n",
    "f(x + 2 h) & = & f(x) + 2 {df \\over dx} h + {d^2 f \\over dx^2} {4 h \\over 2} + {d^3 f \\over dx^3} {8 h^3 \\over 6} + ... \n",
    "\\end{eqnarray}\n",
    "\n",
    "- 得到三阶精度的 $df/dx$ 差分近似公式？\n",
    "- 得到二阶微分 $d^2 f / dx^2 $ 的差分近似公式？"
   ]
  },
  {
   "cell_type": "markdown",
   "metadata": {
    "slideshow": {
     "slide_type": "slide"
    }
   },
   "source": [
    "## 列表函数\n",
    "\n",
    "对于列表函数，$y=f(x)$, 可以先使用插值算法得到插值多项式，然后求导。\n"
   ]
  },
  {
   "cell_type": "markdown",
   "metadata": {
    "slideshow": {
     "slide_type": "slide"
    }
   },
   "source": [
    "## 自动微分 Auto-differentiation\n",
    "\n",
    "自动微分编程是一个最近很流行的研究方向。这种方法与传统的数值微分和解析微分都有所不同。\n",
    "\n",
    "- 数值微分：会引入数值误差\n",
    "- 解析微分：在函数复杂的时候，根据链式规则，展开项很多，计算速度慢\n",
    "\n",
    "自动微分保留了数值微分速度快和解析微分结果精确的优点，正成为一种新的计算物理编程范式。\n",
    "\n",
    "自动微分在人工智能时代开始流行，因为 Tensorflow, pytorch 等深度学习库封装了自动微分功能。\n"
   ]
  },
  {
   "cell_type": "markdown",
   "metadata": {
    "slideshow": {
     "slide_type": "fragment"
    }
   },
   "source": [
    "https://www.robots.ox.ac.uk/~tvg/publications/talks/autodiff.pdf"
   ]
  },
  {
   "cell_type": "markdown",
   "metadata": {
    "slideshow": {
     "slide_type": "slide"
    }
   },
   "source": [
    "自动微分通过在计算机上实现一些基本算术操作的微分，加上链式规则，自动从用户编写的函数 f(x)，推导出它的微分 f'(x)。\n",
    "\n",
    "自动微分广泛应用于，\n",
    "\n",
    "- 人工智能   $ \\theta = \\theta - \\epsilon \\partial L / \\partial \\theta$\n",
    "- 逆问题    $y = f(x) \\rightarrow x = f^{-1}(y)$\n",
    "- 牛顿法寻根  $x_{n+1} = x_{n} - f(x_n) / f'(x_n)$\n",
    "- Stiff 常微分方程  $df / dt = s$"
   ]
  },
  {
   "cell_type": "markdown",
   "metadata": {
    "slideshow": {
     "slide_type": "slide"
    }
   },
   "source": [
    "**方法**：把所有的数加上一个对偶数 $x \\rightarrow x + \\dot{x} \\mathbf{d}$\n",
    "\n",
    "其中 $\\mathbf{d}$ 是一个符号，像虚数的表示符号 $i$ 一样。不同的是，$i^2 = -1$, 此处 $\\mathbf{d}^2 = 0$.\n",
    "\n",
    "使用这种方法, 用户定义的函数会自动出现一个对偶的自动微分项, 以 $\\mathbf{d}$ 标示. \n",
    "\n",
    "下面举例说明,"
   ]
  },
  {
   "cell_type": "markdown",
   "metadata": {
    "slideshow": {
     "slide_type": "slide"
    }
   },
   "source": [
    "### 自动微分中对偶数的代数运算 (注意 $\\mathbf{d}^2 = 0$)\n",
    "\n",
    "\\begin{align}\n",
    "(x + \\dot{x} \\mathbf{d}) + (y + \\dot{y} \\mathbf{d}) &= x + y + (\\dot{x} + \\dot{y}) \\mathbf{d} \\\\\n",
    "(x + \\dot{x} \\mathbf{d}) - (y + \\dot{y} \\mathbf{d}) &= x - y + (\\dot{x} - \\dot{y}) \\mathbf{d} \\\\\n",
    "(x + \\dot{x} \\mathbf{d}) * (y + \\dot{y} \\mathbf{d}) &= xy + (x \\dot{y} + \\dot{x} y) \\mathbf{d} \\\\\n",
    "{1 \\over x + \\dot{x} \\mathbf{d}}  &= {1\\over x} - {\\dot{x} \\over x^2} \\mathbf{d} \\quad\\; (x \\neq 0)\n",
    "\\end{align}"
   ]
  },
  {
   "cell_type": "markdown",
   "metadata": {
    "slideshow": {
     "slide_type": "slide"
    }
   },
   "source": [
    "### 将多项式扩展到对偶数域\n",
    "\n",
    "\\begin{align}\n",
    "P(x) = a_0 + a_1 x + a_2 x^2 + \\cdot + a_n x^n\n",
    "\\end{align}\n",
    "\n",
    "将 x 替换成对偶数， $x \\rightarrow x + \\dot{x} \\mathbf{d}$ 得到，\n",
    "\n",
    "\\begin{align}\n",
    "P(x + \\dot{x} \\mathbf{d}) & = a_0 + a_1(x+\\dot{x} \\mathbf{d}) + a_2(x+\\dot{x} \\mathbf{d})^2 + \\cdot + a_n(x+\\dot{x} \\mathbf{d})^n \\\\\n",
    "&= a_0 + a_1 x + a_2 x^2 + \\cdot + a_n x^n + a_1\\dot{x} \\mathbf{d} + 2 a_2 x \\dot{x} \\mathbf{d} + \\cdot + n a_n x^{n-1}\\dot{x} \\mathbf{d} \\\\\n",
    "&= P(x) + P'(x) \\dot{x} \\mathbf{d}\n",
    "\\end{align}\n",
    "\n",
    "- $\\dot{x}$ 可任意选择，当对 x 求导时， $\\dot{x}=1$, 则对偶的项 $P'(x)$ 为 P(x) 的微分。\n",
    "- 如果计算机中其它函数比如 cos, sin, log, exp 等都用多项式展开，则用户定义的任何函数都会自动生成其微分对偶。"
   ]
  },
  {
   "cell_type": "markdown",
   "metadata": {
    "slideshow": {
     "slide_type": "slide"
    }
   },
   "source": [
    "或者直接对常用的数学函数进行重载，\n",
    "\\begin{align}\n",
    "sin(x + \\dot{x} \\mathbf{d}) &= sin(x) + cos(x) \\dot{x}\\mathbf{d} \\\\\n",
    "cos(x + \\dot{x} \\mathbf{d}) &= cos(x) - sin(x)  \\dot{x}\\mathbf{d} \\\\\n",
    "e^{x + \\dot{x} \\mathbf{d}} &= e^x + e^x \\dot{x} \\mathbf{d} \\\\\n",
    "\\log(x + \\dot{x} \\mathbf{d}) &= \\log(x) + { \\dot{x}\\over x } \\mathbf{d} \\quad \\; x \\neq 0 \\\\\n",
    "\\sqrt{x + \\dot{x} \\mathbf{d}} &= \\sqrt{x} + { \\dot{x}\\over 2 \\sqrt{x}}\\mathbf{d} \\quad \\; x \\neq 0 \\\\\n",
    "(x + \\dot{x} \\mathbf{d})^2 &= x^2 + 2x \\dot{x} \\mathbf{d} \\\\\n",
    "\\end{align}"
   ]
  },
  {
   "cell_type": "code",
   "execution_count": 14,
   "metadata": {
    "slideshow": {
     "slide_type": "slide"
    }
   },
   "outputs": [
    {
     "data": {
      "text/plain": [
       "0.36787944117144233"
      ]
     },
     "execution_count": 14,
     "metadata": {},
     "output_type": "execute_result"
    }
   ],
   "source": [
    "# 简单举例  f(x) = x e^{-x^2}\n",
    "\n",
    "def f(x):\n",
    "    w1 = x\n",
    "    w2 = w1 * w1\n",
    "    w3 = np.exp(- w2)\n",
    "    w4 = w1 * w3\n",
    "    return w4\n",
    "\n",
    "f(1.0)"
   ]
  },
  {
   "cell_type": "code",
   "execution_count": 15,
   "metadata": {
    "slideshow": {
     "slide_type": "slide"
    }
   },
   "outputs": [],
   "source": [
    "## 自动微分版本\n",
    "\n",
    "def f_ad(x):\n",
    "    w1 = x\n",
    "    dw1 = 1\n",
    "    \n",
    "    w2 = w1 * w1\n",
    "    dw2 = 2 * w1 * dw1\n",
    "    \n",
    "    w3 = np.exp(-w2)\n",
    "    dw3 = - np.exp(-w2) * dw2\n",
    "    \n",
    "    w4 = w1 * w3\n",
    "    dw4 = w1 * dw3 + dw1 * w3\n",
    "    \n",
    "    return w4, dw4"
   ]
  },
  {
   "cell_type": "code",
   "execution_count": 16,
   "metadata": {
    "slideshow": {
     "slide_type": "slide"
    }
   },
   "outputs": [
    {
     "data": {
      "text/plain": [
       "(0.36787944117144233, -0.36787944117144233)"
      ]
     },
     "execution_count": 16,
     "metadata": {},
     "output_type": "execute_result"
    }
   ],
   "source": [
    "f_ad(1.0)"
   ]
  },
  {
   "cell_type": "code",
   "execution_count": 17,
   "metadata": {
    "slideshow": {
     "slide_type": "fragment"
    }
   },
   "outputs": [
    {
     "data": {
      "text/latex": [
       "$\\displaystyle -0.367879441171442$"
      ],
      "text/plain": [
       "-0.367879441171442"
      ]
     },
     "execution_count": 17,
     "metadata": {},
     "output_type": "execute_result"
    }
   ],
   "source": [
    "dfdx.subs(x, 1.)\n",
    "\n",
    "# dfdx 是前面用 sympy 计算出的解析微分\n",
    "# 两者在小数点后 15 位都保持一致"
   ]
  },
  {
   "cell_type": "markdown",
   "metadata": {
    "slideshow": {
     "slide_type": "slide"
    }
   },
   "source": [
    "### 运算符重载的方法实现自动微分编程\n",
    "\n",
    "举例：计算机如何做复数的加减乘除\n",
    "\n",
    "\\begin{align}\n",
    "z_1 &= x_1 + i y_1 \\\\\n",
    "z_2 &= x_2 + i y_2\n",
    "\\end{align}\n",
    "\n",
    "底层语言只实现了实数的加减乘除，但是使用复数库，可以直接计算\n",
    "\n",
    "- $z_1 + z_2$\n",
    "- $z_1 - z_2$\n",
    "- $z_1 * z_2$\n",
    "- $z_1 / z_2$\n",
    "\n",
    "复数库对 +， -， *， / 符号做了重载。"
   ]
  },
  {
   "cell_type": "code",
   "execution_count": 1,
   "metadata": {
    "slideshow": {
     "slide_type": "slide"
    }
   },
   "outputs": [],
   "source": [
    "class DNumber:\n",
    "    '''自动微分中的对偶数类，对 +， -， *， /，幂次符号做了重载'''\n",
    "    def __init__(self, x, dx):\n",
    "        self.val = x\n",
    "        self.dval = dx\n",
    "    \n",
    "    def __repr__(self):\n",
    "        '''使用 print(DNumber(1, 2)) 时输出：1 + 2 d'''\n",
    "        return f'{self.val} + {self.dval} d'\n",
    "        \n",
    "    def __add__(self, other):\n",
    "        '''overload a + b'''\n",
    "        if isinstance(other, float) or isinstance(other, int):\n",
    "            val = self.val + other\n",
    "            dval = self.dval\n",
    "        if isinstance(other, DNumber):\n",
    "            val = self.val+other.val\n",
    "            dval = self.dval + other.dval\n",
    "            \n",
    "        return DNumber(val, dval)\n",
    "    \n",
    "    def __iadd__(self, other):\n",
    "        '''overload a += b'''\n",
    "        self.val = self.val + other.val\n",
    "        self.dval = self.dval + other.dval\n",
    "        return self\n",
    "    \n",
    "    def __mul__(self, other):\n",
    "        ''' overload x * y  or const * x\n",
    "        (x + dx d)*(y + dy d) = x*y + (xdy + ydx) d'''\n",
    "        if isinstance(other, float) or isinstance(other, int):\n",
    "            val = other * self.val\n",
    "            dval = other * self.dval\n",
    "        \n",
    "        if isinstance(other, DNumber):\n",
    "            val = self.val * other.val\n",
    "            dval = self.val * other.dval + other.val * self.dval\n",
    "            \n",
    "        return DNumber(val, dval)\n",
    "    \n",
    "    def __rmul__(self, other):\n",
    "        return self.__mul__(other)\n",
    "    \n",
    "    def __pow__(self, n):\n",
    "        if isinstance(n, float) or isinstance(n, int):\n",
    "            val = self.val**n\n",
    "            dval = n * self.val**(n-1) * self.dval\n",
    "        elif isinstance(n, DNumber) :\n",
    "            raise(Exception(\"Pow(DNumber, DNumber) is not implemented yet\"))\n",
    "        return DNumber(val, dval)"
   ]
  },
  {
   "cell_type": "code",
   "execution_count": 19,
   "metadata": {
    "slideshow": {
     "slide_type": "slide"
    }
   },
   "outputs": [
    {
     "data": {
      "text/plain": [
       "0.30000000000000004 + 1 d"
      ]
     },
     "execution_count": 19,
     "metadata": {},
     "output_type": "execute_result"
    }
   ],
   "source": [
    "s = DNumber(0.1, 1)\n",
    "s + DNumber(0.2, 0)"
   ]
  },
  {
   "cell_type": "code",
   "execution_count": 20,
   "metadata": {
    "slideshow": {
     "slide_type": "fragment"
    }
   },
   "outputs": [],
   "source": [
    "s += DNumber(0.2, 0)"
   ]
  },
  {
   "cell_type": "code",
   "execution_count": 21,
   "metadata": {
    "slideshow": {
     "slide_type": "fragment"
    }
   },
   "outputs": [
    {
     "data": {
      "text/plain": [
       "0.30000000000000004 + 1 d"
      ]
     },
     "execution_count": 21,
     "metadata": {},
     "output_type": "execute_result"
    }
   ],
   "source": [
    "s"
   ]
  },
  {
   "cell_type": "code",
   "execution_count": 22,
   "metadata": {
    "slideshow": {
     "slide_type": "fragment"
    }
   },
   "outputs": [
    {
     "data": {
      "text/plain": [
       "0.010000000000000002 + 0.2 d"
      ]
     },
     "execution_count": 22,
     "metadata": {},
     "output_type": "execute_result"
    }
   ],
   "source": [
    "x = DNumber(0.1, 1)\n",
    "x * x"
   ]
  },
  {
   "cell_type": "code",
   "execution_count": 23,
   "metadata": {
    "slideshow": {
     "slide_type": "fragment"
    }
   },
   "outputs": [
    {
     "data": {
      "text/plain": [
       "0.0010000000000000002 + 0.030000000000000006 d"
      ]
     },
     "execution_count": 23,
     "metadata": {},
     "output_type": "execute_result"
    }
   ],
   "source": [
    "x**3"
   ]
  },
  {
   "cell_type": "markdown",
   "metadata": {
    "slideshow": {
     "slide_type": "slide"
    }
   },
   "source": [
    "### 多个变量的自动微分\n",
    "\n",
    "上面例子中 f(x) 是 x 的单变量函数，$\\dot{x}=1$. \n",
    "\n",
    "如果是多变量函数 f(x, y), 要求对 x 求微分，则应取\n",
    "\n",
    "$\\dot{x}=1, \\dot{y}=0$.\n",
    "\n",
    "举例说明：\n",
    "\n",
    "$f(x, y)= 3 x^2  y + x$\n",
    "\n",
    "${\\partial f \\over \\partial x} = 6 x y + 1$\n",
    "\n",
    "在 (x, y) = (1, 1) 时，$f(x, y)=4.0$, $df/dx = 7.0$。"
   ]
  },
  {
   "cell_type": "code",
   "execution_count": 1,
   "metadata": {
    "slideshow": {
     "slide_type": "slide"
    }
   },
   "outputs": [],
   "source": [
    "def f2d(x, y):\n",
    "    '''\n",
    "    Args: \n",
    "    :x: DNumber\n",
    "    :y: DNumber\n",
    "    :return: f(x, y) = 3*x**2*y + x \n",
    "    and \\partial f/\\partial x '''\n",
    "    return 3 * x**2 * y + x"
   ]
  },
  {
   "cell_type": "code",
   "execution_count": 25,
   "metadata": {
    "slideshow": {
     "slide_type": "slide"
    }
   },
   "outputs": [
    {
     "name": "stdout",
     "output_type": "stream",
     "text": [
      "x = 1.0 + 1.0 d\n",
      "y = 1.0 + 0.0 d\n",
      "3x^2 y + x =  4.0 + 7.0 d\n"
     ]
    }
   ],
   "source": [
    "# 求 (x,y)=(1,1) 时 f(x, y) 与 df/dx\n",
    "x = DNumber(1.0, 1.0)\n",
    "y = DNumber(1.0, 0.0)\n",
    "print(\"x =\", x)\n",
    "print(\"y =\", y)\n",
    "print(\"3x^2 y + x = \", f2d(x, y))"
   ]
  }
 ],
 "metadata": {
  "celltoolbar": "幻灯片",
  "kernelspec": {
   "display_name": "Python 3.7.9 64-bit ('manim': conda)",
   "language": "python",
   "name": "python37964bitmanimconda6dc7fd4d9ee448a082df7b932f03e3e2"
  },
  "language_info": {
   "codemirror_mode": {
    "name": "ipython",
    "version": 3
   },
   "file_extension": ".py",
   "mimetype": "text/x-python",
   "name": "python",
   "nbconvert_exporter": "python",
   "pygments_lexer": "ipython3",
   "version": "3.7.9"
  },
  "rise": {
   "enable_chalkboard": true,
   "scroll": true
  }
 },
 "nbformat": 4,
 "nbformat_minor": 4
}
