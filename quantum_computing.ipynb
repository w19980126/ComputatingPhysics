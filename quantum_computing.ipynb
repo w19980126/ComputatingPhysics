{
 "cells": [
  {
   "cell_type": "markdown",
   "metadata": {
    "slideshow": {
     "slide_type": "slide"
    }
   },
   "source": [
    "# 量子计算简介 （Quantum Computing）\n",
    "\n",
    "庞龙刚@华中师范大学"
   ]
  },
  {
   "cell_type": "markdown",
   "metadata": {
    "slideshow": {
     "slide_type": "slide"
    }
   },
   "source": [
    "## 学习内容\n",
    "\n",
    "1. 经典比特与量子比特\n",
    "2. 量子门\n",
    "3. 测量\n",
    "4. 用 Python 写一个玩具量子计算机"
   ]
  },
  {
   "cell_type": "code",
   "execution_count": 1,
   "metadata": {
    "slideshow": {
     "slide_type": "slide"
    }
   },
   "outputs": [],
   "source": [
    "from IPython.display import Image"
   ]
  },
  {
   "cell_type": "markdown",
   "metadata": {
    "slideshow": {
     "slide_type": "slide"
    }
   },
   "source": [
    "## 为何需要量子计算 （1）Quantum Simulations\n",
    "\n",
    "数值求解多体量子力学时遭遇维数灾难\n",
    "\n",
    "Richard P. Feynman, \"Simulating Physics with Computers\", 1982\n",
    "\n",
    "https://physics.whu.edu.cn/dfiles/wenjian/1_00_QIC_Feynman.pdf\n",
    "\n",
    "Why not simulate one quantum system with another quantum system (quantum computer)?"
   ]
  },
  {
   "cell_type": "markdown",
   "metadata": {
    "slideshow": {
     "slide_type": "slide"
    }
   },
   "source": [
    "<img src=\"images/VQE_ibm_nature.png\" style=\"width:800\"></img>"
   ]
  },
  {
   "cell_type": "markdown",
   "metadata": {
    "slideshow": {
     "slide_type": "slide"
    }
   },
   "source": [
    "### (2) 量子傅立叶变换 （Shor's algorithm）\n",
    "\n",
    "RSA-2048 Challenge Problem：\n",
    "\n",
    "    25195908475657893494027183240048398571429282126204\n",
    "    03202777713783604366202070759555626401852588078440\n",
    "    69182906412495150821892985591491761845028084891200\n",
    "    72844992687392807287776735971418347270261896375014\n",
    "    97182469116507761337985909570009733045974880842840\n",
    "    17974291006424586918171951187461215151726546322822\n",
    "    16869987549182422433637259085141865462043576798423\n",
    "    38718477444792073993423658482382428119816381501067\n",
    "    48104516603773060562016196762561338441436038339044\n",
    "    14952634432190114657544454178424020924616515723350\n",
    "    77870774981712577246796292638635637328991215483143\n",
    "    81678998850404453640235273819513786365643912120103\n",
    "    97122822120720357 \n",
    "$=  \\color{red}{\\blacksquare \\times \\blacksquare }$\n"
   ]
  },
  {
   "cell_type": "markdown",
   "metadata": {
    "slideshow": {
     "slide_type": "slide"
    }
   },
   "source": [
    "## 经典比特 Bit\n",
    "\n",
    "\n",
    "1. 比特 bit: a state has value either 0 or 1\n",
    "2. 逻辑操作 logistic operation: NOT, AND, OR, XOR \n",
    "3. 非 NOT: $ \\neg 0 = 1$, $\\neg 1 = 0$\n",
    "4. 与 AND: $0 \\wedge 0 = 0$, $0 \\wedge 1 = 0$, $1 \\wedge 0 = 0$, $1 \\wedge 1 = 1$\n",
    "5. 或 OR: $0 \\vee 0 = 0$, $0 \\vee 1 = 1$, $1 \\vee 0 = 1$, $1 \\vee 1 = 1$\n",
    "6. 异或 XOR: $0 \\bigoplus 0 = 0$, $0 \\bigoplus 1 = 1$, $1 \\bigoplus 0 = 1$, $1 \\bigoplus 1 = 0$\n",
    "7. $+$, $-$, $\\times$, $/$ 通过经典比特上的逻辑操作实现\n"
   ]
  },
  {
   "cell_type": "markdown",
   "metadata": {
    "slideshow": {
     "slide_type": "slide"
    }
   },
   "source": [
    "## 量子比特 Qubit\n",
    "\n",
    "一个 Qubit 是计算基底 $|0\\rangle$ 和 $|1\\rangle$ 的线性组合（叠加态）。\n",
    "\n",
    "A **qubit** is a linear combination (superposition) of **computational basis states** $|0\\rangle$ and $|1\\rangle$.\n",
    "\n",
    "\\begin{equation*}\n",
    "|\\Psi \\rangle = \\alpha |0 \\rangle + \\beta |1 \\rangle \n",
    "\\end{equation*}\n",
    "\n",
    "其中，\n",
    "- $|0 \\rangle = \\begin{bmatrix} 1\\\\ 0 \\end{bmatrix}$， $|1 \\rangle = \\begin{bmatrix} 0\\\\ 1 \\end{bmatrix}$\n",
    "- $\\alpha$, $\\beta$ 是复数 (complex numbers)\n",
    "- $\\alpha^2 + \\beta^2 = 1$ \n",
    "- Measuring $|\\Psi \\rangle$ along $|0\\rangle$ and  $|1\\rangle$  will get $|0 \\rangle$ state with probability $\\alpha^2$ and $|1 \\rangle$ state with probability $\\beta^2$\n",
    "- Without measuring, there is hidden information in $\\alpha$ and $\\beta$.\n"
   ]
  },
  {
   "cell_type": "markdown",
   "metadata": {
    "slideshow": {
     "slide_type": "slide"
    }
   },
   "source": [
    "## Qubit 的物理实现\n",
    "\n",
    "<img src=\"images/physical_implementations.jpeg\" style=\"height:300pt\" ></img>"
   ]
  },
  {
   "cell_type": "markdown",
   "metadata": {
    "slideshow": {
     "slide_type": "slide"
    }
   },
   "source": [
    "### 两个量子比特 Two Qubits\n",
    "\n",
    "The state vector of one qubit is in two-dimensional complex vector space.\n",
    "  \n",
    "If we have two qubits, the state vector is in four-dimensional complex vector space,\n",
    "\n",
    "\\begin{equation*}\n",
    "   |\\Psi \\rangle = \\alpha_{00} |0 0 \\rangle + \\alpha_{01} |01 \\rangle + \\alpha_{10} |10 \\rangle +  \\alpha_{11} |11 \\rangle \n",
    "\\end{equation*}\n",
    "where\n",
    "\n",
    "- there are four computational basis states $|0 0 \\rangle$, $|0 1 \\rangle$, $|1 0 \\rangle$, $|1 1 \\rangle$.\n",
    "- $|00 \\rangle = \\begin{bmatrix} \\color{red}{1}\\\\ \\color{red}{0} \\end{bmatrix} \\bigotimes \\begin{bmatrix} \\color{blue}{1}\\\\ \\color{blue}{0} \\end{bmatrix} = \\begin{bmatrix} \\color{red}{1}\\times \\color{blue}{1}\\\\ \\color{red}{1}\\times \\color{blue}{0} \\\\ \\color{red}{0}\\times \\color{blue}{1} \\\\  \\color{red}{0}\\times \\color{blue}{0}\\end{bmatrix} = \\begin{bmatrix} 1\\\\ 0 \\\\ 0 \\\\ 0\\end{bmatrix}$\n",
    "-  $|01 \\rangle = \\begin{bmatrix} \\color{red}{1}\\\\ \\color{red}{0} \\end{bmatrix} \\bigotimes \\begin{bmatrix} \\color{blue}{0}\\\\ \\color{blue}{1} \\end{bmatrix} = \\begin{bmatrix} \\color{red}{1}\\times \\color{blue}{0}\\\\ \\color{red}{1}\\times \\color{blue}{1} \\\\ \\color{red}{0}\\times \\color{blue}{0} \\\\  \\color{red}{0}\\times \\color{blue}{1}\\end{bmatrix} = \\begin{bmatrix} 0\\\\ 1 \\\\ 0 \\\\ 0\\end{bmatrix}$\n",
    "\n"
   ]
  },
  {
   "cell_type": "markdown",
   "metadata": {
    "slideshow": {
     "slide_type": "slide"
    }
   },
   "source": [
    "## 两量子比特：EPR态\n",
    "\n",
    "\\begin{align}\n",
    "|00 \\rangle = \\begin{bmatrix} 1\\\\ 0 \\\\ 0 \\\\ 0\\end{bmatrix}, \n",
    "|01 \\rangle = \\begin{bmatrix} 0\\\\ 1 \\\\ 0 \\\\ 0\\end{bmatrix}, \n",
    "|10 \\rangle = \\begin{bmatrix} 0\\\\ 0 \\\\ 1 \\\\ 0\\end{bmatrix}, \n",
    "|11 \\rangle = \\begin{bmatrix} 0\\\\ 0 \\\\ 0 \\\\ 1\\end{bmatrix} \n",
    "\\end{align}\n",
    "\n",
    "The famous $\\color{red}{\\rm EPR}$(Einstein, Podolsky and Rosen) spin singlet state,\n",
    "\n",
    "\\begin{equation*}\n",
    "  |\\Psi \\rangle = \\frac{ |0 1 \\rangle -  |10 \\rangle}{\\sqrt{2}}\n",
    "\\end{equation*}  \n",
    "\n",
    "Suppose we have one virtual photon that decays into $e^+$ and $e^-$, it forms a spin singlet system with 2 entangled qubits.\n",
    "\n",
    "If we measure the spins of these 2 qubits along some axis $\\vec{v}$, the observable $\\vec{v}\\cdot \\sigma$ gives $+1$ or $-1$ for each of these 2 qubits. No matter how do we choose the axis, the results are always opposite to each other.\n",
    "\n",
    "(此例子仅为形象说明纠缠态的概念，更恰当的例子是 $\\pi^0$ 衰变为左旋与右旋光）\n"
   ]
  },
  {
   "cell_type": "code",
   "execution_count": 2,
   "metadata": {
    "slideshow": {
     "slide_type": "slide"
    }
   },
   "outputs": [
    {
     "data": {
      "image/jpeg": "[encoded data removed]",
      "text/plain": [
       "<IPython.core.display.Image object>"
      ]
     },
     "execution_count": 2,
     "metadata": {
      "image/jpeg": {
       "height": 300
      }
     },
     "output_type": "execute_result"
    }
   ],
   "source": [
    "Image(\"images/epr.jpeg\", height=300)"
   ]
  },
  {
   "cell_type": "markdown",
   "metadata": {
    "slideshow": {
     "slide_type": "slide"
    }
   },
   "source": [
    "## 多量子比特： Tensor product to form larger vector space\n",
    "\n",
    "For a system of $n$ qubits, the basis state vector has the form\n",
    "\n",
    "\\begin{equation*}\n",
    "|i_1 i_2 i_3 \\cdots i_n \\rangle = |i_1\\rangle \\bigotimes  |i_2\\rangle \\bigotimes  |i_3\\rangle \\bigotimes  \\cdots |i_n\\rangle \n",
    "\\end{equation*}\n",
    "  \n",
    "- Example: $|000...0\\rangle = \\begin{bmatrix} 1\\\\ 0 \\end{bmatrix} \\bigotimes \\begin{bmatrix} 1\\\\ 0 \\end{bmatrix} \\bigotimes \\begin{bmatrix} 1\\\\ 0 \\end{bmatrix} \\cdots \\bigotimes \\begin{bmatrix} 1\\\\ 0 \\end{bmatrix}$ \n",
    "- For n=500, $| \\Psi \\rangle$ has $2^{500}$ amplitudes, the number is larger than the estimated number of atoms in the whole universe.\n",
    "- Classical computer does not have such a big memory/hard disk to store the intermediate results.\n",
    "- Quantum parallelism: the system evolves with $2^{500}$ hidden complex numbers. \n",
    "\n"
   ]
  },
  {
   "cell_type": "markdown",
   "metadata": {
    "slideshow": {
     "slide_type": "slide"
    }
   },
   "source": [
    "## 纠缠 Entanglement\n",
    "For a system of $n$ qubits, a general form of  the state vector is\n",
    "\\begin{equation*}\n",
    "|\\Psi \\rangle = \\sum_{i_k = 0, 1} \\alpha_{i_1 i_2 ... i_n} |i_1 i_2 \\cdots i_n \\rangle \n",
    "\\end{equation*}\n",
    "   \n",
    "Some states can be decomposed in the tensor product form,\n",
    "\n",
    "\\begin{equation*}\n",
    "|\\Psi \\rangle = \\frac{ |0 0 \\rangle + |01 \\rangle}{\\sqrt{2}} =  |0 \\rangle \\bigotimes \\frac{ |0 \\rangle + |1 \\rangle}{\\sqrt{2}}\n",
    "\\end{equation*}    \n",
    "\n",
    "Some superposition states can not be decomposed in the tensor product form, these states are called **entangled states**.\n",
    "    \n",
    "\\begin{equation*}\n",
    "|\\Psi \\rangle = \\frac{ |0 1 \\rangle -  |10 \\rangle}{\\sqrt{2}}\n",
    "\\end{equation*}    \n",
    "\n"
   ]
  },
  {
   "cell_type": "markdown",
   "metadata": {
    "slideshow": {
     "slide_type": "slide"
    }
   },
   "source": [
    "## 量子门 Quantum Gates\n",
    "\n",
    "Similar to logistic operations in classical computer, there are logistic operators for qubits, which are called quantum gates,\n",
    "  \n",
    "\n",
    "-  Identity gate: $\\mathbf{I} = \\begin{bmatrix} 1 & 0 \\\\ 0 & 1 \\end{bmatrix}$.  $\\mathbf{I}  | 0 \\rangle = | 0 \\rangle$ and $\\mathbf{I}  | 1 \\rangle = | 1 \\rangle$.\n",
    "-  NOT gate: $\\mathbf{X} = \\begin{bmatrix} 0 & 1 \\\\ 1 & 0 \\end{bmatrix}$.  \n",
    "- $\\mathbf{X}  | 0 \\rangle = \\begin{bmatrix} 0 & 1 \\\\ 1 & 0 \\end{bmatrix}  \\begin{bmatrix}  1 \\\\  0 \\end{bmatrix} = \\begin{bmatrix}  0 \\\\  1 \\end{bmatrix} = | 1 \\rangle$\n",
    "-  $\\mathbf{X}  | 1 \\rangle = \\begin{bmatrix} 0 & 1 \\\\ 1 & 0 \\end{bmatrix}  \\begin{bmatrix}  0 \\\\  1 \\end{bmatrix} = \\begin{bmatrix}  1\\\\  0 \\end{bmatrix} = | 0 \\rangle$"
   ]
  },
  {
   "cell_type": "markdown",
   "metadata": {
    "slideshow": {
     "slide_type": "slide"
    }
   },
   "source": [
    "\n",
    "NOT gate is the Pauli x matrix. Similarly, there are Y and Z gates, \n",
    " \n",
    "- $\\mathbf{Y}  | 0 \\rangle = \\begin{bmatrix} 0 & -i \\\\ i & 0 \\end{bmatrix}  \\begin{bmatrix}  1 \\\\  0 \\end{bmatrix} = i \\begin{bmatrix}  0\\\\  1 \\end{bmatrix} = i | 1 \\rangle$"
   ]
  },
  {
   "cell_type": "markdown",
   "metadata": {
    "slideshow": {
     "slide_type": "fragment"
    }
   },
   "source": [
    "- $\\mathbf{Y}  | 1 \\rangle = \\begin{bmatrix} 0 & -i \\\\ i & 0 \\end{bmatrix}  \\begin{bmatrix}  0 \\\\  1 \\end{bmatrix} = -i \\begin{bmatrix}  1\\\\  0 \\end{bmatrix} = -i | 0 \\rangle$"
   ]
  },
  {
   "cell_type": "markdown",
   "metadata": {
    "slideshow": {
     "slide_type": "slide"
    }
   },
   "source": [
    "- $\\mathbf{Z}  | 0 \\rangle = \\begin{bmatrix} 1 & 0 \\\\ 0 & -1 \\end{bmatrix}  \\begin{bmatrix}  1 \\\\  0 \\end{bmatrix} =  \\begin{bmatrix}  1\\\\  0 \\end{bmatrix} =  | 0 \\rangle$\n",
    "- $\\mathbf{Z}  | 1 \\rangle = \\begin{bmatrix} 1 & 0\\\\ 0 & -1 \\end{bmatrix}  \\begin{bmatrix}  0 \\\\  1 \\end{bmatrix} = - \\begin{bmatrix}  0\\\\  1 \\end{bmatrix} = - | 1 \\rangle$"
   ]
  },
  {
   "cell_type": "markdown",
   "metadata": {
    "slideshow": {
     "slide_type": "fragment"
    }
   },
   "source": [
    "   \n",
    "- $\\mathbf{Y}$  gate also flips a qubit, but along $Y$ axis.\n",
    "- $\\mathbf{Z}$  gate only provides one phase shift to $ | 1 \\rangle $ but does not flip qubit.\n",
    "- One can do multi-steps operation: $\\mathbf{ZYX} |0 \\rangle = - i | 0 \\rangle$.\n",
    "\n"
   ]
  },
  {
   "cell_type": "code",
   "execution_count": 3,
   "metadata": {
    "slideshow": {
     "slide_type": "slide"
    }
   },
   "outputs": [
    {
     "data": {
      "image/jpeg": "[encoded data removed]",
      "text/plain": [
       "<IPython.core.display.Image object>"
      ]
     },
     "execution_count": 3,
     "metadata": {
      "image/jpeg": {
       "height": 500
      }
     },
     "output_type": "execute_result"
    }
   ],
   "source": [
    "Image(\"images/bloch_sphere.jpg\", height=500)\n",
    "\n",
    "# 单个量子门 （2x2 幺正矩阵乘积）可以看作是对布洛赫球上矢量的旋转操作\n",
    "# Single qubit gates (2x2 unitary matrix multiplications) can be considered\n",
    "# as rotating operations on the Bloch sphere."
   ]
  },
  {
   "cell_type": "markdown",
   "metadata": {
    "slideshow": {
     "slide_type": "slide"
    }
   },
   "source": [
    "## Hadamard Gate\n",
    "\n",
    "\\begin{equation*}\n",
    "    H \\equiv \\frac{1}{\\sqrt{2}} \\begin{bmatrix} 1 & 1 \\\\ 1 & -1 \\end{bmatrix}  = \\frac{X + Z}{\\sqrt{2}} \n",
    "   \\end{equation*}"
   ]
  },
  {
   "cell_type": "markdown",
   "metadata": {
    "slideshow": {
     "slide_type": "fragment"
    }
   },
   "source": [
    "\\begin{align}\n",
    "H  | 0 \\rangle &= \\frac{1}{\\sqrt{2}} \\begin{bmatrix} 1 & 1 \\\\ 1 & -1 \\end{bmatrix} \\begin{bmatrix} 1 \\\\ 0 \\end{bmatrix} = \\frac{1}{\\sqrt{2}} \\begin{bmatrix} 1 \\\\ 1 \\end{bmatrix} = \\frac{1}{\\sqrt{2}} (|0\\rangle + |1\\rangle)\\\\\n",
    "H  | 1 \\rangle &= \\frac{1}{\\sqrt{2}} \\begin{bmatrix} 1 & 1 \\\\ 1 & -1 \\end{bmatrix} \\begin{bmatrix} 0 \\\\ 1 \\end{bmatrix} = \\frac{1}{\\sqrt{2}} \\begin{bmatrix} 1 \\\\ -1 \\end{bmatrix} = \\frac{1}{\\sqrt{2}} (|0\\rangle - |1\\rangle) \n",
    "\\end{align}\n",
    "   \n",
    "   \\begin{equation*}\n",
    "    H (\\alpha | 0 \\rangle + \\beta | 1 \\rangle) =  \\alpha \\frac{| 0 \\rangle + | 1 \\rangle}{\\sqrt{2}} + \\beta \\frac{| 0 \\rangle - | 1 \\rangle}{\\sqrt{2}} \n",
    "   \\end{equation*}\n",
    "   \n",
    "Hadamard gate 非常重要，它将 $| 0 \\rangle$ or $| 1 \\rangle$ 转化为叠加态（superposition state）."
   ]
  },
  {
   "cell_type": "markdown",
   "metadata": {
    "slideshow": {
     "slide_type": "slide"
    }
   },
   "source": [
    "## Controlled NOT gate for 2 qubits: CNOT\n",
    "   \n",
    "\n",
    "\\begin{equation*}\n",
    "{\\rm CNOT} = \\begin{bmatrix} 1 & 0 & 0 & 0 \\\\ 0 & 1 & 0 & 0 \\\\ 0 & 0 & 0 & 1 \\\\ 0 & 0 & 1 & 0 \\end{bmatrix}\n",
    "\\end{equation*}\n",
    "\n",
    "CNOT 作用在两个 Qubits 上，\n",
    "\n",
    "\\begin{align}\n",
    "    {\\rm CNOT}  | \\color{red}{0 0} \\rangle &=& | 0 \\color{red}{0}\\rangle \\\\\n",
    "    {\\rm CNOT}  | \\color{red}{0 1} \\rangle &=& | 0 \\color{red}{1}\\rangle \\\\\n",
    "    {\\rm CNOT}  | \\color{red}{1 0} \\rangle &=& | 1 \\color{red}{1}\\rangle \\\\\n",
    "    {\\rm CNOT}  | \\color{red}{1 1} \\rangle &=& | 1 \\color{red}{0}\\rangle\n",
    "\\end{align}\n",
    "\n",
    "CNOT gate flip the 2nd qubit only when the first qubit is 1. \n"
   ]
  },
  {
   "cell_type": "markdown",
   "metadata": {
    "slideshow": {
     "slide_type": "slide"
    }
   },
   "source": [
    "### CNOT 与量子异或 XOR\n",
    "\n",
    "The classical logical XOR gate is defined as (x + y 然后对 2 求 mod），\n",
    "\n",
    "\\begin{equation*}\n",
    "       \\mathrm{XOR}(x, y) \\equiv x \\bigoplus y \\equiv   \\left\\{\n",
    "                                \\begin{array}{ll}\n",
    "                                         1  \\quad\\;  x\\neq y \\\\\n",
    "                                         0  \\quad\\;  x=y \\\\\n",
    "                                \\end{array}\n",
    "                                \\right. \\quad\\;\\;  x, y \\in \\{0, 1\\}\n",
    "\\end{equation*}\n",
    "      \n",
    "Classical XOR: \n",
    "$0 \\bigoplus 0 = 0$, $0 \\bigoplus 1 = 1$, $1 \\bigoplus 0 = 1$, $1 \\bigoplus 1 = 0$\n",
    "\n"
   ]
  },
  {
   "cell_type": "markdown",
   "metadata": {
    "slideshow": {
     "slide_type": "fragment"
    }
   },
   "source": [
    "CNOT gate is a generalization of the classical XOR gate since $|A, B\\rangle \\rightarrow |A, A \\bigoplus B\\rangle$ where $\\bigoplus$ denotes addition modulo 2.\n",
    "\n",
    " \\begin{eqnarray*}\n",
    "{\\rm CNOT}  | \\color{red}{0 0} \\rangle &=& | 0 \\color{red}{0}\\rangle \\\\\n",
    "{\\rm CNOT}  | \\color{red}{0 1} \\rangle &=& | 0 \\color{red}{1}\\rangle \\\\\n",
    "{\\rm CNOT}  | \\color{red}{1 0} \\rangle &=& | 1 \\color{red}{1}\\rangle \\\\\n",
    "{\\rm CNOT}  | \\color{red}{1 1} \\rangle &=& | 1 \\color{red}{0}\\rangle\n",
    "\\end{eqnarray*}"
   ]
  },
  {
   "cell_type": "markdown",
   "metadata": {
    "slideshow": {
     "slide_type": "slide"
    }
   },
   "source": [
    "量子门与经典逻辑操作的区别：\n",
    "\n",
    "1. Classical AND, OR, XOR increases entropy.\n",
    "2. Quantum gates conserve entropy (reversible) using one auxiliary qubit.\n",
    "\n",
    "从 CNOT 门可以看出，量子异或输出了两个 Qubit，保证系统可逆。"
   ]
  },
  {
   "cell_type": "markdown",
   "metadata": {
    "slideshow": {
     "slide_type": "slide"
    }
   },
   "source": [
    "### 与门 AND Gate\n",
    "\n",
    "The classical logical AND gate is defined as,\n",
    "      \\begin{equation*}\n",
    "       \\mathrm{AND}(x, y) \\equiv x \\wedge y \\equiv   \\left\\{\n",
    "                                                                            \\begin{array}{ll}\n",
    "                                                                                     1  \\quad\\;  x=y=1 \\\\\n",
    "                                                                                     0  \\quad\\;  \\mathrm{otherwise} \\\\\n",
    "                                                                            \\end{array}\n",
    "                                                                            \\right. \\quad\\;\\;  x, y \\in \\{0, 1\\}\n",
    "      \\end{equation*}\n",
    "         \n",
    "The quantum AND gate is defined as,\n",
    "      \\begin{equation*}\n",
    "       {\\rm U}_{\\mathrm{AND}} = ( |00 \\rangle \\langle 00| +   |01 \\rangle \\langle 01|   + |1 0 \\rangle \\langle 1 0| ) \\bigotimes I + |1 1 \\rangle \\langle 1 1| \\bigotimes X\n",
    "       \\end{equation*}  \n",
    "       \n",
    "One can verify that,      \n",
    "      \\begin{equation*}\n",
    "       U_{\\mathrm{AND}}|x, y, 0\\rangle \\equiv |x, y, x\\wedge y \\rangle, \\quad\\; x, y \\in \\{0, 1\\}.\n",
    "       \\end{equation*}  \n",
    "       \n",
    "The input to the 3rd qubit is 0, the output is $x\\wedge y$."
   ]
  },
  {
   "cell_type": "markdown",
   "metadata": {
    "slideshow": {
     "slide_type": "slide"
    }
   },
   "source": [
    "### 或门 OR Gate\n",
    "The classical logical OR gate is defined as,\n",
    "      \\begin{equation*}\n",
    "       \\mathrm{OR}(x, y) \\equiv x \\vee y \\equiv   \\left\\{\n",
    "                                                                            \\begin{array}{ll}\n",
    "                                                                                     0  \\quad\\;  x=y=0 \\\\\n",
    "                                                                                     1  \\quad\\;  \\mathrm{otherwise} \\\\\n",
    "                                                                            \\end{array}\n",
    "                                                                            \\right. \\quad\\;\\;  x, y \\in \\{0, 1\\}\n",
    "      \\end{equation*}\n",
    "\n",
    "In quantum case, let $|x, y, 0\\rangle$  be the input state, the unitary matrix for OR gate is defined as,\n",
    "\n",
    "\\begin{equation*}\n",
    "       U_{\\mathrm{OR}} = |00 \\rangle \\langle 11| \\otimes X+   |01 \\rangle \\langle 10| \\otimes X  + |1 0 \\rangle \\langle 01 | \\otimes X + |1 1 \\rangle \\langle 0 0| \\otimes I\n",
    "\\end{equation*}\n",
    "\n",
    "The output state would be $|\\neg x, \\neg y, x \\vee y \\rangle$ where $|\\neg 0\\rangle = |1\\rangle $ and $|\\neg 1\\rangle = |0\\rangle$. \n"
   ]
  },
  {
   "cell_type": "markdown",
   "metadata": {
    "slideshow": {
     "slide_type": "slide"
    }
   },
   "source": [
    "### 用 Hadamard Gate 和 CNOT Gate 制备著名的态\n",
    "   \n",
    " \n",
    "- Apply Hadamard gate to the first qubit of  $| 0 0\\rangle $ state to get $\\frac{1}{\\sqrt{2}}(|0\\rangle + |1\\rangle)|0\\rangle $.\n",
    "- Apply CNOT gate to the previously produced states to get entangled state $\\frac{1}{\\sqrt{2}}(|00\\rangle + |11\\rangle)$.\n",
    "- Start from different states, the Hadamard + CNOT gates can produce 4 different entangled states (Bell states)\n",
    "\n",
    "\\begin{align}\n",
    "{\\rm CNOT\\ H} &| 0 0\\rangle \\rightarrow \\frac{1}{\\sqrt{2}}(|00\\rangle + |11\\rangle) \\\\\n",
    "{\\rm CNOT\\ H} &| 0 1\\rangle \\rightarrow \\frac{1}{\\sqrt{2}}(|01\\rangle + |10\\rangle) \\\\\n",
    "{\\rm CNOT\\ H} &| 1 0\\rangle \\rightarrow \\frac{1}{\\sqrt{2}}(|00\\rangle - |11\\rangle) \\\\ \n",
    "{\\rm CNOT\\ H} &| 1 1\\rangle \\rightarrow \\frac{1}{\\sqrt{2}}(|01\\rangle - |10\\rangle) \n",
    "\\end{align}\n"
   ]
  },
  {
   "cell_type": "markdown",
   "metadata": {
    "slideshow": {
     "slide_type": "slide"
    }
   },
   "source": [
    "### 量子门荟萃\n",
    "\n",
    "\n",
    "- Pauli gates: $I = \\begin{bmatrix} 1 & 0 \\\\ 0 & 1 \\end{bmatrix}\\; X=\\begin{bmatrix} 0 & 1 \\\\ 1 & 0 \\end{bmatrix} \\; Y=\\begin{bmatrix} 0 & -i \\\\ i & 0 \\end{bmatrix} \\; Z=\\begin{bmatrix} 1 & 0 \\\\ 0 & -1 \\end{bmatrix} $.\n",
    "- Hadamard gates: $H = \\frac{1}{\\sqrt{2}} \\begin{bmatrix} 1 & 1 \\\\ 1 & -1 \\end{bmatrix}$.\n",
    "- Phase gates: $\\mathrm{PHASE}(\\theta)= \\begin{bmatrix} 1 & 0 \\\\ 0 & e^{i\\theta} \\end{bmatrix}$， $S=\\mathrm{PHASE}(\\pi/2), T = \\mathrm{PHASE}(\\pi/4)$\n",
    "\n",
    "- Controlled phase gates, \n",
    "    - $\\mathrm{CPHASE00}(\\theta) = \\mathrm{diag}(e^{i\\theta}, 1, 1, 1) $\n",
    "    - $\\mathrm{CPHASE01}(\\theta) = \\mathrm{diag}(1, e^{i\\theta}, 1, 1) $\n",
    "    - $\\mathrm{CPHASE10}(\\theta) = \\mathrm{diag}(1, 1, e^{i\\theta}, 1) $\n",
    "    - $\\mathrm{CPHASE}(\\theta) = \\mathrm{diag}(1, 1, 1, e^{i\\theta}) $"
   ]
  },
  {
   "cell_type": "markdown",
   "metadata": {
    "slideshow": {
     "slide_type": "slide"
    }
   },
   "source": [
    "笛卡尔旋转门 Cartesian rotation gates:\n",
    " \n",
    "\\begin{eqnarray*} \n",
    "\\mathrm{RX}(\\theta) &=& \\begin{bmatrix} \\cos\\frac{\\theta}{2} & -i \\sin \\frac{\\theta}{2} \\\\ -i \\sin \\frac{\\theta}{2} & \\cos\\frac{\\theta}{2} \\\\ \\end{bmatrix} \\\\ \n",
    "\\mathrm{RY}(\\theta) &=& \\begin{bmatrix} \\cos\\frac{\\theta}{2} & -\\sin \\frac{\\theta}{2} \\\\ \\sin \\frac{\\theta}{2} & \\cos\\frac{\\theta}{2} \\\\ \\end{bmatrix} \\\\\n",
    " \\mathrm{RZ}(\\theta) &=& \\begin{bmatrix} e^{-i\\frac{\\theta}{2}} & 0\\\\ 0 & e^{i\\frac{\\theta}{2}} \\\\ \\end{bmatrix} \n",
    "\\end{eqnarray*}\n"
   ]
  },
  {
   "cell_type": "markdown",
   "metadata": {
    "slideshow": {
     "slide_type": "slide"
    }
   },
   "source": [
    "Controlled NOT/CCNOT gates, CCNOT 又称 Toffoli gate,\n",
    " \n",
    "\\begin{eqnarray*} \n",
    "\\mathrm{CNOT} & = & \\begin{bmatrix} 1 & 0 & 0 & 0 \\\\ 0 & 1 & 0 & 0 \\\\ 0 & 0 & 0 & 1 \\\\ 0 & 0 & 1 & 0 \\end{bmatrix} \\\\\n",
    "\\mathrm{CCNOT} & = & \\begin{bmatrix} 1 & 0 & 0 & 0 &0 & 0 & 0 & 0 \\\\ 0 & 1 & 0 & 0 & 0 &0 & 0 & 0 \\\\ 0 & 0 & 1 & 0 & 0 &0 & 0 & 0 \\\\ 0 & 0 & 0 & 1 & 0 &0 & 0 & 0 \\\\ 0 & 0 & 0 & 0 & 1 &0 & 0 & 0 \\\\ 0 & 0 & 0 & 0 & 0 &1 & 0 & 0 \\\\ 0 & 0 & 0 & 0 & 0 &0 & 0 & 1 \\\\ 0 & 0 & 0 & 0 & 0 &0 & 1 & 0 \\end{bmatrix}\n",
    "\\end{eqnarray*}\n"
   ]
  },
  {
   "cell_type": "markdown",
   "metadata": {
    "slideshow": {
     "slide_type": "slide"
    }
   },
   "source": [
    "Swap gates:\n",
    "\\begin{eqnarray} \\mathrm{PSWAP}(\\theta) &=& \\begin{bmatrix} 1 & 0 & 0 & 0 \\\\ 0 & 0 & e^{i\\theta} & 0 \\\\ 0 & e^{i\\theta} & 0 & 0\\\\ 0 & 0 & 0 & 1 \\end{bmatrix} \\\\ \\mathrm{SWAP} &=& \\mathrm{PSWAP}(0) \\\\ \\mathrm{ISWAP} &=& \\mathrm{PSWAP}(\\pi/2) \\\\ \\mathrm{CSWAP} &=& \\begin{bmatrix} 1 & 0 & 0 & 0 &0 & 0 & 0 & 0 \\\\ 0 & 1 & 0 & 0 & 0 &0 & 0 & 0 \\\\ 0 & 0 & 1 & 0 & 0 &0 & 0 & 0 \\\\ 0 & 0 & 0 & 1 & 0 &0 & 0 & 0 \\\\ 0 & 0 & 0 & 0 & 1 &0 & 0 & 0 \\\\ 0 & 0 & 0 & 0 & 0 &0 & 1 & 0 \\\\ 0 & 0 & 0 & 0 & 0 &1 & 0 & 0 \\\\ 0 & 0 & 0 & 0 & 0 &0 & 0 & 1 \\end{bmatrix} \\end{eqnarray}"
   ]
  },
  {
   "cell_type": "markdown",
   "metadata": {
    "slideshow": {
     "slide_type": "slide"
    }
   },
   "source": [
    "## 量子不可克隆定理 No-Cloning theorem\n",
    "\n",
    "\n",
    "**An unknown quantum system can not be cloned by unitary transformation.**\n",
    "\n",
    "**Proof:**  suppose there would exist $U$ that makes a clone of a quantum system, namely\n",
    "\n",
    "   \\begin{eqnarray*}\n",
    "       U |\\phi 0\\rangle &\\rightarrow&  |\\phi \\phi \\rangle  \\\\\n",
    "       U |\\varphi 0 \\rangle &\\rightarrow&  |\\varphi \\varphi \\rangle \n",
    "\\end{eqnarray*}  \n",
    "\n",
    "for any state $\\phi$ and $\\varphi$. Let $\\phi$ and $\\varphi$ are linearly independent, and $| \\Psi \\rangle = \\frac{1}{\\sqrt{2}}(|\\phi\\rangle + |\\varphi \\rangle)$. \n",
    "\n",
    "The following conclusions can not co-exist, \n",
    "\n",
    "\\begin{eqnarray*}\n",
    "           U|\\Psi 0\\rangle & = & \\frac{1}{\\sqrt{2}}(U|\\phi 0\\rangle + U|\\varphi 0\\rangle) =  \\frac{1}{\\sqrt{2}}(|\\phi\\phi\\rangle + |\\varphi \\varphi\\rangle)   \\\\\n",
    "           U|\\Psi 0\\rangle & = &  |\\Psi \\Psi \\rangle =  \\frac{1}{2}(|\\phi\\phi\\rangle + |\\varphi \\varphi\\rangle + |\\phi\\varphi\\rangle + |\\varphi\\phi\\rangle)  \n",
    "\\end{eqnarray*}  \n"
   ]
  },
  {
   "cell_type": "markdown",
   "metadata": {
    "slideshow": {
     "slide_type": "slide"
    }
   },
   "source": [
    "### 量子门的完备性\n",
    "\n",
    "**Any unitary operation  can be approximated to arbitrary accuracy using Hadamard, phase, CNOT and $\\pi/8$ gates**\n",
    "\n",
    "- An arbitrary unitary operator can be expressed exactly as a tensor product of unitary operators that each acts non-trivially only on a subspace spanned by 2 computational basis states.\n",
    "- An arbitrary unitary operator may be expressed exactly using single qubit and CNOT gates (universal).\n",
    "- Single qubit operation may be approximated to arbitrary accuracy using the Hadamard, phase and $\\pi/8$ gates."
   ]
  },
  {
   "cell_type": "markdown",
   "metadata": {
    "slideshow": {
     "slide_type": "slide"
    }
   },
   "source": [
    "### 测量算符\n",
    "\n",
    "A measurement operator $M_m$ is constructed such that the probability of obtaining the outcome $m$ in the state $|\\Psi\\rangle$ is $p(m)$, \n",
    "and the state after the measurement becomes $|m\\rangle$,\n",
    "\\begin{eqnarray*}\n",
    "      p(m) & = & \\langle \\Psi | M_m^+ M_m | \\Psi \\rangle \\\\\n",
    "      |m \\rangle & = & \\frac{M_m | \\Psi \\rangle }{\\sqrt{p(m)}}\n",
    "    \\end{eqnarray*}    \n"
   ]
  },
  {
   "cell_type": "markdown",
   "metadata": {
    "slideshow": {
     "slide_type": "slide"
    }
   },
   "source": [
    "**Example:** for state vector $|\\Psi \\rangle = a |0 \\rangle + b |1 \\rangle $, the measuring along $|0\\rangle$ has the measurement operator $M_0 = |0 \\rangle \\langle 0 |  =  \\begin{bmatrix} 1 & 0 \\\\ 0 & 0 \\end{bmatrix}$ such that, \n",
    "\\begin{eqnarray*}\n",
    "  p(0) & = & \\langle \\Psi | M^+_0 M_0 |\\Psi \\rangle = \\langle 0 | a^* a |0 \\rangle = |a|^2 \\\\\n",
    "  \\frac{M_0 | \\Psi \\rangle }{\\sqrt{p(0)}} & = & \\frac{a}{|a|} |0 \\rangle \n",
    "\\end{eqnarray*}  \n"
   ]
  },
  {
   "cell_type": "markdown",
   "metadata": {
    "slideshow": {
     "slide_type": "slide"
    }
   },
   "source": [
    "**Example**: for state vector $|\\Psi \\rangle = a |0 0 \\rangle + b |0 1 \\rangle + c |1 0 \\rangle  + d |1 1 \\rangle $, the measuring for the first qubit along $|0\\rangle$ and $|1\\rangle$ have, \n",
    "\n",
    "\\begin{eqnarray*}\n",
    "      M_0 & = & |0 \\rangle \\langle 0 | \\otimes I  =   \\begin{bmatrix} 1 & 0 & 0 & 0\\\\ 0 & 1 & 0 & 0 \\\\ 0 & 0 & 0 & 0 \\\\ 0 & 0 & 0 & 0\\end{bmatrix}\\;\\;, |0 0 \\rangle =  \\begin{bmatrix} 1 \\\\ 0 \\\\ 0  \\\\ 0 \\end{bmatrix} \\; \\;, |0 1 \\rangle =  \\begin{bmatrix} 0 \\\\ 1\\\\ 0  \\\\ 0 \\end{bmatrix} \\\\\n",
    "      M_1 & = & |1 \\rangle \\langle 1 | \\otimes I  \\\\\n",
    "      p(0) & = & \\langle \\Psi | M^+_0 M_0 |\\Psi \\rangle =|a|^2 + |b|^2 \\\\\n",
    "      \\frac{M_0 | \\Psi \\rangle }{\\sqrt{p(0)}} & = &  |0 \\rangle \\otimes (\\frac{a}{\\sqrt{|a|^2 + |b|^2}} |0\\rangle + \\frac{b}{\\sqrt{|a|^2 + |b|^2}} |1\\rangle )\n",
    "    \\end{eqnarray*}  "
   ]
  },
  {
   "cell_type": "markdown",
   "metadata": {
    "slideshow": {
     "slide_type": "slide"
    }
   },
   "source": [
    "### 投影测量\n",
    "\n",
    "A projective measurement is described by an observable, **$M$, a Hermitian operator** on the state space of the system being observed. The observable has a special decomposition,\n",
    "\n",
    "\\begin{equation*}\n",
    " M = \\sum_m m P_m \n",
    "\\end{equation*}\n",
    "where $P_m$ is the projector onto the eigenspace of M with eigenvalue m. Upon measuring $|\\Psi \\rangle$, the probability of getting $|m\\rangle$ is given by \n",
    "\\begin{equation*}\n",
    " p(m) = \\langle \\Psi | P_m | \\Psi \\rangle \n",
    "\\end{equation*}\n",
    "the state after the measurement is,\n",
    "\\begin{equation*}\n",
    " \\frac{P_m | \\Psi \\rangle }{\\sqrt{p(m)}}\n",
    "\\end{equation*}\n"
   ]
  },
  {
   "cell_type": "markdown",
   "metadata": {
    "slideshow": {
     "slide_type": "slide"
    }
   },
   "source": [
    "The expectation of one observable M is easy to compute since\n",
    "\n",
    "\\begin{equation*}\n",
    "      \\langle M \\rangle  =  \\sum_m p(m) \n",
    "       =  \\sum_m \\langle \\Psi | P_m |\\Psi \\rangle \n",
    "       =  \\langle \\Psi | M |\\Psi \\rangle\n",
    "\\end{equation*}  \n",
    "\n",
    "Standard deviation is $\\langle M^2 \\rangle - \\langle M \\rangle^2$.\n",
    "\n",
    "Suppose we have state $|0\\rangle$ and we measure observable X, what is the expectation value of X? ( Exercise 2.59 from M.A. Nielsen and I.L. Chuang's book)"
   ]
  },
  {
   "cell_type": "markdown",
   "metadata": {
    "slideshow": {
     "slide_type": "fragment"
    }
   },
   "source": [
    "**Solution:**\n",
    "\\begin{equation*}\n",
    " \\langle 0 | X | 0\\rangle = \\begin{bmatrix} 1 & 0 \\end{bmatrix} \\begin{bmatrix} 0 & 1 \\\\ 1 & 0 \\end{bmatrix} \\begin{bmatrix} 1 \\\\ 0 \\end{bmatrix} = 0\n",
    "\\end{equation*}"
   ]
  },
  {
   "cell_type": "markdown",
   "metadata": {
    "slideshow": {
     "slide_type": "slide"
    }
   },
   "source": [
    "## 另一种测量 POVM: Positive Operator-Valued Measure\n",
    "\n",
    "General quantum measurements compute \n",
    "\n",
    "1. the probability of some measurement outcomes}, \n",
    "2. the post-measurement state.\n",
    "\n",
    "In an experiment where the system is measured once to get the final conclusion, only the probability is  required,\n",
    "\n",
    "\\begin{equation*}\n",
    " p(m) = \\langle \\Psi | M_m^+ M_m | \\Psi \\rangle \n",
    "\\end{equation*}\n",
    "\n",
    "- One can define $E_m \\equiv  M_m^+ M_m$ where $E_m$ is a positive operator such that $\\sum_m E_m = I$. \n",
    "- The complete set of $\\{E_m\\}$ is called one POVM."
   ]
  },
  {
   "cell_type": "markdown",
   "metadata": {
    "slideshow": {
     "slide_type": "slide"
    }
   },
   "source": [
    "### Pauli Measurements (from Microsoft Quantum Computing Doc)\n",
    "\n",
    "It is common to see \"measuring Pauli operators\" such as X, Y, Z or $X \\otimes X$, $X \\otimes Y$, $Z \\otimes Z$ in quantum simulations since the Hamiltonian can be \n",
    "decomposed into Pauli matrices.\n",
    "\n",
    "- Suppose we have n qubit quantum system, measuring one qubit immediately collapse $2^n$ dimensional Hilbert space to one of its two half-spaces. \n",
    "- \"Measuring Z\" is entirely equivalent to performing a computational basis measurement.\n",
    "- Then any 2x2 matrix that is a unitary transformation of Z is also a valid measurement, e.g. $A = U^{\\dagger} Z U$.\n",
    "\n"
   ]
  },
  {
   "cell_type": "markdown",
   "metadata": {
    "slideshow": {
     "slide_type": "slide"
    }
   },
   "source": [
    "**Pauli Measurements**\n",
    "\n",
    "\n",
    "- \"Measuring Z\" is entirely equivalent to performing a computational basis measurement.\n",
    "- \"Measuring X\" is equivalent to applying H to state vector and then measuring in the computational basis.\n",
    "- \"Measuring Y\" is equivalent to applying $H S^{\\dagger}$ to state vector and then measuring in the computational basis.\n",
    "\n",
    "where $S = \\begin{bmatrix} 1 & 0 \\\\ 0 & i \\end{bmatrix}$ is the phase gate and one can verify that,\n",
    "\\begin{eqnarray*}\n",
    " X & = & H^{\\dagger} Z H \\\\\n",
    " Y & = & SH^{\\dagger} Z H S^{\\dagger} \n",
    "\\end{eqnarray*}\n"
   ]
  },
  {
   "cell_type": "markdown",
   "metadata": {
    "slideshow": {
     "slide_type": "slide"
    }
   },
   "source": [
    "\\begin{equation*}\n",
    "Z \\otimes Z = \\begin{bmatrix} 1 & 0 & 0 & 0 \\\\ 0 & -1 & 0 & 0 \\\\ 0 & 0 & -1 & 0 \\\\ 0 & 0 & 0 & 1 \\end{bmatrix}\n",
    "\\end{equation*}\n",
    "\n",
    "\n",
    "- Notice that $Z\\otimes Z$ forms a matrix composed of two spaces consisting of +1 and -1 eigenvalues.\n",
    "- While $Z \\otimes I$ also divide the space into +1 half eigenspace and -1 half eigenspace.\n",
    "\n",
    "\n",
    "\\begin{equation*}\n",
    "Z \\otimes Z  \\neq Z \\otimes I \\; then \\; I \\otimes Z\n",
    "\\end{equation*}\n",
    "\n",
    "\n",
    "- $Z\\otimes Z$ or $X \\otimes X$ measures correlations between two qubits\n",
    "- $Z \\otimes I$ measures information locally stored in one single qubit.\n",
    "- Even $X \\otimes Y \\otimes Z \\otimes I$ has only 2 eigenvalues +1 and -1, and both eigenspace consist half space of the entire vector space. \n",
    "- Such multiple qubits measurement is useful to extract information stored non-locally in all qubits.\n"
   ]
  },
  {
   "cell_type": "markdown",
   "metadata": {
    "slideshow": {
     "slide_type": "slide"
    }
   },
   "source": [
    "## CHSH/Bell 不等式 （inequality）\n",
    "\n",
    "\n",
    " In 1969 John Clauser, Michael Horne, Abner Shimony, and Richard Holt derived the following CHSH inequality $|C|\\le2$. Suppose Charlie prepares 2 particles and send one to Alice, one to Bob. Alice perform 2 different measurements Q, R, Bod perfom S, T at the same time with Alice (causally disconnected), after many measurements, Alice and Bob come together to check expectations of the following observables, classically\n",
    "\n",
    "<img src=\"images/bell_classical.jpeg\"></img>\n",
    "\n",
    "\n",
    "经典情况，检验隐变量假设：\n",
    "\n",
    "\\begin{eqnarray*}\n",
    "      C &=& \\langle Q S \\rangle  - \\langle Q T \\rangle + \\langle R S \\rangle + \\langle R T \\rangle\\\\\n",
    "          &=& \\sum_{\\lambda} P(\\lambda) \\left[ Q(\\lambda) (\\color{blue}{S(\\lambda) - T(\\lambda)}) + R(\\lambda) (\\color{blue}{S(\\lambda) + T(\\lambda)}) \\right] \\le 2\n",
    "\\end{eqnarray*}    \n"
   ]
  },
  {
   "cell_type": "markdown",
   "metadata": {
    "slideshow": {
     "slide_type": "slide"
    }
   },
   "source": [
    "**Quantum mechanics break CHSH/Bell inequality**\n",
    " \n",
    "<img src=\"images/bell_quantum.jpeg\"></img>\n",
    "\n",
    "\n",
    "where $W = \\frac{-1}{\\sqrt{2}}(Z + X)$ and $V = \\frac{1}{\\sqrt{2}}(Z - X)$. The $Z, X, W, V$ are 4 observables used in projective measurement method,\n",
    "    \\begin{eqnarray*}\n",
    "      C &=& \\langle Q S \\rangle - \\langle Q T \\rangle  + \\langle R S \\rangle + \\langle R T \\rangle \\\\\n",
    "         &=&  \\langle Z W \\rangle - \\color{red}{\\langle Z V\\rangle}  + \\langle X W \\rangle + \\langle X V \\rangle \\\\\n",
    "         &=& \\frac{1}{\\sqrt{2}} -  \\color{red}{(-\\frac{1}{\\sqrt{2}})} + \\frac{1}{\\sqrt{2}} + \\frac{1}{\\sqrt{2}}  \\\\\n",
    "         &=& 2\\sqrt{2} > 2\n",
    "    \\end{eqnarray*}    \n"
   ]
  },
  {
   "cell_type": "markdown",
   "metadata": {
    "slideshow": {
     "slide_type": "slide"
    }
   },
   "source": [
    "Let's verify $\\langle Z V\\rangle = -\\frac{1}{\\sqrt{2}}$\n",
    "\n",
    "Using projective measurement method,\n",
    "    \\begin{eqnarray*}\n",
    "    \\langle \\Psi | &=& \\frac{  \\langle 01 | -  \\langle 10 |}{\\sqrt{2}} =  \\frac{1}{\\sqrt{2}} \\begin{bmatrix} 0 & 1 & -1 & 0 \\end{bmatrix} \\\\\n",
    "    ZV & \\equiv & Z\\otimes V = Z \\otimes \\frac{ Z - X}{\\sqrt{2}} \\\\\n",
    "          & =  & \\begin{bmatrix} 1 & 0 \\\\0 & -1 \\end{bmatrix} \\otimes  \\frac{1}{\\sqrt{2}} \\begin{bmatrix} 1 & -1 \\\\-1 & -1 \\end{bmatrix} \\\\\n",
    "    \\color{red}{\\langle Z V\\rangle} & = &  \\langle \\Psi | Z V | \\Psi \\rangle \\\\\n",
    "    & = & \\frac{1}{2\\sqrt{2}} \\begin{bmatrix} 0 & 1 & -1 & 0 \\end{bmatrix} \\begin{bmatrix} 1 & -1 & 0 & 0 \\\\-1 & -1 & 0 &  0 \\\\ 0 & 0 & -1 & -1 \\\\ 0 & 0 & 1 & 1 \\end{bmatrix} \\begin{bmatrix} 0 \\\\ 1 \\\\ -1 \\\\ 0 \\end{bmatrix} \\\\\n",
    "    & = & -\\frac{1}{\\sqrt{2}}\n",
    "    \\end{eqnarray*}    "
   ]
  },
  {
   "cell_type": "markdown",
   "metadata": {
    "slideshow": {
     "slide_type": "slide"
    }
   },
   "source": [
    "### 量子计算机 Quantum Computer\n",
    "\n",
    "\n",
    "- A set of registers (the Hilbert space)\n",
    "- Unitary matrices that operates on the registers\n",
    "- Measurements to extract the information\n"
   ]
  },
  {
   "cell_type": "markdown",
   "metadata": {
    "slideshow": {
     "slide_type": "slide"
    }
   },
   "source": [
    "### DiVincenzo Criteria: \n",
    "\n",
    "DiVincenzo proposed **five criteria** that any physical system must satisfy to be a viable quantum computer.\n",
    "\n",
    "- A scalable physical system with well-characterized qubits.\n",
    "- The ability to initialize the state of the qubits to a simple fiducial state, such as $|00...0\\rangle$\n",
    "- Long decoherence times, much longer than the gate operation time.\n",
    "- A universal set of quantum gates.\n",
    "- A qubit-specific measurement capability."
   ]
  },
  {
   "cell_type": "markdown",
   "metadata": {
    "slideshow": {
     "slide_type": "slide"
    }
   },
   "source": [
    "Different realizations\n",
    "\n",
    "\n",
    "- Optical cavity QED with atoms\n",
    "- Ion traps\n",
    "- Liquid-state/solid-state Nuclear Magnetic Resonance (NMR)/Electron Nuclear Double Resonance (ENDOR)\n",
    "- Neutral atoms in optical lattice\n",
    "- Linear optics\n",
    "- Quantum dots (spin-based, charge-based)\n",
    "- Josephson junctions (charge, flux and current-biased qubits)\n",
    "- Electrons on liquid helium surface\n"
   ]
  },
  {
   "cell_type": "markdown",
   "metadata": {
    "slideshow": {
     "slide_type": "slide"
    }
   },
   "source": [
    "## IBM quantum computer (IBM 云量子计算机）\n",
    "\n",
    "\n",
    "- Josephson Junctions （硬件：超导约瑟夫结+微波控制、读出）\n",
    "- 可视化网页接口： IBMQ-Experience: cloud quantum computer using composer\n",
    "- Python编程接口：QISKit: Quantum Information Software Kit in python"
   ]
  },
  {
   "cell_type": "markdown",
   "metadata": {
    "slideshow": {
     "slide_type": "slide"
    }
   },
   "source": [
    "可视化网页接口：https://quantum-computing.ibm.com/composer/files/new\n",
    "\n",
    "<img src=\"images/IBM_Quantum.png\"></img>"
   ]
  },
  {
   "cell_type": "markdown",
   "metadata": {
    "slideshow": {
     "slide_type": "slide"
    }
   },
   "source": [
    "## 退激发 T1\n",
    "\n",
    "Energy relaxation and T1: time constant that describes excited state $|1\\rangle$ decays towards ground state $|0\\rangle$.\n",
    "\n",
    "<img src=\"images/relaxation.png\"></img>\n",
    "\n",
    "- quantum computer simulator: with probability 1 on $|00010\\rangle$ state.\n",
    "- real quantum computer (IBM 5 qubits): P( $|00010\\rangle$) = 0.86, P( $|00000\\rangle$) = 0.14"
   ]
  },
  {
   "cell_type": "markdown",
   "metadata": {
    "slideshow": {
     "slide_type": "slide"
    }
   },
   "source": [
    "### 退相干 T2 （Decoherence）\n",
    "\n",
    "Dephasing and T2: describe the phase decay in a super-position system.\n",
    "\n",
    "\n",
    "<img src=\"images/dephasing.png\"></img>\n",
    "\n",
    "\n",
    "- HYH$|0\\rangle = - i |1 \\rangle $ \n",
    "- quantum computer simulator: with probability 1 on $|00000\\rangle$ state\n",
    "- IBM 5 qubits quantum computer: P( $|00010\\rangle$) = 0.074, P( $|00000\\rangle$) = 0.926\n"
   ]
  },
  {
   "cell_type": "markdown",
   "metadata": {
    "slideshow": {
     "slide_type": "slide"
    }
   },
   "source": [
    "# 用 Python 写一个玩具量子计算机\n",
    "\n",
    "## 量子位 Qubit 和 量子门 Gate\n",
    "\n",
    "原则上可以直接安装 qiskit，尝试 IBM 的云量子计算机 Python 接口及模拟器，\n",
    "\n",
    "```bash\n",
    "pip install qiskit\n",
    "```\n",
    "或者\n",
    "```python\n",
    "from sympy.physics import quantum\n",
    "```\n",
    "\n",
    "这里我们按照前面讲过的内容自己实现一个玩具级别的量子计算机模拟器。实现目标：\n",
    "\n",
    "- 单量子位 (Qubit)，多Qubit，叠加态 (superposition state), 纠缠态（entanglement) 实现\n",
    "- 几个常见的量子门 (Gate) 及其作用\n",
    "- 单Qubit操作，多Qubit操作，态的直积，矩阵的直积"
   ]
  },
  {
   "cell_type": "code",
   "execution_count": 4,
   "metadata": {
    "scrolled": true,
    "slideshow": {
     "slide_type": "slide"
    }
   },
   "outputs": [
    {
     "data": {
      "text/markdown": [
       "$|00100\\rangle$"
      ],
      "text/plain": [
       "<IPython.core.display.Markdown object>"
      ]
     },
     "execution_count": 4,
     "metadata": {},
     "output_type": "execute_result"
    }
   ],
   "source": [
    "## 需要使用功能1：调用 Markdown 直接输出数学公式\n",
    "\n",
    "from IPython.display import Markdown as md\n",
    "md(r'$|00100\\rangle$')"
   ]
  },
  {
   "cell_type": "code",
   "execution_count": 5,
   "metadata": {
    "slideshow": {
     "slide_type": "slide"
    }
   },
   "outputs": [
    {
     "name": "stdout",
     "output_type": "stream",
     "text": [
      "Help on built-in function bin in module builtins:\n",
      "\n",
      "bin(number, /)\n",
      "    Return the binary representation of an integer.\n",
      "    \n",
      "    >>> bin(2796202)\n",
      "    '0b1010101010101010101010'\n",
      "\n"
     ]
    }
   ],
   "source": [
    "## 需要使用功能2：调用 python 自带函数 bin，将整数转化为 2 进制表示\n",
    "\n",
    "help(bin)"
   ]
  },
  {
   "cell_type": "code",
   "execution_count": 6,
   "metadata": {
    "slideshow": {
     "slide_type": "fragment"
    }
   },
   "outputs": [
    {
     "data": {
      "text/plain": [
       "'0b111'"
      ]
     },
     "execution_count": 6,
     "metadata": {},
     "output_type": "execute_result"
    }
   ],
   "source": [
    "bin(7)"
   ]
  },
  {
   "cell_type": "code",
   "execution_count": 7,
   "metadata": {
    "slideshow": {
     "slide_type": "slide"
    }
   },
   "outputs": [
    {
     "data": {
      "text/plain": [
       "'000'"
      ]
     },
     "execution_count": 7,
     "metadata": {},
     "output_type": "execute_result"
    }
   ],
   "source": [
    "# python 中 char * n 或 list * n 操作\n",
    "\n",
    "'0'*3"
   ]
  },
  {
   "cell_type": "code",
   "execution_count": 8,
   "metadata": {
    "slideshow": {
     "slide_type": "slide"
    }
   },
   "outputs": [],
   "source": [
    "### 单个量子比特的实现\n",
    "\n",
    "import numpy as np\n",
    "from scipy.linalg import kron\n",
    "from IPython.display import Markdown as md\n",
    "# 实现单个 Qubit\n",
    "spin_up = np.array([[1, 0]]).T\n",
    "spin_down = np.array([[0, 1]]).T\n",
    "# bit[0] = |0>, bit[1] = |1>\n",
    "bit = [spin_up, spin_down]"
   ]
  },
  {
   "cell_type": "code",
   "execution_count": 9,
   "metadata": {
    "slideshow": {
     "slide_type": "slide"
    }
   },
   "outputs": [],
   "source": [
    "# 给定 Qubits 序列，返回它的 one hot 表示，\n",
    "def basis(string='00010'):\n",
    "    '''string: the qubits sequence'''\n",
    "    res = np.array([[1]])\n",
    "    # 从最后一位开始往前数，做直积\n",
    "    for idx in string[::-1]:\n",
    "        res = kron(bit[int(idx)], res)    \n",
    "    return np.matrix(res)"
   ]
  },
  {
   "cell_type": "code",
   "execution_count": 10,
   "metadata": {
    "slideshow": {
     "slide_type": "slide"
    }
   },
   "outputs": [
    {
     "data": {
      "text/plain": [
       "matrix([[0],\n",
       "        [0],\n",
       "        [1],\n",
       "        [0]])"
      ]
     },
     "execution_count": 10,
     "metadata": {},
     "output_type": "execute_result"
    }
   ],
   "source": [
    "# 构造 |10> 的 one hot 表示，\n",
    "# 可以尝试 |00>, |01>, |10>, |11>\n",
    "basis('10')"
   ]
  },
  {
   "cell_type": "code",
   "execution_count": 11,
   "metadata": {
    "slideshow": {
     "slide_type": "fragment"
    }
   },
   "outputs": [
    {
     "data": {
      "text/plain": [
       "array([0, 0, 1, 0])"
      ]
     },
     "execution_count": 11,
     "metadata": {},
     "output_type": "execute_result"
    }
   ],
   "source": [
    "# basis() 返回了 np.matrix 数据类型，它的 .A1 属性将矩阵转化为 1 维 numpy 数组。\n",
    "basis('10').A1"
   ]
  },
  {
   "cell_type": "markdown",
   "metadata": {
    "slideshow": {
     "slide_type": "slide"
    }
   },
   "source": [
    "回忆多个 Qubit 使用了 直积 $\\otimes$ 操作，\n",
    "\n",
    "- $|00 \\rangle = \\begin{bmatrix} \\color{red}{1}\\\\ \\color{red}{0} \\end{bmatrix} \\bigotimes \\begin{bmatrix} \\color{blue}{1}\\\\ \\color{blue}{0} \\end{bmatrix} = \\begin{bmatrix} \\color{red}{1}\\times \\color{blue}{1}\\\\ \\color{red}{1}\\times \\color{blue}{0} \\\\ \\color{red}{0}\\times \\color{blue}{1} \\\\  \\color{red}{0}\\times \\color{blue}{0}\\end{bmatrix} = \\begin{bmatrix} 1\\\\ 0 \\\\ 0 \\\\ 0\\end{bmatrix}$\n",
    "\n",
    "直积通过 scipy.linalg 中的 kron() 函数实现。"
   ]
  },
  {
   "cell_type": "markdown",
   "metadata": {
    "slideshow": {
     "slide_type": "slide"
    }
   },
   "source": [
    "两个Qubit，基向量是4维，3个Qubit是8维，10个Qubit基向量是1024维，在多体量子计算中，大家一般要计算超大矩阵的基态本征值，如果用 100 个 Qubit 进行 $2^{100}$ 个态的多体量子系统计算，可远超经典计算机能够存储和处理的数据极限。自从费曼提出这个想法，大家就一直为量子计算机而疯魔。\n",
    "\n",
    "这里我们随便试一下 20 个量子比特的基向量的维数，"
   ]
  },
  {
   "cell_type": "code",
   "execution_count": 12,
   "metadata": {
    "slideshow": {
     "slide_type": "fragment"
    }
   },
   "outputs": [
    {
     "data": {
      "text/plain": [
       "1048576"
      ]
     },
     "execution_count": 12,
     "metadata": {},
     "output_type": "execute_result"
    }
   ],
   "source": [
    "len(basis('00100000001000011100'))"
   ]
  },
  {
   "cell_type": "markdown",
   "metadata": {
    "slideshow": {
     "slide_type": "fragment"
    }
   },
   "source": [
    "即原则上 20 个 Qubit 可以解 1048576 x 1048576 维哈密顿矩阵的本征值问题。\n",
    "\n",
    "如果是50 个 Qubit，那么单方向维数就是 1125899906842624 。\n",
    "\n",
    "我们可以看一看 n 个 Qubit 支撑起来的希尔伯特空间，"
   ]
  },
  {
   "cell_type": "code",
   "execution_count": 13,
   "metadata": {
    "slideshow": {
     "slide_type": "slide"
    }
   },
   "outputs": [],
   "source": [
    "def hilbert_space(nbit=5):\n",
    "    #  n 个 qubit 张开空间为 2**n 维\n",
    "    nspace = 2**nbit\n",
    "    for i in range(nspace):\n",
    "        '''bin(7) = 0b100'''\n",
    "        binary = bin(i)[2:]\n",
    "        nzeros = nbit - len(binary)\n",
    "        yield '0'*nzeros + binary "
   ]
  },
  {
   "cell_type": "markdown",
   "metadata": {
    "slideshow": {
     "slide_type": "slide"
    }
   },
   "source": [
    "这个函数使用了 python 内置 bin() 函数，将数字转化为二进制序列。希尔伯特空间维数 $2^n$ 随 Qubit 个数 n 呈指数增长，所以我们使用 yield 返回一个 generator，不保存数组，但可循环取值。举例，对于 3 个Qubit，希尔伯特空间基向量有8个，"
   ]
  },
  {
   "cell_type": "code",
   "execution_count": 14,
   "metadata": {
    "slideshow": {
     "slide_type": "fragment"
    }
   },
   "outputs": [
    {
     "name": "stdout",
     "output_type": "stream",
     "text": [
      "000,001,010,011,100,101,110,111,"
     ]
    }
   ],
   "source": [
    "for mi in hilbert_space(nbit=3):\n",
    "    print(mi, end=',')"
   ]
  },
  {
   "cell_type": "markdown",
   "metadata": {
    "slideshow": {
     "slide_type": "slide"
    }
   },
   "source": [
    "### 构造叠加态波函数\n",
    "\n",
    "波函数是各个基向量的线性叠加，系数为复数，称为振幅。\n",
    "\\begin{align}\n",
    "|\\Psi \\rangle = \\sum_i c_i |\\phi_i\\rangle\n",
    "\\end{align}\n",
    "\n",
    "如果给定系数和基向量，可以定义如下函数计算波函数，"
   ]
  },
  {
   "cell_type": "code",
   "execution_count": 15,
   "metadata": {
    "slideshow": {
     "slide_type": "fragment"
    }
   },
   "outputs": [],
   "source": [
    "def wave_func(coef=[], seqs=[]):\n",
    "    '''返回由振幅和几个Qubit序列表示的叠加态波函数，\n",
    "       sum_i coef_i |psi_i> '''\n",
    "    res = 0\n",
    "    for i, a in enumerate(coef):\n",
    "        res += a * basis(seqs[i])\n",
    "    return np.matrix(res)"
   ]
  },
  {
   "cell_type": "markdown",
   "metadata": {
    "slideshow": {
     "slide_type": "slide"
    }
   },
   "source": [
    "比如，对于 3个 Qubit 的叠加态波函数\n",
    "\n",
    "\\begin{align}\n",
    "|\\Psi\\rangle = {i \\over \\sqrt{3} } |000\\rangle + \\sqrt{2 \\over 3} |100\\rangle\n",
    "\\end{align}"
   ]
  },
  {
   "cell_type": "code",
   "execution_count": 16,
   "metadata": {
    "slideshow": {
     "slide_type": "slide"
    }
   },
   "outputs": [
    {
     "data": {
      "text/plain": [
       "matrix([[0.        +0.57735027j],\n",
       "        [0.        +0.j        ],\n",
       "        [0.        +0.j        ],\n",
       "        [0.        +0.j        ],\n",
       "        [0.81649658+0.j        ],\n",
       "        [0.        +0.j        ],\n",
       "        [0.        +0.j        ],\n",
       "        [0.        +0.j        ]])"
      ]
     },
     "execution_count": 16,
     "metadata": {},
     "output_type": "execute_result"
    }
   ],
   "source": [
    "coef = [1j/np.sqrt(3), np.sqrt(2/3)]\n",
    "seqs = ['000', '100']\n",
    "s = wave_func(coef, seqs)\n",
    "s"
   ]
  },
  {
   "cell_type": "markdown",
   "metadata": {
    "slideshow": {
     "slide_type": "slide"
    }
   },
   "source": [
    "输出 $s=|\\Psi \\rangle$ 是波函数在计算机内部的存储格式，其中 1j 是复数中虚数的基本单位 i.\n",
    "\n",
    "可以简单的验证， $ \\langle s| s\\rangle = 1 $"
   ]
  },
  {
   "cell_type": "code",
   "execution_count": 17,
   "metadata": {
    "slideshow": {
     "slide_type": "fragment"
    }
   },
   "outputs": [
    {
     "data": {
      "text/plain": [
       "matrix([[1.+0.j]])"
      ]
     },
     "execution_count": 17,
     "metadata": {},
     "output_type": "execute_result"
    }
   ],
   "source": [
    "s.H * s"
   ]
  },
  {
   "cell_type": "markdown",
   "metadata": {
    "slideshow": {
     "slide_type": "fragment"
    }
   },
   "source": [
    "其中 s.H 计算了 $|s \\rangle$ 的转置共轭 $\\langle s |$ ，也称$|s \\rangle$的厄密特。\n",
    "s 为 numpy.matrix 数据类型, 内置了 H 属性。"
   ]
  },
  {
   "cell_type": "markdown",
   "metadata": {
    "slideshow": {
     "slide_type": "slide"
    }
   },
   "source": [
    "### 波函数的展开形式\n",
    "\n",
    "对于一个经过多次操作，已经看不出原形的波函数，可以将其朝各个基向量上投影，找出振幅，并分解。如果某个基为 $|\\phi_i \\rangle$ , 则 $|\\Psi \\rangle$ 朝这个方向投影得到的振幅系数为 $c_i = \\langle \\Psi  | \\phi_i \\rangle$ 。我们来定义一个投影函数，"
   ]
  },
  {
   "cell_type": "code",
   "execution_count": 18,
   "metadata": {
    "slideshow": {
     "slide_type": "fragment"
    }
   },
   "outputs": [],
   "source": [
    "def project(wave_func, direction):\n",
    "    '''<Psi | phi_i> to get the amplitude '''\n",
    "    return wave_func.H * direction"
   ]
  },
  {
   "cell_type": "markdown",
   "metadata": {
    "slideshow": {
     "slide_type": "slide"
    }
   },
   "source": [
    "通过将波函数 $|\\Psi \\rangle$ 朝各个基向量投影，可以写出人类好识别的形式，\n",
    "\n",
    "下面定义一个函数，\n",
    "decompose(wave_func) 将波函数分解，输出振幅序列和以Qubits序列表示的基向量列表。"
   ]
  },
  {
   "cell_type": "code",
   "execution_count": 19,
   "metadata": {
    "slideshow": {
     "slide_type": "slide"
    }
   },
   "outputs": [],
   "source": [
    "def decompose(wave_func):\n",
    "    '''将叠加态波函数分解'''\n",
    "    nbit = int(np.log2(len(wave_func)))\n",
    "    amplitudes = []\n",
    "    direct_str = []\n",
    "    for seq in hilbert_space(nbit):\n",
    "        direct = basis(seq)\n",
    "        amp = project(wave_func, direct).A1[0]\n",
    "        if np.linalg.norm(amp) != 0:\n",
    "            amplitudes.append(amp)\n",
    "            direct_str.append(seq)\n",
    "    return amplitudes, direct_str"
   ]
  },
  {
   "cell_type": "markdown",
   "metadata": {
    "slideshow": {
     "slide_type": "slide"
    }
   },
   "source": [
    "使用 jupyter notebook 的 Markdown 函数，可以输出漂亮的数学符号格式，"
   ]
  },
  {
   "cell_type": "code",
   "execution_count": 20,
   "metadata": {
    "slideshow": {
     "slide_type": "fragment"
    }
   },
   "outputs": [],
   "source": [
    "def print_wf(wf):\n",
    "    # 先将波函数分解成振幅序列与 Qubit序列，再用 latex 公式表示\n",
    "    coef, seqs = decompose(wf)\n",
    "    latex = \"\"\n",
    "    for i, seq in enumerate(seqs):\n",
    "        latex += r\"%s$|%s\\rangle$\"%(coef[i], seq)\n",
    "        if i != len(seqs) - 1:\n",
    "            latex += \"+\"\n",
    "    return md(latex)"
   ]
  },
  {
   "cell_type": "code",
   "execution_count": 21,
   "metadata": {
    "scrolled": true,
    "slideshow": {
     "slide_type": "fragment"
    }
   },
   "outputs": [
    {
     "data": {
      "text/markdown": [
       "-0.5773502691896258j$|000\\rangle$+(0.816496580927726+0j)$|100\\rangle$"
      ],
      "text/plain": [
       "<IPython.core.display.Markdown object>"
      ]
     },
     "execution_count": 21,
     "metadata": {},
     "output_type": "execute_result"
    }
   ],
   "source": [
    "print_wf(s)"
   ]
  },
  {
   "cell_type": "markdown",
   "metadata": {
    "slideshow": {
     "slide_type": "slide"
    }
   },
   "source": [
    "上面例子中的 ${i \\over \\sqrt{3} } |000\\rangle + \\sqrt{2 \\over 3} |100\\rangle = ({i \\over \\sqrt{3} } |0\\rangle + \\sqrt{2 \\over 3} |1\\rangle)\\otimes |00\\rangle$ 是叠加态但不是纠缠态。所有纠缠态都不能写成直积形式。再举个非纠缠态的例子，\n",
    "\n",
    "$|\\psi\\rangle = {1 \\over 2} (|00\\rangle + |01\\rangle + |10\\rangle + |11\\rangle)= {1 \\over 2} (|0\\rangle + |1\\rangle)\\otimes(|0\\rangle + |1\\rangle) $\n",
    "\n",
    "而下面这个态不能展开为直积形式，为纠缠态，\n",
    "\n",
    "$|\\psi\\rangle = {1 \\over \\sqrt{2}} (|01\\rangle - |10\\rangle ) $\n",
    "\n",
    "这是两个费米子的纠缠态，一个自旋向上spin up，一个自旋向下spin down，总自旋为0。但是，没有人知道哪个 spin up，哪个 spin down，系统是两种可能的叠加态。同时，只要测量知道了一个费米子 spin up, 那另一个费米子一定是 spin down。无论对一方测量的时候，另一方离得有多远。它们是纠缠在一起的，总自旋为0。这就是爱因斯坦说的鬼魅般的超距相互作用。"
   ]
  },
  {
   "cell_type": "markdown",
   "metadata": {
    "slideshow": {
     "slide_type": "slide"
    }
   },
   "source": [
    "### 量子门 Gate\n",
    "\n",
    "作用在单 Qubit 或两 Qubit 上的量子门很好构造，"
   ]
  },
  {
   "cell_type": "code",
   "execution_count": 22,
   "metadata": {
    "slideshow": {
     "slide_type": "slide"
    }
   },
   "outputs": [],
   "source": [
    "# Define the one-qubit and 2-qubit operation gates \n",
    "I = np.matrix(\"1 0; 0 1\")\n",
    "X = np.matrix(\"0 1; 1 0\")\n",
    "Y = np.matrix(\"0 -1j; 1j 0\")\n",
    "Z = np.matrix(\"1 0; 0 -1\")\n",
    "H = np.matrix(\"1 1; 1 -1\") / np.sqrt(2)\n",
    "\n",
    "CNOT = np.matrix(\"1 0 0 0; 0 1 0 0; 0 0 0 1; 0 0 1 0\")\n",
    "\n",
    "SWAP = np.matrix(\"1 0 0 0; 0 0 1 0; 0 1 0 0; 0 0 0 1\")\n",
    "\n",
    "gates = {'I':I,  'X':X, 'Y':Y, 'Z':Z, 'H':H, 'CNOT':CNOT, 'SWAP':SWAP}"
   ]
  },
  {
   "cell_type": "markdown",
   "metadata": {
    "slideshow": {
     "slide_type": "slide"
    }
   },
   "source": [
    "***X 门翻转 Qubit***\n",
    "\n",
    "举例：计算 $X |0\\rangle$"
   ]
  },
  {
   "cell_type": "code",
   "execution_count": 23,
   "metadata": {
    "slideshow": {
     "slide_type": "fragment"
    }
   },
   "outputs": [
    {
     "data": {
      "text/markdown": [
       "1$|1\\rangle$"
      ],
      "text/plain": [
       "<IPython.core.display.Markdown object>"
      ]
     },
     "execution_count": 23,
     "metadata": {},
     "output_type": "execute_result"
    }
   ],
   "source": [
    "print_wf(X * spin_up)"
   ]
  },
  {
   "cell_type": "code",
   "execution_count": 24,
   "metadata": {
    "slideshow": {
     "slide_type": "fragment"
    }
   },
   "outputs": [
    {
     "data": {
      "text/markdown": [
       "1$|0\\rangle$"
      ],
      "text/plain": [
       "<IPython.core.display.Markdown object>"
      ]
     },
     "execution_count": 24,
     "metadata": {},
     "output_type": "execute_result"
    }
   ],
   "source": [
    "print_wf(X * spin_down)"
   ]
  },
  {
   "cell_type": "code",
   "execution_count": 25,
   "metadata": {
    "slideshow": {
     "slide_type": "fragment"
    }
   },
   "outputs": [
    {
     "data": {
      "text/markdown": [
       "0.8$|0\\rangle$+0.6$|1\\rangle$"
      ],
      "text/plain": [
       "<IPython.core.display.Markdown object>"
      ]
     },
     "execution_count": 25,
     "metadata": {},
     "output_type": "execute_result"
    }
   ],
   "source": [
    "print_wf(X * (0.6 * spin_up + 0.8 * spin_down))"
   ]
  },
  {
   "cell_type": "markdown",
   "metadata": {
    "slideshow": {
     "slide_type": "slide"
    }
   },
   "source": [
    "***Y 门带相位翻转***\n",
    "\n",
    "计算  $Y|0\\rangle $"
   ]
  },
  {
   "cell_type": "code",
   "execution_count": 26,
   "metadata": {
    "slideshow": {
     "slide_type": "fragment"
    }
   },
   "outputs": [
    {
     "data": {
      "text/markdown": [
       "-1j$|1\\rangle$"
      ],
      "text/plain": [
       "<IPython.core.display.Markdown object>"
      ]
     },
     "execution_count": 26,
     "metadata": {},
     "output_type": "execute_result"
    }
   ],
   "source": [
    "print_wf(Y*spin_up)"
   ]
  },
  {
   "cell_type": "code",
   "execution_count": 27,
   "metadata": {
    "slideshow": {
     "slide_type": "fragment"
    }
   },
   "outputs": [
    {
     "data": {
      "text/markdown": [
       "1j$|0\\rangle$"
      ],
      "text/plain": [
       "<IPython.core.display.Markdown object>"
      ]
     },
     "execution_count": 27,
     "metadata": {},
     "output_type": "execute_result"
    }
   ],
   "source": [
    "print_wf(Y * spin_down)"
   ]
  },
  {
   "cell_type": "markdown",
   "metadata": {
    "slideshow": {
     "slide_type": "slide"
    }
   },
   "source": [
    "***Z 门只引起 |1> 的相位改变***"
   ]
  },
  {
   "cell_type": "code",
   "execution_count": 28,
   "metadata": {
    "slideshow": {
     "slide_type": "fragment"
    }
   },
   "outputs": [
    {
     "data": {
      "text/markdown": [
       "1$|0\\rangle$"
      ],
      "text/plain": [
       "<IPython.core.display.Markdown object>"
      ]
     },
     "execution_count": 28,
     "metadata": {},
     "output_type": "execute_result"
    }
   ],
   "source": [
    "print_wf(Z*spin_up)"
   ]
  },
  {
   "cell_type": "code",
   "execution_count": 29,
   "metadata": {
    "slideshow": {
     "slide_type": "fragment"
    }
   },
   "outputs": [
    {
     "data": {
      "text/markdown": [
       "-1$|1\\rangle$"
      ],
      "text/plain": [
       "<IPython.core.display.Markdown object>"
      ]
     },
     "execution_count": 29,
     "metadata": {},
     "output_type": "execute_result"
    }
   ],
   "source": [
    "print_wf(Z*spin_down)"
   ]
  },
  {
   "cell_type": "markdown",
   "metadata": {
    "slideshow": {
     "slide_type": "slide"
    }
   },
   "source": [
    "***Hadamard 门生成叠加态***"
   ]
  },
  {
   "cell_type": "code",
   "execution_count": 30,
   "metadata": {
    "slideshow": {
     "slide_type": "fragment"
    }
   },
   "outputs": [
    {
     "data": {
      "text/markdown": [
       "0.7071067811865475$|0\\rangle$+0.7071067811865475$|1\\rangle$"
      ],
      "text/plain": [
       "<IPython.core.display.Markdown object>"
      ]
     },
     "execution_count": 30,
     "metadata": {},
     "output_type": "execute_result"
    }
   ],
   "source": [
    "print_wf(H * bit[0])"
   ]
  },
  {
   "cell_type": "code",
   "execution_count": 31,
   "metadata": {
    "slideshow": {
     "slide_type": "fragment"
    }
   },
   "outputs": [
    {
     "data": {
      "text/markdown": [
       "0.7071067811865475$|0\\rangle$+-0.7071067811865475$|1\\rangle$"
      ],
      "text/plain": [
       "<IPython.core.display.Markdown object>"
      ]
     },
     "execution_count": 31,
     "metadata": {},
     "output_type": "execute_result"
    }
   ],
   "source": [
    "print_wf(H * bit[1])"
   ]
  },
  {
   "cell_type": "markdown",
   "metadata": {
    "slideshow": {
     "slide_type": "fragment"
    }
   },
   "source": [
    "注意这里 bit[0] 跟 spin_up 等价，bit[1] 跟 spin_down等价，H 是 Hadamard 门, 那一长串数字为：\n",
    "\n",
    "${1 \\over \\sqrt{2}} = 0.7071067811865475 $"
   ]
  },
  {
   "cell_type": "markdown",
   "metadata": {
    "slideshow": {
     "slide_type": "slide"
    }
   },
   "source": [
    "### 对多个 Qubit 中的一位操作\n",
    "\n",
    "如果想将 $|001\\rangle$ 中的 1 翻转为 0，量子门该如何构造？此时虽然看上去是单量子比特操作，而实际上它是多量子比特操作，只不过前两个 0 上的操作为 不变操作 I 。\n",
    "\n",
    "$|001\\rangle$ 是一个 8 维列向量。所以门电路现在是 8 × 8 的矩阵，由 $I \\otimes I \\otimes X$ 构造，\n",
    "\n",
    "注意，多个 Qubit 序列中 $|001\\rangle$ 右边的表示低位，左边的表示高位。"
   ]
  },
  {
   "cell_type": "code",
   "execution_count": 32,
   "metadata": {
    "slideshow": {
     "slide_type": "slide"
    }
   },
   "outputs": [],
   "source": [
    "## 给定 Gates，返回张量积矩阵\n",
    "def krons(gates=[I, I, X]):\n",
    "    res = np.matrix([[1]])\n",
    "    for g in gates[::-1]:\n",
    "        res = kron(g, res)\n",
    "    return res"
   ]
  },
  {
   "cell_type": "code",
   "execution_count": 33,
   "metadata": {
    "slideshow": {
     "slide_type": "slide"
    }
   },
   "outputs": [
    {
     "data": {
      "text/plain": [
       "array([[0, 1, 0, 0, 0, 0, 0, 0],\n",
       "       [1, 0, 0, 0, 0, 0, 0, 0],\n",
       "       [0, 0, 0, 1, 0, 0, 0, 0],\n",
       "       [0, 0, 1, 0, 0, 0, 0, 0],\n",
       "       [0, 0, 0, 0, 0, 1, 0, 0],\n",
       "       [0, 0, 0, 0, 1, 0, 0, 0],\n",
       "       [0, 0, 0, 0, 0, 0, 0, 1],\n",
       "       [0, 0, 0, 0, 0, 0, 1, 0]])"
      ]
     },
     "execution_count": 33,
     "metadata": {},
     "output_type": "execute_result"
    }
   ],
   "source": [
    "IIX = kron(I, kron(I, X))\n",
    "IIX "
   ]
  },
  {
   "cell_type": "markdown",
   "metadata": {
    "slideshow": {
     "slide_type": "slide"
    }
   },
   "source": [
    "我们将此矩阵作用在 $|001\\rangle$ 上检查一下，"
   ]
  },
  {
   "cell_type": "code",
   "execution_count": 34,
   "metadata": {
    "slideshow": {
     "slide_type": "fragment"
    }
   },
   "outputs": [
    {
     "data": {
      "text/markdown": [
       "1$|000\\rangle$"
      ],
      "text/plain": [
       "<IPython.core.display.Markdown object>"
      ]
     },
     "execution_count": 34,
     "metadata": {},
     "output_type": "execute_result"
    }
   ],
   "source": [
    "s001 = basis('001')\n",
    "IIX = kron(I, kron(I, X))\n",
    "print_wf(IIX * s001)"
   ]
  },
  {
   "cell_type": "markdown",
   "metadata": {
    "slideshow": {
     "slide_type": "slide"
    }
   },
   "source": [
    "### 验证两 Qubit 操作的 CNOT 门\n",
    "\n",
    "\\begin{align}\n",
    "{\\rm CNOT} = \\begin{bmatrix} 1 & 0 & 0 & 0 \\\\ 0 & 1 & 0 & 0 \\\\ 0 & 0 & 0 & 1 \\\\ 0 & 0 & 1 & 0 \\end{bmatrix}\n",
    "\\end{align}"
   ]
  },
  {
   "cell_type": "code",
   "execution_count": 35,
   "metadata": {
    "slideshow": {
     "slide_type": "fragment"
    }
   },
   "outputs": [
    {
     "data": {
      "text/markdown": [
       "1$|00\\rangle$"
      ],
      "text/plain": [
       "<IPython.core.display.Markdown object>"
      ]
     },
     "execution_count": 35,
     "metadata": {},
     "output_type": "execute_result"
    }
   ],
   "source": [
    "s00 = basis('00')\n",
    "print_wf(CNOT * s00)"
   ]
  },
  {
   "cell_type": "code",
   "execution_count": 36,
   "metadata": {
    "slideshow": {
     "slide_type": "fragment"
    }
   },
   "outputs": [
    {
     "data": {
      "text/markdown": [
       "1$|01\\rangle$"
      ],
      "text/plain": [
       "<IPython.core.display.Markdown object>"
      ]
     },
     "execution_count": 36,
     "metadata": {},
     "output_type": "execute_result"
    }
   ],
   "source": [
    "s01 = basis('01')\n",
    "print_wf(CNOT * s01)"
   ]
  },
  {
   "cell_type": "code",
   "execution_count": 37,
   "metadata": {
    "slideshow": {
     "slide_type": "slide"
    }
   },
   "outputs": [
    {
     "data": {
      "text/markdown": [
       "1$|11\\rangle$"
      ],
      "text/plain": [
       "<IPython.core.display.Markdown object>"
      ]
     },
     "execution_count": 37,
     "metadata": {},
     "output_type": "execute_result"
    }
   ],
   "source": [
    "s10 = basis('10')\n",
    "print_wf(CNOT * s10)"
   ]
  },
  {
   "cell_type": "code",
   "execution_count": 38,
   "metadata": {
    "slideshow": {
     "slide_type": "fragment"
    }
   },
   "outputs": [
    {
     "data": {
      "text/markdown": [
       "1$|10\\rangle$"
      ],
      "text/plain": [
       "<IPython.core.display.Markdown object>"
      ]
     },
     "execution_count": 38,
     "metadata": {},
     "output_type": "execute_result"
    }
   ],
   "source": [
    "s11 = basis('11')\n",
    "print_wf(CNOT * s11)"
   ]
  },
  {
   "cell_type": "markdown",
   "metadata": {
    "slideshow": {
     "slide_type": "slide"
    }
   },
   "source": [
    "此处验证了 CNOT 只有作用在 $|0 1\\rangle$ 和 $|1 0 \\rangle$ 上时，第二位才为 1 。\n",
    "\n",
    "这等价于经典逻辑里的 XOR 操作，也就是单层人工神经网络搞不定，至少需要一个隐藏层才能描述的那个操作。"
   ]
  },
  {
   "cell_type": "markdown",
   "metadata": {
    "slideshow": {
     "slide_type": "slide"
    }
   },
   "source": [
    "### 验证 SWAP Gate\n",
    "\n",
    "另一个对两量子比特做操作的门是 SWAP gate，它的作用是将 |01> 翻转为 |10>, 或者将 |10> 翻转成 |01>。其矩阵形式为，\n",
    "\\begin{align}\n",
    "{\\rm SWAP} = \\begin{bmatrix} 1 & 0 & 0 & 0\\\\ 0 & 0 & 1 & 0 \\\\ 0 & 1 & 0 & 0\\\\ 0 & 0 & 0 & 1 \\end{bmatrix} \n",
    "\\end{align}"
   ]
  },
  {
   "cell_type": "code",
   "execution_count": 39,
   "metadata": {
    "slideshow": {
     "slide_type": "fragment"
    }
   },
   "outputs": [
    {
     "data": {
      "text/markdown": [
       "1$|01\\rangle$"
      ],
      "text/plain": [
       "<IPython.core.display.Markdown object>"
      ]
     },
     "execution_count": 39,
     "metadata": {},
     "output_type": "execute_result"
    }
   ],
   "source": [
    "print_wf(SWAP * basis('10'))"
   ]
  },
  {
   "cell_type": "markdown",
   "metadata": {
    "slideshow": {
     "slide_type": "slide"
    }
   },
   "source": [
    "### 纠缠态的制备\n",
    "\n",
    "对 $|00\\rangle$ 的左边那位做 Hadamard 门操作变成 \n",
    "\n",
    "$\\frac{1}{\\sqrt{2}}(|0\\rangle + |1\\rangle)|0\\rangle $ \n",
    "\n",
    "然后再接一个 CNOT 门操作，就会制备出纠缠态： \n",
    "\n",
    "$\\frac{1}{\\sqrt{2}}(|00\\rangle + |11\\rangle) $"
   ]
  },
  {
   "cell_type": "code",
   "execution_count": 40,
   "metadata": {
    "slideshow": {
     "slide_type": "fragment"
    }
   },
   "outputs": [
    {
     "data": {
      "text/markdown": [
       "0.7071067811865475$|00\\rangle$+0.7071067811865475$|11\\rangle$"
      ],
      "text/plain": [
       "<IPython.core.display.Markdown object>"
      ]
     },
     "execution_count": 40,
     "metadata": {},
     "output_type": "execute_result"
    }
   ],
   "source": [
    "# HI 等于 H 与 I 的直积\n",
    "HI = kron(H, I)\n",
    "print_wf(CNOT * HI * basis('00'))"
   ]
  },
  {
   "cell_type": "markdown",
   "metadata": {
    "slideshow": {
     "slide_type": "slide"
    }
   },
   "source": [
    "同样的 Hadamard+CNOT 门操作，选择不同的输入，$|00>, |01>, |10> 以及 |11>$, 将会产生如下4个纠缠态(同时也是贝尔不等式的四个贝尔态），\n",
    "\\begin{align}\n",
    "\\frac{1}{\\sqrt{2}}(|00\\rangle + |11\\rangle), \\quad\\; \\frac{1}{\\sqrt{2}}(|00\\rangle - |11\\rangle), \\quad\\; \\frac{1}{\\sqrt{2}}(|01\\rangle + |10\\rangle), \\quad\\; \\frac{1}{\\sqrt{2}}(|01\\rangle - |10\\rangle) \n",
    "\\end{align}\n",
    "\n",
    "第四个纠缠态 \n",
    "$\\frac{1}{\\sqrt{2}}(|01\\rangle - |10\\rangle)$\n",
    "也称 EPR 态，来自于爱因斯坦和另外两个科学家一起提出的用来推翻量子力学的著名假想实验，EPR佯谬。\n",
    "\n",
    "有了叠加态和纠缠态，就可以试着在量子计算机上做一些有意思的实验，比如 Bell 不等式实验。"
   ]
  },
  {
   "cell_type": "markdown",
   "metadata": {
    "slideshow": {
     "slide_type": "slide"
    }
   },
   "source": [
    "## 作业\n",
    "\n",
    "将上述代码中会复用的部分搜集在一个文件中，命名为 qubit.py, 然后尝试在 jupyter notebook 中以库的形式调用,\n",
    "1. 实现四个 Bell 态\n",
    "2. 使用 EPR 态验证量子力学破坏了贝尔不等式, 即 $C = \\langle Q S \\rangle - \\langle Q T \\rangle  + \\langle R S \\rangle + \\langle R T \\rangle  = 2\\sqrt{2} \\gt 2$.\n",
    "\n",
    "比如：\n",
    "\n",
    "```python\n",
    "from qubit import H, I, CNOT, kron\n",
    "\n",
    "HI = kron(H, I)\n",
    "epr = CNOT * HI * basis('11')\n",
    "\n",
    "def avg(O1, O2):\n",
    "    return *** （此处自己实现）\n",
    "\n",
    "c = avg(Q, S) - avg(Q, T) + avg(R, S) + avg(R, T)\n",
    "c\n",
    "```\n",
    "c 的预期输出为：matrix([[2.82842712]])"
   ]
  }
 ],
 "metadata": {
  "celltoolbar": "Slideshow",
  "kernelspec": {
   "display_name": "Python 3",
   "language": "python",
   "name": "python3"
  },
  "language_info": {
   "codemirror_mode": {
    "name": "ipython",
    "version": 3
   },
   "file_extension": ".py",
   "mimetype": "text/x-python",
   "name": "python",
   "nbconvert_exporter": "python",
   "pygments_lexer": "ipython3",
   "version": "3.8.3"
  },
  "rise": {
   "enable_chalkboard": true,
   "scroll": true
  }
 },
 "nbformat": 4,
 "nbformat_minor": 4
}
